{
  "nbformat": 4,
  "nbformat_minor": 0,
  "metadata": {
    "colab": {
      "name": "flipr_hackathon.ipynb",
      "provenance": [],
      "collapsed_sections": []
    },
    "kernelspec": {
      "name": "python3",
      "display_name": "Python 3"
    }
  },
  "cells": [
    {
      "cell_type": "code",
      "metadata": {
        "id": "U21cHh7qFzDR",
        "colab_type": "code",
        "outputId": "a0223704-859e-42bb-f595-95f43865cf71",
        "colab": {
          "resources": {
            "http://localhost:8080/nbextensions/google.colab/files.js": {
              "data": "Ly8gQ29weXJpZ2h0IDIwMTcgR29vZ2xlIExMQwovLwovLyBMaWNlbnNlZCB1bmRlciB0aGUgQXBhY2hlIExpY2Vuc2UsIFZlcnNpb24gMi4wICh0aGUgIkxpY2Vuc2UiKTsKLy8geW91IG1heSBub3QgdXNlIHRoaXMgZmlsZSBleGNlcHQgaW4gY29tcGxpYW5jZSB3aXRoIHRoZSBMaWNlbnNlLgovLyBZb3UgbWF5IG9idGFpbiBhIGNvcHkgb2YgdGhlIExpY2Vuc2UgYXQKLy8KLy8gICAgICBodHRwOi8vd3d3LmFwYWNoZS5vcmcvbGljZW5zZXMvTElDRU5TRS0yLjAKLy8KLy8gVW5sZXNzIHJlcXVpcmVkIGJ5IGFwcGxpY2FibGUgbGF3IG9yIGFncmVlZCB0byBpbiB3cml0aW5nLCBzb2Z0d2FyZQovLyBkaXN0cmlidXRlZCB1bmRlciB0aGUgTGljZW5zZSBpcyBkaXN0cmlidXRlZCBvbiBhbiAiQVMgSVMiIEJBU0lTLAovLyBXSVRIT1VUIFdBUlJBTlRJRVMgT1IgQ09ORElUSU9OUyBPRiBBTlkgS0lORCwgZWl0aGVyIGV4cHJlc3Mgb3IgaW1wbGllZC4KLy8gU2VlIHRoZSBMaWNlbnNlIGZvciB0aGUgc3BlY2lmaWMgbGFuZ3VhZ2UgZ292ZXJuaW5nIHBlcm1pc3Npb25zIGFuZAovLyBsaW1pdGF0aW9ucyB1bmRlciB0aGUgTGljZW5zZS4KCi8qKgogKiBAZmlsZW92ZXJ2aWV3IEhlbHBlcnMgZm9yIGdvb2dsZS5jb2xhYiBQeXRob24gbW9kdWxlLgogKi8KKGZ1bmN0aW9uKHNjb3BlKSB7CmZ1bmN0aW9uIHNwYW4odGV4dCwgc3R5bGVBdHRyaWJ1dGVzID0ge30pIHsKICBjb25zdCBlbGVtZW50ID0gZG9jdW1lbnQuY3JlYXRlRWxlbWVudCgnc3BhbicpOwogIGVsZW1lbnQudGV4dENvbnRlbnQgPSB0ZXh0OwogIGZvciAoY29uc3Qga2V5IG9mIE9iamVjdC5rZXlzKHN0eWxlQXR0cmlidXRlcykpIHsKICAgIGVsZW1lbnQuc3R5bGVba2V5XSA9IHN0eWxlQXR0cmlidXRlc1trZXldOwogIH0KICByZXR1cm4gZWxlbWVudDsKfQoKLy8gTWF4IG51bWJlciBvZiBieXRlcyB3aGljaCB3aWxsIGJlIHVwbG9hZGVkIGF0IGEgdGltZS4KY29uc3QgTUFYX1BBWUxPQURfU0laRSA9IDEwMCAqIDEwMjQ7Ci8vIE1heCBhbW91bnQgb2YgdGltZSB0byBibG9jayB3YWl0aW5nIGZvciB0aGUgdXNlci4KY29uc3QgRklMRV9DSEFOR0VfVElNRU9VVF9NUyA9IDMwICogMTAwMDsKCmZ1bmN0aW9uIF91cGxvYWRGaWxlcyhpbnB1dElkLCBvdXRwdXRJZCkgewogIGNvbnN0IHN0ZXBzID0gdXBsb2FkRmlsZXNTdGVwKGlucHV0SWQsIG91dHB1dElkKTsKICBjb25zdCBvdXRwdXRFbGVtZW50ID0gZG9jdW1lbnQuZ2V0RWxlbWVudEJ5SWQob3V0cHV0SWQpOwogIC8vIENhY2hlIHN0ZXBzIG9uIHRoZSBvdXRwdXRFbGVtZW50IHRvIG1ha2UgaXQgYXZhaWxhYmxlIGZvciB0aGUgbmV4dCBjYWxsCiAgLy8gdG8gdXBsb2FkRmlsZXNDb250aW51ZSBmcm9tIFB5dGhvbi4KICBvdXRwdXRFbGVtZW50LnN0ZXBzID0gc3RlcHM7CgogIHJldHVybiBfdXBsb2FkRmlsZXNDb250aW51ZShvdXRwdXRJZCk7Cn0KCi8vIFRoaXMgaXMgcm91Z2hseSBhbiBhc3luYyBnZW5lcmF0b3IgKG5vdCBzdXBwb3J0ZWQgaW4gdGhlIGJyb3dzZXIgeWV0KSwKLy8gd2hlcmUgdGhlcmUgYXJlIG11bHRpcGxlIGFzeW5jaHJvbm91cyBzdGVwcyBhbmQgdGhlIFB5dGhvbiBzaWRlIGlzIGdvaW5nCi8vIHRvIHBvbGwgZm9yIGNvbXBsZXRpb24gb2YgZWFjaCBzdGVwLgovLyBUaGlzIHVzZXMgYSBQcm9taXNlIHRvIGJsb2NrIHRoZSBweXRob24gc2lkZSBvbiBjb21wbGV0aW9uIG9mIGVhY2ggc3RlcCwKLy8gdGhlbiBwYXNzZXMgdGhlIHJlc3VsdCBvZiB0aGUgcHJldmlvdXMgc3RlcCBhcyB0aGUgaW5wdXQgdG8gdGhlIG5leHQgc3RlcC4KZnVuY3Rpb24gX3VwbG9hZEZpbGVzQ29udGludWUob3V0cHV0SWQpIHsKICBjb25zdCBvdXRwdXRFbGVtZW50ID0gZG9jdW1lbnQuZ2V0RWxlbWVudEJ5SWQob3V0cHV0SWQpOwogIGNvbnN0IHN0ZXBzID0gb3V0cHV0RWxlbWVudC5zdGVwczsKCiAgY29uc3QgbmV4dCA9IHN0ZXBzLm5leHQob3V0cHV0RWxlbWVudC5sYXN0UHJvbWlzZVZhbHVlKTsKICByZXR1cm4gUHJvbWlzZS5yZXNvbHZlKG5leHQudmFsdWUucHJvbWlzZSkudGhlbigodmFsdWUpID0+IHsKICAgIC8vIENhY2hlIHRoZSBsYXN0IHByb21pc2UgdmFsdWUgdG8gbWFrZSBpdCBhdmFpbGFibGUgdG8gdGhlIG5leHQKICAgIC8vIHN0ZXAgb2YgdGhlIGdlbmVyYXRvci4KICAgIG91dHB1dEVsZW1lbnQubGFzdFByb21pc2VWYWx1ZSA9IHZhbHVlOwogICAgcmV0dXJuIG5leHQudmFsdWUucmVzcG9uc2U7CiAgfSk7Cn0KCi8qKgogKiBHZW5lcmF0b3IgZnVuY3Rpb24gd2hpY2ggaXMgY2FsbGVkIGJldHdlZW4gZWFjaCBhc3luYyBzdGVwIG9mIHRoZSB1cGxvYWQKICogcHJvY2Vzcy4KICogQHBhcmFtIHtzdHJpbmd9IGlucHV0SWQgRWxlbWVudCBJRCBvZiB0aGUgaW5wdXQgZmlsZSBwaWNrZXIgZWxlbWVudC4KICogQHBhcmFtIHtzdHJpbmd9IG91dHB1dElkIEVsZW1lbnQgSUQgb2YgdGhlIG91dHB1dCBkaXNwbGF5LgogKiBAcmV0dXJuIHshSXRlcmFibGU8IU9iamVjdD59IEl0ZXJhYmxlIG9mIG5leHQgc3RlcHMuCiAqLwpmdW5jdGlvbiogdXBsb2FkRmlsZXNTdGVwKGlucHV0SWQsIG91dHB1dElkKSB7CiAgY29uc3QgaW5wdXRFbGVtZW50ID0gZG9jdW1lbnQuZ2V0RWxlbWVudEJ5SWQoaW5wdXRJZCk7CiAgaW5wdXRFbGVtZW50LmRpc2FibGVkID0gZmFsc2U7CgogIGNvbnN0IG91dHB1dEVsZW1lbnQgPSBkb2N1bWVudC5nZXRFbGVtZW50QnlJZChvdXRwdXRJZCk7CiAgb3V0cHV0RWxlbWVudC5pbm5lckhUTUwgPSAnJzsKCiAgY29uc3QgcGlja2VkUHJvbWlzZSA9IG5ldyBQcm9taXNlKChyZXNvbHZlKSA9PiB7CiAgICBpbnB1dEVsZW1lbnQuYWRkRXZlbnRMaXN0ZW5lcignY2hhbmdlJywgKGUpID0+IHsKICAgICAgcmVzb2x2ZShlLnRhcmdldC5maWxlcyk7CiAgICB9KTsKICB9KTsKCiAgY29uc3QgY2FuY2VsID0gZG9jdW1lbnQuY3JlYXRlRWxlbWVudCgnYnV0dG9uJyk7CiAgaW5wdXRFbGVtZW50LnBhcmVudEVsZW1lbnQuYXBwZW5kQ2hpbGQoY2FuY2VsKTsKICBjYW5jZWwudGV4dENvbnRlbnQgPSAnQ2FuY2VsIHVwbG9hZCc7CiAgY29uc3QgY2FuY2VsUHJvbWlzZSA9IG5ldyBQcm9taXNlKChyZXNvbHZlKSA9PiB7CiAgICBjYW5jZWwub25jbGljayA9ICgpID0+IHsKICAgICAgcmVzb2x2ZShudWxsKTsKICAgIH07CiAgfSk7CgogIC8vIENhbmNlbCB1cGxvYWQgaWYgdXNlciBoYXNuJ3QgcGlja2VkIGFueXRoaW5nIGluIHRpbWVvdXQuCiAgY29uc3QgdGltZW91dFByb21pc2UgPSBuZXcgUHJvbWlzZSgocmVzb2x2ZSkgPT4gewogICAgc2V0VGltZW91dCgoKSA9PiB7CiAgICAgIHJlc29sdmUobnVsbCk7CiAgICB9LCBGSUxFX0NIQU5HRV9USU1FT1VUX01TKTsKICB9KTsKCiAgLy8gV2FpdCBmb3IgdGhlIHVzZXIgdG8gcGljayB0aGUgZmlsZXMuCiAgY29uc3QgZmlsZXMgPSB5aWVsZCB7CiAgICBwcm9taXNlOiBQcm9taXNlLnJhY2UoW3BpY2tlZFByb21pc2UsIHRpbWVvdXRQcm9taXNlLCBjYW5jZWxQcm9taXNlXSksCiAgICByZXNwb25zZTogewogICAgICBhY3Rpb246ICdzdGFydGluZycsCiAgICB9CiAgfTsKCiAgaWYgKCFmaWxlcykgewogICAgcmV0dXJuIHsKICAgICAgcmVzcG9uc2U6IHsKICAgICAgICBhY3Rpb246ICdjb21wbGV0ZScsCiAgICAgIH0KICAgIH07CiAgfQoKICBjYW5jZWwucmVtb3ZlKCk7CgogIC8vIERpc2FibGUgdGhlIGlucHV0IGVsZW1lbnQgc2luY2UgZnVydGhlciBwaWNrcyBhcmUgbm90IGFsbG93ZWQuCiAgaW5wdXRFbGVtZW50LmRpc2FibGVkID0gdHJ1ZTsKCiAgZm9yIChjb25zdCBmaWxlIG9mIGZpbGVzKSB7CiAgICBjb25zdCBsaSA9IGRvY3VtZW50LmNyZWF0ZUVsZW1lbnQoJ2xpJyk7CiAgICBsaS5hcHBlbmQoc3BhbihmaWxlLm5hbWUsIHtmb250V2VpZ2h0OiAnYm9sZCd9KSk7CiAgICBsaS5hcHBlbmQoc3BhbigKICAgICAgICBgKCR7ZmlsZS50eXBlIHx8ICduL2EnfSkgLSAke2ZpbGUuc2l6ZX0gYnl0ZXMsIGAgKwogICAgICAgIGBsYXN0IG1vZGlmaWVkOiAkewogICAgICAgICAgICBmaWxlLmxhc3RNb2RpZmllZERhdGUgPyBmaWxlLmxhc3RNb2RpZmllZERhdGUudG9Mb2NhbGVEYXRlU3RyaW5nKCkgOgogICAgICAgICAgICAgICAgICAgICAgICAgICAgICAgICAgICAnbi9hJ30gLSBgKSk7CiAgICBjb25zdCBwZXJjZW50ID0gc3BhbignMCUgZG9uZScpOwogICAgbGkuYXBwZW5kQ2hpbGQocGVyY2VudCk7CgogICAgb3V0cHV0RWxlbWVudC5hcHBlbmRDaGlsZChsaSk7CgogICAgY29uc3QgZmlsZURhdGFQcm9taXNlID0gbmV3IFByb21pc2UoKHJlc29sdmUpID0+IHsKICAgICAgY29uc3QgcmVhZGVyID0gbmV3IEZpbGVSZWFkZXIoKTsKICAgICAgcmVhZGVyLm9ubG9hZCA9IChlKSA9PiB7CiAgICAgICAgcmVzb2x2ZShlLnRhcmdldC5yZXN1bHQpOwogICAgICB9OwogICAgICByZWFkZXIucmVhZEFzQXJyYXlCdWZmZXIoZmlsZSk7CiAgICB9KTsKICAgIC8vIFdhaXQgZm9yIHRoZSBkYXRhIHRvIGJlIHJlYWR5LgogICAgbGV0IGZpbGVEYXRhID0geWllbGQgewogICAgICBwcm9taXNlOiBmaWxlRGF0YVByb21pc2UsCiAgICAgIHJlc3BvbnNlOiB7CiAgICAgICAgYWN0aW9uOiAnY29udGludWUnLAogICAgICB9CiAgICB9OwoKICAgIC8vIFVzZSBhIGNodW5rZWQgc2VuZGluZyB0byBhdm9pZCBtZXNzYWdlIHNpemUgbGltaXRzLiBTZWUgYi82MjExNTY2MC4KICAgIGxldCBwb3NpdGlvbiA9IDA7CiAgICB3aGlsZSAocG9zaXRpb24gPCBmaWxlRGF0YS5ieXRlTGVuZ3RoKSB7CiAgICAgIGNvbnN0IGxlbmd0aCA9IE1hdGgubWluKGZpbGVEYXRhLmJ5dGVMZW5ndGggLSBwb3NpdGlvbiwgTUFYX1BBWUxPQURfU0laRSk7CiAgICAgIGNvbnN0IGNodW5rID0gbmV3IFVpbnQ4QXJyYXkoZmlsZURhdGEsIHBvc2l0aW9uLCBsZW5ndGgpOwogICAgICBwb3NpdGlvbiArPSBsZW5ndGg7CgogICAgICBjb25zdCBiYXNlNjQgPSBidG9hKFN0cmluZy5mcm9tQ2hhckNvZGUuYXBwbHkobnVsbCwgY2h1bmspKTsKICAgICAgeWllbGQgewogICAgICAgIHJlc3BvbnNlOiB7CiAgICAgICAgICBhY3Rpb246ICdhcHBlbmQnLAogICAgICAgICAgZmlsZTogZmlsZS5uYW1lLAogICAgICAgICAgZGF0YTogYmFzZTY0LAogICAgICAgIH0sCiAgICAgIH07CiAgICAgIHBlcmNlbnQudGV4dENvbnRlbnQgPQogICAgICAgICAgYCR7TWF0aC5yb3VuZCgocG9zaXRpb24gLyBmaWxlRGF0YS5ieXRlTGVuZ3RoKSAqIDEwMCl9JSBkb25lYDsKICAgIH0KICB9CgogIC8vIEFsbCBkb25lLgogIHlpZWxkIHsKICAgIHJlc3BvbnNlOiB7CiAgICAgIGFjdGlvbjogJ2NvbXBsZXRlJywKICAgIH0KICB9Owp9CgpzY29wZS5nb29nbGUgPSBzY29wZS5nb29nbGUgfHwge307CnNjb3BlLmdvb2dsZS5jb2xhYiA9IHNjb3BlLmdvb2dsZS5jb2xhYiB8fCB7fTsKc2NvcGUuZ29vZ2xlLmNvbGFiLl9maWxlcyA9IHsKICBfdXBsb2FkRmlsZXMsCiAgX3VwbG9hZEZpbGVzQ29udGludWUsCn07Cn0pKHNlbGYpOwo=",
              "ok": true,
              "headers": [
                [
                  "content-type",
                  "application/javascript"
                ]
              ],
              "status": 200,
              "status_text": ""
            }
          },
          "base_uri": "https://localhost:8080/",
          "height": 73
        }
      },
      "source": [
        "from google.colab import files\n",
        "uploaded = files.upload()"
      ],
      "execution_count": 0,
      "outputs": [
        {
          "output_type": "display_data",
          "data": {
            "text/html": [
              "\n",
              "     <input type=\"file\" id=\"files-a7ca0f33-bfda-48ff-9223-36e95a8999a0\" name=\"files[]\" multiple disabled />\n",
              "     <output id=\"result-a7ca0f33-bfda-48ff-9223-36e95a8999a0\">\n",
              "      Upload widget is only available when the cell has been executed in the\n",
              "      current browser session. Please rerun this cell to enable.\n",
              "      </output>\n",
              "      <script src=\"/nbextensions/google.colab/files.js\"></script> "
            ],
            "text/plain": [
              "<IPython.core.display.HTML object>"
            ]
          },
          "metadata": {
            "tags": []
          }
        },
        {
          "output_type": "stream",
          "text": [
            "Saving Train_dataset.csv to Train_dataset (2).csv\n"
          ],
          "name": "stdout"
        }
      ]
    },
    {
      "cell_type": "code",
      "metadata": {
        "id": "m5Naa5Ee90-t",
        "colab_type": "code",
        "colab": {
          "resources": {
            "http://localhost:8080/nbextensions/google.colab/files.js": {
              "data": "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",
              "ok": true,
              "headers": [
                [
                  "content-type",
                  "application/javascript"
                ]
              ],
              "status": 200,
              "status_text": ""
            }
          },
          "base_uri": "https://localhost:8080/",
          "height": 73
        },
        "outputId": "fe405226-9890-4357-bfb2-b1fe77d3cfe7"
      },
      "source": [
        "from google.colab import files\n",
        "uploaded = files.upload()"
      ],
      "execution_count": 118,
      "outputs": [
        {
          "output_type": "display_data",
          "data": {
            "text/html": [
              "\n",
              "     <input type=\"file\" id=\"files-b5143ddd-146e-4ba7-96fe-c6f7bada94d6\" name=\"files[]\" multiple disabled />\n",
              "     <output id=\"result-b5143ddd-146e-4ba7-96fe-c6f7bada94d6\">\n",
              "      Upload widget is only available when the cell has been executed in the\n",
              "      current browser session. Please rerun this cell to enable.\n",
              "      </output>\n",
              "      <script src=\"/nbextensions/google.colab/files.js\"></script> "
            ],
            "text/plain": [
              "<IPython.core.display.HTML object>"
            ]
          },
          "metadata": {
            "tags": []
          }
        },
        {
          "output_type": "stream",
          "text": [
            "Saving Test_dataset.csv to Test_dataset.csv\n"
          ],
          "name": "stdout"
        }
      ]
    },
    {
      "cell_type": "code",
      "metadata": {
        "id": "IYNmdso9HCFG",
        "colab_type": "code",
        "colab": {}
      },
      "source": [
        "import pandas as pd\n",
        "import numpy as np\n",
        "import seaborn as sns\n",
        "\n",
        "\n",
        "from scipy.stats import skew, norm\n",
        "from scipy import stats\n",
        "from scipy.stats import norm, skew #for some statistics\n",
        "from scipy.special import boxcox1p\n",
        "from scipy.stats import boxcox_normmax\n",
        "\n",
        "import matplotlib.pyplot as plt\n",
        "\n"
      ],
      "execution_count": 0,
      "outputs": []
    },
    {
      "cell_type": "code",
      "metadata": {
        "id": "kUqSzOYPGcOH",
        "colab_type": "code",
        "outputId": "5c75d484-b583-4a09-ed32-46885aa2b598",
        "colab": {
          "base_uri": "https://localhost:8080/",
          "height": 334
        }
      },
      "source": [
        "gold=pd.read_csv('Train_dataset (2).csv')\n",
        "gold.head(5)\n"
      ],
      "execution_count": 335,
      "outputs": [
        {
          "output_type": "execute_result",
          "data": {
            "text/html": [
              "<div>\n",
              "<style scoped>\n",
              "    .dataframe tbody tr th:only-of-type {\n",
              "        vertical-align: middle;\n",
              "    }\n",
              "\n",
              "    .dataframe tbody tr th {\n",
              "        vertical-align: top;\n",
              "    }\n",
              "\n",
              "    .dataframe thead th {\n",
              "        text-align: right;\n",
              "    }\n",
              "</style>\n",
              "<table border=\"1\" class=\"dataframe\">\n",
              "  <thead>\n",
              "    <tr style=\"text-align: right;\">\n",
              "      <th></th>\n",
              "      <th>people_ID</th>\n",
              "      <th>Region</th>\n",
              "      <th>Gender</th>\n",
              "      <th>Designation</th>\n",
              "      <th>Name</th>\n",
              "      <th>Married</th>\n",
              "      <th>Children</th>\n",
              "      <th>Occupation</th>\n",
              "      <th>Mode_transport</th>\n",
              "      <th>cases/1M</th>\n",
              "      <th>Deaths/1M</th>\n",
              "      <th>comorbidity</th>\n",
              "      <th>Age</th>\n",
              "      <th>Coma score</th>\n",
              "      <th>Pulmonary score</th>\n",
              "      <th>cardiological pressure</th>\n",
              "      <th>Diuresis</th>\n",
              "      <th>Platelets</th>\n",
              "      <th>HBB</th>\n",
              "      <th>d-dimer</th>\n",
              "      <th>Heart rate</th>\n",
              "      <th>HDL cholesterol</th>\n",
              "      <th>Charlson Index</th>\n",
              "      <th>Blood Glucose</th>\n",
              "      <th>Insurance</th>\n",
              "      <th>salary</th>\n",
              "      <th>FT/month</th>\n",
              "      <th>Infect_Prob</th>\n",
              "    </tr>\n",
              "  </thead>\n",
              "  <tbody>\n",
              "    <tr>\n",
              "      <th>0</th>\n",
              "      <td>4</td>\n",
              "      <td>Bhubaneshwar</td>\n",
              "      <td>Female</td>\n",
              "      <td>Mrs</td>\n",
              "      <td>anjali @ babli</td>\n",
              "      <td>YES</td>\n",
              "      <td>1.0</td>\n",
              "      <td>Driver</td>\n",
              "      <td>Car</td>\n",
              "      <td>2</td>\n",
              "      <td>0</td>\n",
              "      <td>Coronary Heart Disease</td>\n",
              "      <td>33</td>\n",
              "      <td>9</td>\n",
              "      <td>&lt;200</td>\n",
              "      <td>Stage-01</td>\n",
              "      <td>410.0</td>\n",
              "      <td>98.0</td>\n",
              "      <td>167.0</td>\n",
              "      <td>275.0</td>\n",
              "      <td>64.0</td>\n",
              "      <td>60.0</td>\n",
              "      <td>27</td>\n",
              "      <td>7</td>\n",
              "      <td>700000.0</td>\n",
              "      <td>2300000</td>\n",
              "      <td>1.0</td>\n",
              "      <td>48.779225</td>\n",
              "    </tr>\n",
              "    <tr>\n",
              "      <th>1</th>\n",
              "      <td>13</td>\n",
              "      <td>Bhubaneshwar</td>\n",
              "      <td>Female</td>\n",
              "      <td>Mrs</td>\n",
              "      <td>karina @ kavita</td>\n",
              "      <td>NO</td>\n",
              "      <td>NaN</td>\n",
              "      <td>NaN</td>\n",
              "      <td>Public</td>\n",
              "      <td>2</td>\n",
              "      <td>0</td>\n",
              "      <td>Diabetes</td>\n",
              "      <td>18</td>\n",
              "      <td>15</td>\n",
              "      <td>&lt;200</td>\n",
              "      <td>Stage-01</td>\n",
              "      <td>403.0</td>\n",
              "      <td>39.0</td>\n",
              "      <td>174.0</td>\n",
              "      <td>213.0</td>\n",
              "      <td>98.0</td>\n",
              "      <td>43.0</td>\n",
              "      <td>33</td>\n",
              "      <td>3</td>\n",
              "      <td>NaN</td>\n",
              "      <td>2300000</td>\n",
              "      <td>2.0</td>\n",
              "      <td>35.147520</td>\n",
              "    </tr>\n",
              "    <tr>\n",
              "      <th>2</th>\n",
              "      <td>19</td>\n",
              "      <td>Bhubaneshwar</td>\n",
              "      <td>Female</td>\n",
              "      <td>Mrs</td>\n",
              "      <td>rinukanwr</td>\n",
              "      <td>YES</td>\n",
              "      <td>1.0</td>\n",
              "      <td>Clerk</td>\n",
              "      <td>Public</td>\n",
              "      <td>2</td>\n",
              "      <td>0</td>\n",
              "      <td>Coronary Heart Disease</td>\n",
              "      <td>65</td>\n",
              "      <td>9</td>\n",
              "      <td>&lt;400</td>\n",
              "      <td>Normal</td>\n",
              "      <td>181.0</td>\n",
              "      <td>80.0</td>\n",
              "      <td>177.0</td>\n",
              "      <td>287.0</td>\n",
              "      <td>52.0</td>\n",
              "      <td>66.0</td>\n",
              "      <td>37</td>\n",
              "      <td>4</td>\n",
              "      <td>3900000.0</td>\n",
              "      <td>2300000</td>\n",
              "      <td>0.0</td>\n",
              "      <td>48.868666</td>\n",
              "    </tr>\n",
              "    <tr>\n",
              "      <th>3</th>\n",
              "      <td>59</td>\n",
              "      <td>Bhubaneshwar</td>\n",
              "      <td>Female</td>\n",
              "      <td>Mrs</td>\n",
              "      <td>priya kumar</td>\n",
              "      <td>NO</td>\n",
              "      <td>2.0</td>\n",
              "      <td>Manufacturing</td>\n",
              "      <td>Walk</td>\n",
              "      <td>2</td>\n",
              "      <td>0</td>\n",
              "      <td>Diabetes</td>\n",
              "      <td>26</td>\n",
              "      <td>15</td>\n",
              "      <td>&lt;300</td>\n",
              "      <td>Elevated</td>\n",
              "      <td>347.0</td>\n",
              "      <td>140.0</td>\n",
              "      <td>54.0</td>\n",
              "      <td>215.0</td>\n",
              "      <td>89.0</td>\n",
              "      <td>47.0</td>\n",
              "      <td>8</td>\n",
              "      <td>5</td>\n",
              "      <td>1700000.0</td>\n",
              "      <td>2300000</td>\n",
              "      <td>0.0</td>\n",
              "      <td>50.698176</td>\n",
              "    </tr>\n",
              "    <tr>\n",
              "      <th>4</th>\n",
              "      <td>98</td>\n",
              "      <td>Bhubaneshwar</td>\n",
              "      <td>Female</td>\n",
              "      <td>Mrs</td>\n",
              "      <td>jyoti</td>\n",
              "      <td>YES</td>\n",
              "      <td>2.0</td>\n",
              "      <td>Cleaner</td>\n",
              "      <td>Car</td>\n",
              "      <td>2</td>\n",
              "      <td>0</td>\n",
              "      <td>Diabetes</td>\n",
              "      <td>42</td>\n",
              "      <td>11</td>\n",
              "      <td>&lt;400</td>\n",
              "      <td>Normal</td>\n",
              "      <td>149.0</td>\n",
              "      <td>NaN</td>\n",
              "      <td>206.0</td>\n",
              "      <td>NaN</td>\n",
              "      <td>NaN</td>\n",
              "      <td>65.0</td>\n",
              "      <td>28</td>\n",
              "      <td>3</td>\n",
              "      <td>500000.0</td>\n",
              "      <td>2300000</td>\n",
              "      <td>2.0</td>\n",
              "      <td>50.437683</td>\n",
              "    </tr>\n",
              "  </tbody>\n",
              "</table>\n",
              "</div>"
            ],
            "text/plain": [
              "   people_ID        Region  Gender  ...   salary FT/month Infect_Prob\n",
              "0          4  Bhubaneshwar  Female  ...  2300000      1.0   48.779225\n",
              "1         13  Bhubaneshwar  Female  ...  2300000      2.0   35.147520\n",
              "2         19  Bhubaneshwar  Female  ...  2300000      0.0   48.868666\n",
              "3         59  Bhubaneshwar  Female  ...  2300000      0.0   50.698176\n",
              "4         98  Bhubaneshwar  Female  ...  2300000      2.0   50.437683\n",
              "\n",
              "[5 rows x 28 columns]"
            ]
          },
          "metadata": {
            "tags": []
          },
          "execution_count": 335
        }
      ]
    },
    {
      "cell_type": "code",
      "metadata": {
        "id": "HGLCpL_w-Pbp",
        "colab_type": "code",
        "colab": {
          "base_uri": "https://localhost:8080/",
          "height": 284
        },
        "outputId": "9ac5f2e7-832b-4b28-eecf-11d31a2579e2"
      },
      "source": [
        "gold1=pd.read_csv('Test_dataset.csv')\n",
        "gold1.head(5)\n"
      ],
      "execution_count": 452,
      "outputs": [
        {
          "output_type": "execute_result",
          "data": {
            "text/html": [
              "<div>\n",
              "<style scoped>\n",
              "    .dataframe tbody tr th:only-of-type {\n",
              "        vertical-align: middle;\n",
              "    }\n",
              "\n",
              "    .dataframe tbody tr th {\n",
              "        vertical-align: top;\n",
              "    }\n",
              "\n",
              "    .dataframe thead th {\n",
              "        text-align: right;\n",
              "    }\n",
              "</style>\n",
              "<table border=\"1\" class=\"dataframe\">\n",
              "  <thead>\n",
              "    <tr style=\"text-align: right;\">\n",
              "      <th></th>\n",
              "      <th>people_ID</th>\n",
              "      <th>Region</th>\n",
              "      <th>Gender</th>\n",
              "      <th>Designation</th>\n",
              "      <th>Name</th>\n",
              "      <th>Married</th>\n",
              "      <th>Children</th>\n",
              "      <th>Occupation</th>\n",
              "      <th>Mode_transport</th>\n",
              "      <th>cases/1M</th>\n",
              "      <th>Deaths/1M</th>\n",
              "      <th>comorbidity</th>\n",
              "      <th>Age</th>\n",
              "      <th>Coma score</th>\n",
              "      <th>Pulmonary score</th>\n",
              "      <th>cardiological pressure</th>\n",
              "      <th>Diuresis</th>\n",
              "      <th>Platelets</th>\n",
              "      <th>HBB</th>\n",
              "      <th>d-dimer</th>\n",
              "      <th>Heart rate</th>\n",
              "      <th>HDL cholesterol</th>\n",
              "      <th>Charlson Index</th>\n",
              "      <th>Blood Glucose</th>\n",
              "      <th>Insurance</th>\n",
              "      <th>salary</th>\n",
              "      <th>FT/month</th>\n",
              "    </tr>\n",
              "  </thead>\n",
              "  <tbody>\n",
              "    <tr>\n",
              "      <th>0</th>\n",
              "      <td>5942</td>\n",
              "      <td>Delhi</td>\n",
              "      <td>Female</td>\n",
              "      <td>Mrs</td>\n",
              "      <td>smt rekha prajapat</td>\n",
              "      <td>YES</td>\n",
              "      <td>2</td>\n",
              "      <td>Driver</td>\n",
              "      <td>Public</td>\n",
              "      <td>4</td>\n",
              "      <td>1</td>\n",
              "      <td>Diabetes</td>\n",
              "      <td>52</td>\n",
              "      <td>3</td>\n",
              "      <td>&lt;200</td>\n",
              "      <td>Stage-01</td>\n",
              "      <td>388</td>\n",
              "      <td>153</td>\n",
              "      <td>196</td>\n",
              "      <td>240</td>\n",
              "      <td>85</td>\n",
              "      <td>53</td>\n",
              "      <td>17</td>\n",
              "      <td>3</td>\n",
              "      <td>3900000</td>\n",
              "      <td>1300000</td>\n",
              "      <td>1</td>\n",
              "    </tr>\n",
              "    <tr>\n",
              "      <th>1</th>\n",
              "      <td>18664</td>\n",
              "      <td>Delhi</td>\n",
              "      <td>Male</td>\n",
              "      <td>Mr</td>\n",
              "      <td>nirmal</td>\n",
              "      <td>YES</td>\n",
              "      <td>2</td>\n",
              "      <td>Legal</td>\n",
              "      <td>Walk</td>\n",
              "      <td>4</td>\n",
              "      <td>1</td>\n",
              "      <td>Diabetes</td>\n",
              "      <td>53</td>\n",
              "      <td>11</td>\n",
              "      <td>&lt;200</td>\n",
              "      <td>Stage-01</td>\n",
              "      <td>409</td>\n",
              "      <td>95</td>\n",
              "      <td>138</td>\n",
              "      <td>241</td>\n",
              "      <td>81</td>\n",
              "      <td>61</td>\n",
              "      <td>2</td>\n",
              "      <td>5</td>\n",
              "      <td>1800000</td>\n",
              "      <td>1300000</td>\n",
              "      <td>1</td>\n",
              "    </tr>\n",
              "    <tr>\n",
              "      <th>2</th>\n",
              "      <td>5603</td>\n",
              "      <td>Delhi</td>\n",
              "      <td>Female</td>\n",
              "      <td>Mrs</td>\n",
              "      <td>pinky</td>\n",
              "      <td>YES</td>\n",
              "      <td>2</td>\n",
              "      <td>Sales</td>\n",
              "      <td>Car</td>\n",
              "      <td>4</td>\n",
              "      <td>1</td>\n",
              "      <td>Diabetes</td>\n",
              "      <td>35</td>\n",
              "      <td>9</td>\n",
              "      <td>&lt;100</td>\n",
              "      <td>Stage-02</td>\n",
              "      <td>440</td>\n",
              "      <td>40</td>\n",
              "      <td>166</td>\n",
              "      <td>236</td>\n",
              "      <td>88</td>\n",
              "      <td>47</td>\n",
              "      <td>24</td>\n",
              "      <td>3</td>\n",
              "      <td>5000000</td>\n",
              "      <td>2000000</td>\n",
              "      <td>2</td>\n",
              "    </tr>\n",
              "    <tr>\n",
              "      <th>3</th>\n",
              "      <td>5649</td>\n",
              "      <td>Delhi</td>\n",
              "      <td>Female</td>\n",
              "      <td>Mrs</td>\n",
              "      <td>pooja @aafrin</td>\n",
              "      <td>YES</td>\n",
              "      <td>2</td>\n",
              "      <td>Sales</td>\n",
              "      <td>Car</td>\n",
              "      <td>4</td>\n",
              "      <td>1</td>\n",
              "      <td>None</td>\n",
              "      <td>31</td>\n",
              "      <td>12</td>\n",
              "      <td>&lt;300</td>\n",
              "      <td>Elevated</td>\n",
              "      <td>206</td>\n",
              "      <td>78</td>\n",
              "      <td>83</td>\n",
              "      <td>211</td>\n",
              "      <td>87</td>\n",
              "      <td>52</td>\n",
              "      <td>13</td>\n",
              "      <td>6</td>\n",
              "      <td>3100000</td>\n",
              "      <td>600000</td>\n",
              "      <td>2</td>\n",
              "    </tr>\n",
              "    <tr>\n",
              "      <th>4</th>\n",
              "      <td>5099</td>\n",
              "      <td>Delhi</td>\n",
              "      <td>Female</td>\n",
              "      <td>Mrs</td>\n",
              "      <td>anjali</td>\n",
              "      <td>YES</td>\n",
              "      <td>2</td>\n",
              "      <td>Business</td>\n",
              "      <td>Car</td>\n",
              "      <td>4</td>\n",
              "      <td>1</td>\n",
              "      <td>Diabetes</td>\n",
              "      <td>51</td>\n",
              "      <td>6</td>\n",
              "      <td>&lt;200</td>\n",
              "      <td>Stage-01</td>\n",
              "      <td>229</td>\n",
              "      <td>109</td>\n",
              "      <td>207</td>\n",
              "      <td>312</td>\n",
              "      <td>94</td>\n",
              "      <td>68</td>\n",
              "      <td>39</td>\n",
              "      <td>5</td>\n",
              "      <td>2300000</td>\n",
              "      <td>1500000</td>\n",
              "      <td>1</td>\n",
              "    </tr>\n",
              "  </tbody>\n",
              "</table>\n",
              "</div>"
            ],
            "text/plain": [
              "   people_ID Region  Gender  ... Insurance   salary FT/month\n",
              "0       5942  Delhi  Female  ...   3900000  1300000        1\n",
              "1      18664  Delhi    Male  ...   1800000  1300000        1\n",
              "2       5603  Delhi  Female  ...   5000000  2000000        2\n",
              "3       5649  Delhi  Female  ...   3100000   600000        2\n",
              "4       5099  Delhi  Female  ...   2300000  1500000        1\n",
              "\n",
              "[5 rows x 27 columns]"
            ]
          },
          "metadata": {
            "tags": []
          },
          "execution_count": 452
        }
      ]
    },
    {
      "cell_type": "code",
      "metadata": {
        "id": "AeWjPaz4-PQm",
        "colab_type": "code",
        "colab": {
          "base_uri": "https://localhost:8080/",
          "height": 33
        },
        "outputId": "8a061a6c-f838-4125-fa33-ddacdfc04dcc"
      },
      "source": [
        "gold1.shape"
      ],
      "execution_count": 337,
      "outputs": [
        {
          "output_type": "execute_result",
          "data": {
            "text/plain": [
              "(14498, 27)"
            ]
          },
          "metadata": {
            "tags": []
          },
          "execution_count": 337
        }
      ]
    },
    {
      "cell_type": "code",
      "metadata": {
        "id": "BU4_JokyLR4o",
        "colab_type": "code",
        "colab": {
          "base_uri": "https://localhost:8080/",
          "height": 133
        },
        "outputId": "1efe8bcb-2cda-4661-8ff0-ee1b42544cde"
      },
      "source": [
        "gold1.Region.value_counts()"
      ],
      "execution_count": 338,
      "outputs": [
        {
          "output_type": "execute_result",
          "data": {
            "text/plain": [
              "Pune                  2503\n",
              "Thiruvananthapuram    2502\n",
              "Kolkata               2483\n",
              "Mumbai                2475\n",
              "Hyderabad             2457\n",
              "Delhi                 2078\n",
              "Name: Region, dtype: int64"
            ]
          },
          "metadata": {
            "tags": []
          },
          "execution_count": 338
        }
      ]
    },
    {
      "cell_type": "code",
      "metadata": {
        "id": "LE8fCFSlX76H",
        "colab_type": "code",
        "outputId": "d032fc0f-6fdd-4ebb-a213-2f05141bb08a",
        "colab": {
          "base_uri": "https://localhost:8080/",
          "height": 33
        }
      },
      "source": [
        "print(gold['Occupation'][12])"
      ],
      "execution_count": 339,
      "outputs": [
        {
          "output_type": "stream",
          "text": [
            "Legal\n"
          ],
          "name": "stdout"
        }
      ]
    },
    {
      "cell_type": "code",
      "metadata": {
        "id": "c1eyVddEdwq2",
        "colab_type": "code",
        "outputId": "385befa7-b57a-4399-babb-dfc218f308cf",
        "colab": {
          "base_uri": "https://localhost:8080/",
          "height": 423
        }
      },
      "source": [
        "plt.subplots(figsize=[15,5])\n",
        "plt.xticks(rotation=90)\n",
        "sns.barplot( gold.Occupation,gold.salary)"
      ],
      "execution_count": 340,
      "outputs": [
        {
          "output_type": "execute_result",
          "data": {
            "text/plain": [
              "<matplotlib.axes._subplots.AxesSubplot at 0x7f713e93e2e8>"
            ]
          },
          "metadata": {
            "tags": []
          },
          "execution_count": 340
        },
        {
          "output_type": "display_data",
          "data": {
            "image/png": "[encoded data removed]",
            "text/plain": [
              "<Figure size 1080x360 with 1 Axes>"
            ]
          },
          "metadata": {
            "tags": []
          }
        }
      ]
    },
    {
      "cell_type": "code",
      "metadata": {
        "id": "S7no6-jfFcoJ",
        "colab_type": "code",
        "outputId": "787f2066-28b4-4763-a74e-bd5326ac743b",
        "colab": {
          "base_uri": "https://localhost:8080/",
          "height": 33
        }
      },
      "source": [
        "gold.Occupation.isnull().sum()"
      ],
      "execution_count": 341,
      "outputs": [
        {
          "output_type": "execute_result",
          "data": {
            "text/plain": [
              "747"
            ]
          },
          "metadata": {
            "tags": []
          },
          "execution_count": 341
        }
      ]
    },
    {
      "cell_type": "code",
      "metadata": {
        "id": "nWrsBXhdGhxS",
        "colab_type": "code",
        "outputId": "a9f94a37-962e-4177-a000-60e3137c639e",
        "colab": {
          "base_uri": "https://localhost:8080/",
          "height": 83
        }
      },
      "source": [
        "gold.Mode_transport.value_counts()"
      ],
      "execution_count": 342,
      "outputs": [
        {
          "output_type": "execute_result",
          "data": {
            "text/plain": [
              "Public    3589\n",
              "Walk      3569\n",
              "Car       3556\n",
              "Name: Mode_transport, dtype: int64"
            ]
          },
          "metadata": {
            "tags": []
          },
          "execution_count": 342
        }
      ]
    },
    {
      "cell_type": "code",
      "metadata": {
        "id": "KpCEu0lRHHMo",
        "colab_type": "code",
        "outputId": "5739e785-ec57-4413-9779-173fde385f78",
        "colab": {
          "base_uri": "https://localhost:8080/",
          "height": 296
        }
      },
      "source": [
        "sns.distplot(np.log(gold['Infect_Prob']))"
      ],
      "execution_count": 343,
      "outputs": [
        {
          "output_type": "execute_result",
          "data": {
            "text/plain": [
              "<matplotlib.axes._subplots.AxesSubplot at 0x7f713e95ffd0>"
            ]
          },
          "metadata": {
            "tags": []
          },
          "execution_count": 343
        },
        {
          "output_type": "display_data",
          "data": {
            "image/png": "[encoded data removed]",
            "text/plain": [
              "<Figure size 432x288 with 1 Axes>"
            ]
          },
          "metadata": {
            "tags": []
          }
        }
      ]
    },
    {
      "cell_type": "code",
      "metadata": {
        "id": "orh7vfmAvXXf",
        "colab_type": "code",
        "outputId": "59384d29-919f-4e68-9316-fcf7db83b8a5",
        "colab": {
          "base_uri": "https://localhost:8080/",
          "height": 624
        }
      },
      "source": [
        "sns.distplot(gold['Infect_Prob'] , fit=norm);\n",
        "\n",
        "# Get the fitted parameters used by the function\n",
        "(mu, sigma) = norm.fit(gold['Infect_Prob'])\n",
        "print( '\\n mu = {:.2f} and sigma = {:.2f}\\n'.format(mu, sigma))\n",
        "\n",
        "plt.legend(['Normal dist. ($\\mu=$ {:.2f} and $\\sigma=$ {:.2f} )'.format(mu, sigma)], loc='best')\n",
        "plt.ylabel('Frequency')\n",
        "plt.title('Views distribution')\n",
        "\n",
        "#Create a corresponding QQ-plot\n",
        "fig = plt.figure()\n",
        "res = stats.probplot(gold['Infect_Prob'], plot=plt)\n",
        "plt.show()"
      ],
      "execution_count": 344,
      "outputs": [
        {
          "output_type": "stream",
          "text": [
            "\n",
            " mu = 52.28 and sigma = 10.67\n",
            "\n"
          ],
          "name": "stdout"
        },
        {
          "output_type": "display_data",
          "data": {
            "image/png": "[encoded data removed]",
            "text/plain": [
              "<Figure size 432x288 with 1 Axes>"
            ]
          },
          "metadata": {
            "tags": []
          }
        },
        {
          "output_type": "display_data",
          "data": {
            "image/png": "[encoded data removed]",
            "text/plain": [
              "<Figure size 432x288 with 1 Axes>"
            ]
          },
          "metadata": {
            "tags": []
          }
        }
      ]
    },
    {
      "cell_type": "code",
      "metadata": {
        "id": "VWkZXhb0mSip",
        "colab_type": "code",
        "outputId": "f3ae5d17-d596-4780-c239-b92d7ca9306f",
        "colab": {
          "base_uri": "https://localhost:8080/",
          "height": 624
        }
      },
      "source": [
        "sns.distplot(np.log1p(gold['Infect_Prob']) , fit=norm);\n",
        "\n",
        "# Get the fitted parameters used by the function\n",
        "(mu, sigma) = norm.fit(np.log1p(gold['Infect_Prob']))\n",
        "print( '\\n mu = {:.2f} and sigma = {:.2f}\\n'.format(mu, sigma))\n",
        "\n",
        "plt.legend(['Normal dist. ($\\mu=$ {:.2f} and $\\sigma=$ {:.2f} )'.format(mu, sigma)], loc='best')\n",
        "plt.ylabel('Frequency')\n",
        "plt.title('Log-transformed Views distribution')\n",
        "\n",
        "# Create a corresponding QQ-plot\n",
        "fig = plt.figure()\n",
        "res = stats.probplot(np.log1p(gold['Infect_Prob']), plot=plt)\n",
        "plt.show()"
      ],
      "execution_count": 345,
      "outputs": [
        {
          "output_type": "stream",
          "text": [
            "\n",
            " mu = 3.96 and sigma = 0.17\n",
            "\n"
          ],
          "name": "stdout"
        },
        {
          "output_type": "display_data",
          "data": {
            "image/png": "[encoded data removed]",
            "text/plain": [
              "<Figure size 432x288 with 1 Axes>"
            ]
          },
          "metadata": {
            "tags": []
          }
        },
        {
          "output_type": "display_data",
          "data": {
            "image/png": "[encoded data removed]",
            "text/plain": [
              "<Figure size 432x288 with 1 Axes>"
            ]
          },
          "metadata": {
            "tags": []
          }
        }
      ]
    },
    {
      "cell_type": "code",
      "metadata": {
        "id": "qyNC9kE80Sze",
        "colab_type": "code",
        "outputId": "b5e0a417-7d65-4fcc-e167-feacf141accb",
        "colab": {
          "base_uri": "https://localhost:8080/",
          "height": 952
        }
      },
      "source": [
        "\n",
        "plt.figure(figsize=(20,15))\n",
        "sns.heatmap(gold.corr(),annot=True,cmap='Blues')"
      ],
      "execution_count": 346,
      "outputs": [
        {
          "output_type": "execute_result",
          "data": {
            "text/plain": [
              "<matplotlib.axes._subplots.AxesSubplot at 0x7f713fe15358>"
            ]
          },
          "metadata": {
            "tags": []
          },
          "execution_count": 346
        },
        {
          "output_type": "display_data",
          "data": {
            "image/png": "[encoded data removed]",
            "text/plain": [
              "<Figure size 1440x1080 with 2 Axes>"
            ]
          },
          "metadata": {
            "tags": []
          }
        }
      ]
    },
    {
      "cell_type": "code",
      "metadata": {
        "id": "JXgIwD218RXt",
        "colab_type": "code",
        "colab": {}
      },
      "source": [
        ""
      ],
      "execution_count": 0,
      "outputs": []
    },
    {
      "cell_type": "code",
      "metadata": {
        "id": "VoCbbjb12zPH",
        "colab_type": "code",
        "outputId": "bb669abd-d471-47bb-d140-55b0d3a86e2d",
        "colab": {
          "base_uri": "https://localhost:8080/",
          "height": 133
        }
      },
      "source": [
        "gold.columns"
      ],
      "execution_count": 347,
      "outputs": [
        {
          "output_type": "execute_result",
          "data": {
            "text/plain": [
              "Index(['people_ID', 'Region', 'Gender', 'Designation', 'Name', 'Married',\n",
              "       'Children', 'Occupation', 'Mode_transport', 'cases/1M', 'Deaths/1M',\n",
              "       'comorbidity', 'Age', 'Coma score', 'Pulmonary score',\n",
              "       'cardiological pressure', 'Diuresis', 'Platelets', 'HBB', 'd-dimer',\n",
              "       'Heart rate', 'HDL cholesterol', 'Charlson Index', 'Blood Glucose',\n",
              "       'Insurance', 'salary', 'FT/month', 'Infect_Prob'],\n",
              "      dtype='object')"
            ]
          },
          "metadata": {
            "tags": []
          },
          "execution_count": 347
        }
      ]
    },
    {
      "cell_type": "code",
      "metadata": {
        "id": "jTvgBolXGSft",
        "colab_type": "code",
        "outputId": "a7ff548c-2917-44be-b748-d973ccd92645",
        "colab": {
          "base_uri": "https://localhost:8080/",
          "height": 144
        }
      },
      "source": [
        "gold.describe(include = 'all').head(2)"
      ],
      "execution_count": 348,
      "outputs": [
        {
          "output_type": "execute_result",
          "data": {
            "text/html": [
              "<div>\n",
              "<style scoped>\n",
              "    .dataframe tbody tr th:only-of-type {\n",
              "        vertical-align: middle;\n",
              "    }\n",
              "\n",
              "    .dataframe tbody tr th {\n",
              "        vertical-align: top;\n",
              "    }\n",
              "\n",
              "    .dataframe thead th {\n",
              "        text-align: right;\n",
              "    }\n",
              "</style>\n",
              "<table border=\"1\" class=\"dataframe\">\n",
              "  <thead>\n",
              "    <tr style=\"text-align: right;\">\n",
              "      <th></th>\n",
              "      <th>people_ID</th>\n",
              "      <th>Region</th>\n",
              "      <th>Gender</th>\n",
              "      <th>Designation</th>\n",
              "      <th>Name</th>\n",
              "      <th>Married</th>\n",
              "      <th>Children</th>\n",
              "      <th>Occupation</th>\n",
              "      <th>Mode_transport</th>\n",
              "      <th>cases/1M</th>\n",
              "      <th>Deaths/1M</th>\n",
              "      <th>comorbidity</th>\n",
              "      <th>Age</th>\n",
              "      <th>Coma score</th>\n",
              "      <th>Pulmonary score</th>\n",
              "      <th>cardiological pressure</th>\n",
              "      <th>Diuresis</th>\n",
              "      <th>Platelets</th>\n",
              "      <th>HBB</th>\n",
              "      <th>d-dimer</th>\n",
              "      <th>Heart rate</th>\n",
              "      <th>HDL cholesterol</th>\n",
              "      <th>Charlson Index</th>\n",
              "      <th>Blood Glucose</th>\n",
              "      <th>Insurance</th>\n",
              "      <th>salary</th>\n",
              "      <th>FT/month</th>\n",
              "      <th>Infect_Prob</th>\n",
              "    </tr>\n",
              "  </thead>\n",
              "  <tbody>\n",
              "    <tr>\n",
              "      <th>count</th>\n",
              "      <td>10714.0</td>\n",
              "      <td>10714</td>\n",
              "      <td>10714</td>\n",
              "      <td>10714</td>\n",
              "      <td>10694</td>\n",
              "      <td>10714</td>\n",
              "      <td>10403.0</td>\n",
              "      <td>9967</td>\n",
              "      <td>10714</td>\n",
              "      <td>10714.0</td>\n",
              "      <td>10714.0</td>\n",
              "      <td>10488</td>\n",
              "      <td>10714.0</td>\n",
              "      <td>10714.0</td>\n",
              "      <td>10714</td>\n",
              "      <td>10617</td>\n",
              "      <td>9998.0</td>\n",
              "      <td>9790.0</td>\n",
              "      <td>10698.0</td>\n",
              "      <td>9600.0</td>\n",
              "      <td>9600.0</td>\n",
              "      <td>10679.0</td>\n",
              "      <td>10714.0</td>\n",
              "      <td>10714.0</td>\n",
              "      <td>9624.0</td>\n",
              "      <td>10714.0</td>\n",
              "      <td>9991.0</td>\n",
              "      <td>10714.0</td>\n",
              "    </tr>\n",
              "    <tr>\n",
              "      <th>unique</th>\n",
              "      <td>NaN</td>\n",
              "      <td>5</td>\n",
              "      <td>2</td>\n",
              "      <td>2</td>\n",
              "      <td>6304</td>\n",
              "      <td>2</td>\n",
              "      <td>NaN</td>\n",
              "      <td>9</td>\n",
              "      <td>3</td>\n",
              "      <td>NaN</td>\n",
              "      <td>NaN</td>\n",
              "      <td>4</td>\n",
              "      <td>NaN</td>\n",
              "      <td>NaN</td>\n",
              "      <td>4</td>\n",
              "      <td>4</td>\n",
              "      <td>NaN</td>\n",
              "      <td>NaN</td>\n",
              "      <td>NaN</td>\n",
              "      <td>NaN</td>\n",
              "      <td>NaN</td>\n",
              "      <td>NaN</td>\n",
              "      <td>NaN</td>\n",
              "      <td>NaN</td>\n",
              "      <td>NaN</td>\n",
              "      <td>NaN</td>\n",
              "      <td>NaN</td>\n",
              "      <td>NaN</td>\n",
              "    </tr>\n",
              "  </tbody>\n",
              "</table>\n",
              "</div>"
            ],
            "text/plain": [
              "        people_ID Region Gender  ...   salary FT/month Infect_Prob\n",
              "count     10714.0  10714  10714  ...  10714.0   9991.0     10714.0\n",
              "unique        NaN      5      2  ...      NaN      NaN         NaN\n",
              "\n",
              "[2 rows x 28 columns]"
            ]
          },
          "metadata": {
            "tags": []
          },
          "execution_count": 348
        }
      ]
    },
    {
      "cell_type": "code",
      "metadata": {
        "id": "9vAeAp92amsk",
        "colab_type": "code",
        "colab": {}
      },
      "source": [
        "gold['Children']=gold['Children'].fillna(0.0)"
      ],
      "execution_count": 0,
      "outputs": []
    },
    {
      "cell_type": "code",
      "metadata": {
        "id": "MF09JjDR-jGc",
        "colab_type": "code",
        "colab": {}
      },
      "source": [
        "gold1['Children']=gold1['Children'].fillna(0.0)"
      ],
      "execution_count": 0,
      "outputs": []
    },
    {
      "cell_type": "code",
      "metadata": {
        "id": "Z4-iC5ZcR3SD",
        "colab_type": "code",
        "outputId": "51a85170-c3a5-44f1-9adf-37d22657612e",
        "colab": {
          "base_uri": "https://localhost:8080/",
          "height": 183
        }
      },
      "source": [
        "for i in range (len(gold)):\n",
        "  if(pd.isna(gold['Occupation'][i])):\n",
        "    if(gold['Gender'][i]=='Female'):\n",
        "      gold['Occupation'][i]='FN'\n",
        "    else:\n",
        "      gold['Occupation'][i]='MN'"
      ],
      "execution_count": 351,
      "outputs": [
        {
          "output_type": "stream",
          "text": [
            "/usr/local/lib/python3.6/dist-packages/ipykernel_launcher.py:4: SettingWithCopyWarning: \n",
            "A value is trying to be set on a copy of a slice from a DataFrame\n",
            "\n",
            "See the caveats in the documentation: http://pandas.pydata.org/pandas-docs/stable/user_guide/indexing.html#returning-a-view-versus-a-copy\n",
            "  after removing the cwd from sys.path.\n",
            "/usr/local/lib/python3.6/dist-packages/ipykernel_launcher.py:6: SettingWithCopyWarning: \n",
            "A value is trying to be set on a copy of a slice from a DataFrame\n",
            "\n",
            "See the caveats in the documentation: http://pandas.pydata.org/pandas-docs/stable/user_guide/indexing.html#returning-a-view-versus-a-copy\n",
            "  \n"
          ],
          "name": "stderr"
        }
      ]
    },
    {
      "cell_type": "code",
      "metadata": {
        "id": "eQl4wbzf-mpr",
        "colab_type": "code",
        "colab": {}
      },
      "source": [
        "for i in range (len(gold1)):\n",
        "  if(pd.isna(gold1['Occupation'][i])):\n",
        "    if(gold1['Gender'][i]=='Female'):\n",
        "      gold1['Occupation'][i]='FN'\n",
        "    else:\n",
        "      gold1['Occupation'][i]='MN'"
      ],
      "execution_count": 0,
      "outputs": []
    },
    {
      "cell_type": "code",
      "metadata": {
        "id": "67prKGoDGSYr",
        "colab_type": "code",
        "outputId": "59336954-b993-467f-c053-ca76b462eb4d",
        "colab": {
          "base_uri": "https://localhost:8080/",
          "height": 216
        }
      },
      "source": [
        "gold.Occupation.value_counts()"
      ],
      "execution_count": 353,
      "outputs": [
        {
          "output_type": "execute_result",
          "data": {
            "text/plain": [
              "Legal            1174\n",
              "Sales            1131\n",
              "Manufacturing    1120\n",
              "Researcher       1115\n",
              "Farmer           1113\n",
              "Cleaner          1111\n",
              "Clerk            1078\n",
              "Driver           1072\n",
              "Business         1053\n",
              "FN                390\n",
              "MN                357\n",
              "Name: Occupation, dtype: int64"
            ]
          },
          "metadata": {
            "tags": []
          },
          "execution_count": 353
        }
      ]
    },
    {
      "cell_type": "code",
      "metadata": {
        "id": "wPdFsH2sWu0k",
        "colab_type": "code",
        "colab": {}
      },
      "source": [
        "l1 = ['Chennai','Bengaluru','Chandigarh','Bhubaneshwar','Delhi'  ]\n",
        "l2 = list(range(len(l1)))\n",
        "d = dict(zip(l1,l2))"
      ],
      "execution_count": 0,
      "outputs": []
    },
    {
      "cell_type": "code",
      "metadata": {
        "id": "n4ht_bhn-s-U",
        "colab_type": "code",
        "colab": {}
      },
      "source": [
        "\n",
        "dg= {0:0,1:0,2:0,3:0,4:1,8:2,11:2,13:2}\n",
        "    "
      ],
      "execution_count": 0,
      "outputs": []
    },
    {
      "cell_type": "code",
      "metadata": {
        "id": "8CBztz1qDvbL",
        "colab_type": "code",
        "colab": {}
      },
      "source": [
        "l3 = ['Legal','Sales', 'Manufacturing','Researcher','Farmer','Cleaner','Clerk' ,'Driver','Business','FN','MN']\n",
        "l4 = list(range(len(l3)))\n",
        "d1 = dict(zip(l3,l4))\n"
      ],
      "execution_count": 0,
      "outputs": []
    },
    {
      "cell_type": "code",
      "metadata": {
        "id": "NnvaAdBk-wIQ",
        "colab_type": "code",
        "colab": {}
      },
      "source": [
        "l3g = ['Legal','Sales', 'Manufacturing','Researcher','Farmer','Cleaner','Clerk' ,'Driver','Business','FN','MN']\n",
        "l4g = list(range(len(l3)))\n",
        "d1g = dict(zip(l3,l4))\n"
      ],
      "execution_count": 0,
      "outputs": []
    },
    {
      "cell_type": "code",
      "metadata": {
        "id": "xgc3wL1xWuy1",
        "colab_type": "code",
        "outputId": "2dba0a0e-5037-4e5b-b19b-cb41011c39b0",
        "colab": {
          "base_uri": "https://localhost:8080/",
          "height": 33
        }
      },
      "source": [
        "print(l4)"
      ],
      "execution_count": 358,
      "outputs": [
        {
          "output_type": "stream",
          "text": [
            "[0, 1, 2, 3, 4, 5, 6, 7, 8, 9, 10]\n"
          ],
          "name": "stdout"
        }
      ]
    },
    {
      "cell_type": "code",
      "metadata": {
        "id": "73d3xlEZBoUv",
        "colab_type": "code",
        "outputId": "0fae01cc-b25d-42f6-b603-7df2b1a81a21",
        "colab": {
          "base_uri": "https://localhost:8080/",
          "height": 216
        }
      },
      "source": [
        "gold.Occupation.value_counts()"
      ],
      "execution_count": 359,
      "outputs": [
        {
          "output_type": "execute_result",
          "data": {
            "text/plain": [
              "Legal            1174\n",
              "Sales            1131\n",
              "Manufacturing    1120\n",
              "Researcher       1115\n",
              "Farmer           1113\n",
              "Cleaner          1111\n",
              "Clerk            1078\n",
              "Driver           1072\n",
              "Business         1053\n",
              "FN                390\n",
              "MN                357\n",
              "Name: Occupation, dtype: int64"
            ]
          },
          "metadata": {
            "tags": []
          },
          "execution_count": 359
        }
      ]
    },
    {
      "cell_type": "code",
      "metadata": {
        "id": "hv2HsEnuWuwi",
        "colab_type": "code",
        "colab": {}
      },
      "source": [
        "gold['cases/1M'] = gold['cases/1M'].map(dg)\n",
        "gold['Occupation'] = gold['Occupation'].map(d1)"
      ],
      "execution_count": 0,
      "outputs": []
    },
    {
      "cell_type": "code",
      "metadata": {
        "id": "6FptZwh9-zwG",
        "colab_type": "code",
        "colab": {}
      },
      "source": [
        "gold1['cases/1M'] = gold1['cases/1M'].map(dg)\n",
        "gold1['Occupation'] = gold1['Occupation'].map(d1g)"
      ],
      "execution_count": 0,
      "outputs": []
    },
    {
      "cell_type": "code",
      "metadata": {
        "id": "4WaWhAt2Wuqw",
        "colab_type": "code",
        "outputId": "ad4c5137-3c51-482d-a9ba-7f4fcbb35625",
        "colab": {
          "base_uri": "https://localhost:8080/",
          "height": 334
        }
      },
      "source": [
        "gold.head()"
      ],
      "execution_count": 362,
      "outputs": [
        {
          "output_type": "execute_result",
          "data": {
            "text/html": [
              "<div>\n",
              "<style scoped>\n",
              "    .dataframe tbody tr th:only-of-type {\n",
              "        vertical-align: middle;\n",
              "    }\n",
              "\n",
              "    .dataframe tbody tr th {\n",
              "        vertical-align: top;\n",
              "    }\n",
              "\n",
              "    .dataframe thead th {\n",
              "        text-align: right;\n",
              "    }\n",
              "</style>\n",
              "<table border=\"1\" class=\"dataframe\">\n",
              "  <thead>\n",
              "    <tr style=\"text-align: right;\">\n",
              "      <th></th>\n",
              "      <th>people_ID</th>\n",
              "      <th>Region</th>\n",
              "      <th>Gender</th>\n",
              "      <th>Designation</th>\n",
              "      <th>Name</th>\n",
              "      <th>Married</th>\n",
              "      <th>Children</th>\n",
              "      <th>Occupation</th>\n",
              "      <th>Mode_transport</th>\n",
              "      <th>cases/1M</th>\n",
              "      <th>Deaths/1M</th>\n",
              "      <th>comorbidity</th>\n",
              "      <th>Age</th>\n",
              "      <th>Coma score</th>\n",
              "      <th>Pulmonary score</th>\n",
              "      <th>cardiological pressure</th>\n",
              "      <th>Diuresis</th>\n",
              "      <th>Platelets</th>\n",
              "      <th>HBB</th>\n",
              "      <th>d-dimer</th>\n",
              "      <th>Heart rate</th>\n",
              "      <th>HDL cholesterol</th>\n",
              "      <th>Charlson Index</th>\n",
              "      <th>Blood Glucose</th>\n",
              "      <th>Insurance</th>\n",
              "      <th>salary</th>\n",
              "      <th>FT/month</th>\n",
              "      <th>Infect_Prob</th>\n",
              "    </tr>\n",
              "  </thead>\n",
              "  <tbody>\n",
              "    <tr>\n",
              "      <th>0</th>\n",
              "      <td>4</td>\n",
              "      <td>Bhubaneshwar</td>\n",
              "      <td>Female</td>\n",
              "      <td>Mrs</td>\n",
              "      <td>anjali @ babli</td>\n",
              "      <td>YES</td>\n",
              "      <td>1.0</td>\n",
              "      <td>7</td>\n",
              "      <td>Car</td>\n",
              "      <td>0</td>\n",
              "      <td>0</td>\n",
              "      <td>Coronary Heart Disease</td>\n",
              "      <td>33</td>\n",
              "      <td>9</td>\n",
              "      <td>&lt;200</td>\n",
              "      <td>Stage-01</td>\n",
              "      <td>410.0</td>\n",
              "      <td>98.0</td>\n",
              "      <td>167.0</td>\n",
              "      <td>275.0</td>\n",
              "      <td>64.0</td>\n",
              "      <td>60.0</td>\n",
              "      <td>27</td>\n",
              "      <td>7</td>\n",
              "      <td>700000.0</td>\n",
              "      <td>2300000</td>\n",
              "      <td>1.0</td>\n",
              "      <td>48.779225</td>\n",
              "    </tr>\n",
              "    <tr>\n",
              "      <th>1</th>\n",
              "      <td>13</td>\n",
              "      <td>Bhubaneshwar</td>\n",
              "      <td>Female</td>\n",
              "      <td>Mrs</td>\n",
              "      <td>karina @ kavita</td>\n",
              "      <td>NO</td>\n",
              "      <td>0.0</td>\n",
              "      <td>9</td>\n",
              "      <td>Public</td>\n",
              "      <td>0</td>\n",
              "      <td>0</td>\n",
              "      <td>Diabetes</td>\n",
              "      <td>18</td>\n",
              "      <td>15</td>\n",
              "      <td>&lt;200</td>\n",
              "      <td>Stage-01</td>\n",
              "      <td>403.0</td>\n",
              "      <td>39.0</td>\n",
              "      <td>174.0</td>\n",
              "      <td>213.0</td>\n",
              "      <td>98.0</td>\n",
              "      <td>43.0</td>\n",
              "      <td>33</td>\n",
              "      <td>3</td>\n",
              "      <td>NaN</td>\n",
              "      <td>2300000</td>\n",
              "      <td>2.0</td>\n",
              "      <td>35.147520</td>\n",
              "    </tr>\n",
              "    <tr>\n",
              "      <th>2</th>\n",
              "      <td>19</td>\n",
              "      <td>Bhubaneshwar</td>\n",
              "      <td>Female</td>\n",
              "      <td>Mrs</td>\n",
              "      <td>rinukanwr</td>\n",
              "      <td>YES</td>\n",
              "      <td>1.0</td>\n",
              "      <td>6</td>\n",
              "      <td>Public</td>\n",
              "      <td>0</td>\n",
              "      <td>0</td>\n",
              "      <td>Coronary Heart Disease</td>\n",
              "      <td>65</td>\n",
              "      <td>9</td>\n",
              "      <td>&lt;400</td>\n",
              "      <td>Normal</td>\n",
              "      <td>181.0</td>\n",
              "      <td>80.0</td>\n",
              "      <td>177.0</td>\n",
              "      <td>287.0</td>\n",
              "      <td>52.0</td>\n",
              "      <td>66.0</td>\n",
              "      <td>37</td>\n",
              "      <td>4</td>\n",
              "      <td>3900000.0</td>\n",
              "      <td>2300000</td>\n",
              "      <td>0.0</td>\n",
              "      <td>48.868666</td>\n",
              "    </tr>\n",
              "    <tr>\n",
              "      <th>3</th>\n",
              "      <td>59</td>\n",
              "      <td>Bhubaneshwar</td>\n",
              "      <td>Female</td>\n",
              "      <td>Mrs</td>\n",
              "      <td>priya kumar</td>\n",
              "      <td>NO</td>\n",
              "      <td>2.0</td>\n",
              "      <td>2</td>\n",
              "      <td>Walk</td>\n",
              "      <td>0</td>\n",
              "      <td>0</td>\n",
              "      <td>Diabetes</td>\n",
              "      <td>26</td>\n",
              "      <td>15</td>\n",
              "      <td>&lt;300</td>\n",
              "      <td>Elevated</td>\n",
              "      <td>347.0</td>\n",
              "      <td>140.0</td>\n",
              "      <td>54.0</td>\n",
              "      <td>215.0</td>\n",
              "      <td>89.0</td>\n",
              "      <td>47.0</td>\n",
              "      <td>8</td>\n",
              "      <td>5</td>\n",
              "      <td>1700000.0</td>\n",
              "      <td>2300000</td>\n",
              "      <td>0.0</td>\n",
              "      <td>50.698176</td>\n",
              "    </tr>\n",
              "    <tr>\n",
              "      <th>4</th>\n",
              "      <td>98</td>\n",
              "      <td>Bhubaneshwar</td>\n",
              "      <td>Female</td>\n",
              "      <td>Mrs</td>\n",
              "      <td>jyoti</td>\n",
              "      <td>YES</td>\n",
              "      <td>2.0</td>\n",
              "      <td>5</td>\n",
              "      <td>Car</td>\n",
              "      <td>0</td>\n",
              "      <td>0</td>\n",
              "      <td>Diabetes</td>\n",
              "      <td>42</td>\n",
              "      <td>11</td>\n",
              "      <td>&lt;400</td>\n",
              "      <td>Normal</td>\n",
              "      <td>149.0</td>\n",
              "      <td>NaN</td>\n",
              "      <td>206.0</td>\n",
              "      <td>NaN</td>\n",
              "      <td>NaN</td>\n",
              "      <td>65.0</td>\n",
              "      <td>28</td>\n",
              "      <td>3</td>\n",
              "      <td>500000.0</td>\n",
              "      <td>2300000</td>\n",
              "      <td>2.0</td>\n",
              "      <td>50.437683</td>\n",
              "    </tr>\n",
              "  </tbody>\n",
              "</table>\n",
              "</div>"
            ],
            "text/plain": [
              "   people_ID        Region  Gender  ...   salary FT/month Infect_Prob\n",
              "0          4  Bhubaneshwar  Female  ...  2300000      1.0   48.779225\n",
              "1         13  Bhubaneshwar  Female  ...  2300000      2.0   35.147520\n",
              "2         19  Bhubaneshwar  Female  ...  2300000      0.0   48.868666\n",
              "3         59  Bhubaneshwar  Female  ...  2300000      0.0   50.698176\n",
              "4         98  Bhubaneshwar  Female  ...  2300000      2.0   50.437683\n",
              "\n",
              "[5 rows x 28 columns]"
            ]
          },
          "metadata": {
            "tags": []
          },
          "execution_count": 362
        }
      ]
    },
    {
      "cell_type": "code",
      "metadata": {
        "id": "8Bjpm2TEic8v",
        "colab_type": "code",
        "outputId": "0ee99938-9c42-4a19-fa75-b65f218fe903",
        "colab": {
          "base_uri": "https://localhost:8080/",
          "height": 133
        }
      },
      "source": [
        "gold.columns"
      ],
      "execution_count": 363,
      "outputs": [
        {
          "output_type": "execute_result",
          "data": {
            "text/plain": [
              "Index(['people_ID', 'Region', 'Gender', 'Designation', 'Name', 'Married',\n",
              "       'Children', 'Occupation', 'Mode_transport', 'cases/1M', 'Deaths/1M',\n",
              "       'comorbidity', 'Age', 'Coma score', 'Pulmonary score',\n",
              "       'cardiological pressure', 'Diuresis', 'Platelets', 'HBB', 'd-dimer',\n",
              "       'Heart rate', 'HDL cholesterol', 'Charlson Index', 'Blood Glucose',\n",
              "       'Insurance', 'salary', 'FT/month', 'Infect_Prob'],\n",
              "      dtype='object')"
            ]
          },
          "metadata": {
            "tags": []
          },
          "execution_count": 363
        }
      ]
    },
    {
      "cell_type": "code",
      "metadata": {
        "id": "38W7ebo7khJb",
        "colab_type": "code",
        "outputId": "de48f390-c553-4c02-bb77-22d61e00da1e",
        "colab": {
          "base_uri": "https://localhost:8080/",
          "height": 500
        }
      },
      "source": [
        "gold.dtypes"
      ],
      "execution_count": 364,
      "outputs": [
        {
          "output_type": "execute_result",
          "data": {
            "text/plain": [
              "people_ID                   int64\n",
              "Region                     object\n",
              "Gender                     object\n",
              "Designation                object\n",
              "Name                       object\n",
              "Married                    object\n",
              "Children                  float64\n",
              "Occupation                  int64\n",
              "Mode_transport             object\n",
              "cases/1M                    int64\n",
              "Deaths/1M                   int64\n",
              "comorbidity                object\n",
              "Age                         int64\n",
              "Coma score                  int64\n",
              "Pulmonary score            object\n",
              "cardiological pressure     object\n",
              "Diuresis                  float64\n",
              "Platelets                 float64\n",
              "HBB                       float64\n",
              "d-dimer                   float64\n",
              "Heart rate                float64\n",
              "HDL cholesterol           float64\n",
              "Charlson Index              int64\n",
              "Blood Glucose               int64\n",
              "Insurance                 float64\n",
              "salary                      int64\n",
              "FT/month                  float64\n",
              "Infect_Prob               float64\n",
              "dtype: object"
            ]
          },
          "metadata": {
            "tags": []
          },
          "execution_count": 364
        }
      ]
    },
    {
      "cell_type": "code",
      "metadata": {
        "id": "IERBdDY0jOSW",
        "colab_type": "code",
        "colab": {}
      },
      "source": [
        "def cl(dep):\n",
        "    if (dep >= 28 and dep <= 41):\n",
        "        return 1\n",
        "    else:\n",
        "        return 0\n",
        "\n",
        "def pl(dep):\n",
        "    if (dep >= 150 and dep <= 400):\n",
        "        return 1\n",
        "    else:\n",
        "        return 0\n",
        "\n",
        "def chl(dep):\n",
        "    if (dep >= 40 and dep <= 60):\n",
        "        return 1\n",
        "    else:\n",
        "        return 0\n",
        "\n",
        "def hr(dep):\n",
        "    if (dep >= 60.0 and dep <= 100.0):\n",
        "        return 1\n",
        "    else:\n",
        "        return 0\n",
        "\n",
        "def bg(dep):\n",
        "    float(dep)\n",
        "    if (dep >= 3.9 and dep <= 7.1):\n",
        "        return 1\n",
        "    else:\n",
        "        return 0\n",
        "\n",
        "def du(dep):\n",
        "    float(dep)\n",
        "    if (dep <=250):\n",
        "        return 1\n",
        "    else:\n",
        "        return 0\n",
        "\n",
        "def ag(dep):\n",
        "    if (dep >=0):\n",
        "        return 1\n",
        "    else:\n",
        "        return 0"
      ],
      "execution_count": 0,
      "outputs": []
    },
    {
      "cell_type": "code",
      "metadata": {
        "id": "N5sp-EgT0IwP",
        "colab_type": "code",
        "colab": {}
      },
      "source": [
        "gold['Age'] =gold['Age'].apply(ag) "
      ],
      "execution_count": 0,
      "outputs": []
    },
    {
      "cell_type": "code",
      "metadata": {
        "id": "r61NKuKoA7W5",
        "colab_type": "code",
        "colab": {}
      },
      "source": [
        "gold['Charlson Index'] =gold['Charlson Index'].apply(cl)  \n",
        "gold['Platelets'] =gold['Platelets'].apply(pl)  \n",
        "gold['HDL cholesterol'] =gold['HDL cholesterol'].apply(chl)  \n",
        "gold['Heart rate'] =gold['Heart rate'].apply(hr)  \n",
        "gold['BG'] =gold['Blood Glucose'].apply(bg)  \n",
        "gold['d-dimer'] =gold['d-dimer'].apply(du)  \n",
        " "
      ],
      "execution_count": 0,
      "outputs": []
    },
    {
      "cell_type": "code",
      "metadata": {
        "id": "i70URX_c_GFr",
        "colab_type": "code",
        "colab": {}
      },
      "source": [
        "gold1['Charlson Index'] =gold1['Charlson Index'].apply(cl)  \n",
        "gold1['Platelets'] =gold1['Platelets'].apply(pl)  \n",
        "gold1['HDL cholesterol'] =gold1['HDL cholesterol'].apply(chl)  \n",
        "gold1['Heart rate'] =gold1['Heart rate'].apply(hr)  \n",
        "gold1['BG'] =gold1['Blood Glucose'].apply(bg)  \n",
        "gold1['d-dimer'] =gold1['d-dimer'].apply(du)  \n",
        "gold1['Age'] =gold1['Age'].apply(ag) \n",
        " "
      ],
      "execution_count": 0,
      "outputs": []
    },
    {
      "cell_type": "code",
      "metadata": {
        "id": "A5VxJs7FxIsV",
        "colab_type": "code",
        "colab": {}
      },
      "source": [
        "gold=gold.drop('Blood Glucose',axis=1)"
      ],
      "execution_count": 0,
      "outputs": []
    },
    {
      "cell_type": "code",
      "metadata": {
        "id": "w2XY9hev_TJV",
        "colab_type": "code",
        "colab": {}
      },
      "source": [
        "gold1=gold1.drop('Blood Glucose',axis=1)"
      ],
      "execution_count": 0,
      "outputs": []
    },
    {
      "cell_type": "code",
      "metadata": {
        "id": "su1U38TKkUtK",
        "colab_type": "code",
        "outputId": "c0e60440-ae43-4286-af8e-a9693eb2b758",
        "colab": {
          "base_uri": "https://localhost:8080/",
          "height": 334
        }
      },
      "source": [
        "gold.head(5)"
      ],
      "execution_count": 371,
      "outputs": [
        {
          "output_type": "execute_result",
          "data": {
            "text/html": [
              "<div>\n",
              "<style scoped>\n",
              "    .dataframe tbody tr th:only-of-type {\n",
              "        vertical-align: middle;\n",
              "    }\n",
              "\n",
              "    .dataframe tbody tr th {\n",
              "        vertical-align: top;\n",
              "    }\n",
              "\n",
              "    .dataframe thead th {\n",
              "        text-align: right;\n",
              "    }\n",
              "</style>\n",
              "<table border=\"1\" class=\"dataframe\">\n",
              "  <thead>\n",
              "    <tr style=\"text-align: right;\">\n",
              "      <th></th>\n",
              "      <th>people_ID</th>\n",
              "      <th>Region</th>\n",
              "      <th>Gender</th>\n",
              "      <th>Designation</th>\n",
              "      <th>Name</th>\n",
              "      <th>Married</th>\n",
              "      <th>Children</th>\n",
              "      <th>Occupation</th>\n",
              "      <th>Mode_transport</th>\n",
              "      <th>cases/1M</th>\n",
              "      <th>Deaths/1M</th>\n",
              "      <th>comorbidity</th>\n",
              "      <th>Age</th>\n",
              "      <th>Coma score</th>\n",
              "      <th>Pulmonary score</th>\n",
              "      <th>cardiological pressure</th>\n",
              "      <th>Diuresis</th>\n",
              "      <th>Platelets</th>\n",
              "      <th>HBB</th>\n",
              "      <th>d-dimer</th>\n",
              "      <th>Heart rate</th>\n",
              "      <th>HDL cholesterol</th>\n",
              "      <th>Charlson Index</th>\n",
              "      <th>Insurance</th>\n",
              "      <th>salary</th>\n",
              "      <th>FT/month</th>\n",
              "      <th>Infect_Prob</th>\n",
              "      <th>BG</th>\n",
              "    </tr>\n",
              "  </thead>\n",
              "  <tbody>\n",
              "    <tr>\n",
              "      <th>0</th>\n",
              "      <td>4</td>\n",
              "      <td>Bhubaneshwar</td>\n",
              "      <td>Female</td>\n",
              "      <td>Mrs</td>\n",
              "      <td>anjali @ babli</td>\n",
              "      <td>YES</td>\n",
              "      <td>1.0</td>\n",
              "      <td>7</td>\n",
              "      <td>Car</td>\n",
              "      <td>0</td>\n",
              "      <td>0</td>\n",
              "      <td>Coronary Heart Disease</td>\n",
              "      <td>1</td>\n",
              "      <td>9</td>\n",
              "      <td>&lt;200</td>\n",
              "      <td>Stage-01</td>\n",
              "      <td>410.0</td>\n",
              "      <td>0</td>\n",
              "      <td>167.0</td>\n",
              "      <td>0</td>\n",
              "      <td>1</td>\n",
              "      <td>1</td>\n",
              "      <td>0</td>\n",
              "      <td>700000.0</td>\n",
              "      <td>2300000</td>\n",
              "      <td>1.0</td>\n",
              "      <td>48.779225</td>\n",
              "      <td>1</td>\n",
              "    </tr>\n",
              "    <tr>\n",
              "      <th>1</th>\n",
              "      <td>13</td>\n",
              "      <td>Bhubaneshwar</td>\n",
              "      <td>Female</td>\n",
              "      <td>Mrs</td>\n",
              "      <td>karina @ kavita</td>\n",
              "      <td>NO</td>\n",
              "      <td>0.0</td>\n",
              "      <td>9</td>\n",
              "      <td>Public</td>\n",
              "      <td>0</td>\n",
              "      <td>0</td>\n",
              "      <td>Diabetes</td>\n",
              "      <td>1</td>\n",
              "      <td>15</td>\n",
              "      <td>&lt;200</td>\n",
              "      <td>Stage-01</td>\n",
              "      <td>403.0</td>\n",
              "      <td>0</td>\n",
              "      <td>174.0</td>\n",
              "      <td>1</td>\n",
              "      <td>1</td>\n",
              "      <td>1</td>\n",
              "      <td>1</td>\n",
              "      <td>NaN</td>\n",
              "      <td>2300000</td>\n",
              "      <td>2.0</td>\n",
              "      <td>35.147520</td>\n",
              "      <td>0</td>\n",
              "    </tr>\n",
              "    <tr>\n",
              "      <th>2</th>\n",
              "      <td>19</td>\n",
              "      <td>Bhubaneshwar</td>\n",
              "      <td>Female</td>\n",
              "      <td>Mrs</td>\n",
              "      <td>rinukanwr</td>\n",
              "      <td>YES</td>\n",
              "      <td>1.0</td>\n",
              "      <td>6</td>\n",
              "      <td>Public</td>\n",
              "      <td>0</td>\n",
              "      <td>0</td>\n",
              "      <td>Coronary Heart Disease</td>\n",
              "      <td>1</td>\n",
              "      <td>9</td>\n",
              "      <td>&lt;400</td>\n",
              "      <td>Normal</td>\n",
              "      <td>181.0</td>\n",
              "      <td>0</td>\n",
              "      <td>177.0</td>\n",
              "      <td>0</td>\n",
              "      <td>0</td>\n",
              "      <td>0</td>\n",
              "      <td>1</td>\n",
              "      <td>3900000.0</td>\n",
              "      <td>2300000</td>\n",
              "      <td>0.0</td>\n",
              "      <td>48.868666</td>\n",
              "      <td>1</td>\n",
              "    </tr>\n",
              "    <tr>\n",
              "      <th>3</th>\n",
              "      <td>59</td>\n",
              "      <td>Bhubaneshwar</td>\n",
              "      <td>Female</td>\n",
              "      <td>Mrs</td>\n",
              "      <td>priya kumar</td>\n",
              "      <td>NO</td>\n",
              "      <td>2.0</td>\n",
              "      <td>2</td>\n",
              "      <td>Walk</td>\n",
              "      <td>0</td>\n",
              "      <td>0</td>\n",
              "      <td>Diabetes</td>\n",
              "      <td>1</td>\n",
              "      <td>15</td>\n",
              "      <td>&lt;300</td>\n",
              "      <td>Elevated</td>\n",
              "      <td>347.0</td>\n",
              "      <td>0</td>\n",
              "      <td>54.0</td>\n",
              "      <td>1</td>\n",
              "      <td>1</td>\n",
              "      <td>1</td>\n",
              "      <td>0</td>\n",
              "      <td>1700000.0</td>\n",
              "      <td>2300000</td>\n",
              "      <td>0.0</td>\n",
              "      <td>50.698176</td>\n",
              "      <td>1</td>\n",
              "    </tr>\n",
              "    <tr>\n",
              "      <th>4</th>\n",
              "      <td>98</td>\n",
              "      <td>Bhubaneshwar</td>\n",
              "      <td>Female</td>\n",
              "      <td>Mrs</td>\n",
              "      <td>jyoti</td>\n",
              "      <td>YES</td>\n",
              "      <td>2.0</td>\n",
              "      <td>5</td>\n",
              "      <td>Car</td>\n",
              "      <td>0</td>\n",
              "      <td>0</td>\n",
              "      <td>Diabetes</td>\n",
              "      <td>1</td>\n",
              "      <td>11</td>\n",
              "      <td>&lt;400</td>\n",
              "      <td>Normal</td>\n",
              "      <td>149.0</td>\n",
              "      <td>0</td>\n",
              "      <td>206.0</td>\n",
              "      <td>0</td>\n",
              "      <td>0</td>\n",
              "      <td>0</td>\n",
              "      <td>1</td>\n",
              "      <td>500000.0</td>\n",
              "      <td>2300000</td>\n",
              "      <td>2.0</td>\n",
              "      <td>50.437683</td>\n",
              "      <td>0</td>\n",
              "    </tr>\n",
              "  </tbody>\n",
              "</table>\n",
              "</div>"
            ],
            "text/plain": [
              "   people_ID        Region  Gender  ... FT/month Infect_Prob BG\n",
              "0          4  Bhubaneshwar  Female  ...      1.0   48.779225  1\n",
              "1         13  Bhubaneshwar  Female  ...      2.0   35.147520  0\n",
              "2         19  Bhubaneshwar  Female  ...      0.0   48.868666  1\n",
              "3         59  Bhubaneshwar  Female  ...      0.0   50.698176  1\n",
              "4         98  Bhubaneshwar  Female  ...      2.0   50.437683  0\n",
              "\n",
              "[5 rows x 28 columns]"
            ]
          },
          "metadata": {
            "tags": []
          },
          "execution_count": 371
        }
      ]
    },
    {
      "cell_type": "code",
      "metadata": {
        "id": "sFLCqSiRJqOs",
        "colab_type": "code",
        "colab": {}
      },
      "source": [
        "gold=gold.drop('people_ID',axis=1)"
      ],
      "execution_count": 0,
      "outputs": []
    },
    {
      "cell_type": "code",
      "metadata": {
        "id": "lAWSPs4YJayK",
        "colab_type": "code",
        "colab": {}
      },
      "source": [
        "gold=gold.drop('Designation',axis=1)"
      ],
      "execution_count": 0,
      "outputs": []
    },
    {
      "cell_type": "code",
      "metadata": {
        "id": "uPoW4p2lkUqO",
        "colab_type": "code",
        "colab": {}
      },
      "source": [
        "gold=gold.drop('Gender',axis=1)"
      ],
      "execution_count": 0,
      "outputs": []
    },
    {
      "cell_type": "code",
      "metadata": {
        "id": "3P3ZzeJY_YNh",
        "colab_type": "code",
        "colab": {}
      },
      "source": [
        "gold1=gold1.drop(['Gender','Designation','people_ID'],axis=1)"
      ],
      "execution_count": 0,
      "outputs": []
    },
    {
      "cell_type": "code",
      "metadata": {
        "id": "lTQT9XmYKbZ9",
        "colab_type": "code",
        "outputId": "d03055a0-66bd-40df-efa7-c6bb43d0d653",
        "colab": {
          "base_uri": "https://localhost:8080/",
          "height": 450
        }
      },
      "source": [
        "gold.isnull().sum()"
      ],
      "execution_count": 376,
      "outputs": [
        {
          "output_type": "execute_result",
          "data": {
            "text/plain": [
              "Region                       0\n",
              "Name                        20\n",
              "Married                      0\n",
              "Children                     0\n",
              "Occupation                   0\n",
              "Mode_transport               0\n",
              "cases/1M                     0\n",
              "Deaths/1M                    0\n",
              "comorbidity                226\n",
              "Age                          0\n",
              "Coma score                   0\n",
              "Pulmonary score              0\n",
              "cardiological pressure      97\n",
              "Diuresis                   716\n",
              "Platelets                    0\n",
              "HBB                         16\n",
              "d-dimer                      0\n",
              "Heart rate                   0\n",
              "HDL cholesterol              0\n",
              "Charlson Index               0\n",
              "Insurance                 1090\n",
              "salary                       0\n",
              "FT/month                   723\n",
              "Infect_Prob                  0\n",
              "BG                           0\n",
              "dtype: int64"
            ]
          },
          "metadata": {
            "tags": []
          },
          "execution_count": 376
        }
      ]
    },
    {
      "cell_type": "code",
      "metadata": {
        "id": "9A2AMPA2KbqJ",
        "colab_type": "code",
        "outputId": "6d33acf7-3ee9-486e-acab-594767e18663",
        "colab": {
          "base_uri": "https://localhost:8080/",
          "height": 353
        }
      },
      "source": [
        "plt.subplots(figsize=[15,5])\n",
        "plt.xticks(rotation=90)\n",
        "sns.boxplot(gold['Occupation'], gold.Infect_Prob)"
      ],
      "execution_count": 377,
      "outputs": [
        {
          "output_type": "execute_result",
          "data": {
            "text/plain": [
              "<matplotlib.axes._subplots.AxesSubplot at 0x7f713e1f3630>"
            ]
          },
          "metadata": {
            "tags": []
          },
          "execution_count": 377
        },
        {
          "output_type": "display_data",
          "data": {
            "image/png": "[encoded data removed]",
            "text/plain": [
              "<Figure size 1080x360 with 1 Axes>"
            ]
          },
          "metadata": {
            "tags": []
          }
        }
      ]
    },
    {
      "cell_type": "code",
      "metadata": {
        "id": "O6JdM50rN3q3",
        "colab_type": "code",
        "outputId": "6fe4d597-d8ec-4eaa-830a-0a5f5e5669dd",
        "colab": {
          "base_uri": "https://localhost:8080/",
          "height": 33
        }
      },
      "source": [
        "gold.Occupation.isnull().sum()"
      ],
      "execution_count": 378,
      "outputs": [
        {
          "output_type": "execute_result",
          "data": {
            "text/plain": [
              "0"
            ]
          },
          "metadata": {
            "tags": []
          },
          "execution_count": 378
        }
      ]
    },
    {
      "cell_type": "code",
      "metadata": {
        "id": "EBbnmAmWPnxy",
        "colab_type": "code",
        "outputId": "2f150dfe-34c8-43b5-c50c-6039da2d035b",
        "colab": {
          "base_uri": "https://localhost:8080/",
          "height": 433
        }
      },
      "source": [
        "gold.dtypes"
      ],
      "execution_count": 325,
      "outputs": [
        {
          "output_type": "execute_result",
          "data": {
            "text/plain": [
              "Region                     object\n",
              "Name                       object\n",
              "Married                    object\n",
              "Children                  float64\n",
              "Occupation                  int64\n",
              "Mode_transport             object\n",
              "cases/1M                    int64\n",
              "Deaths/1M                   int64\n",
              "comorbidity                object\n",
              "Age                         int64\n",
              "Coma score                  int64\n",
              "Pulmonary score            object\n",
              "cardiological pressure     object\n",
              "Diuresis                  float64\n",
              "Platelets                 float64\n",
              "HBB                       float64\n",
              "d-dimer                   float64\n",
              "Heart rate                float64\n",
              "HDL cholesterol           float64\n",
              "Charlson Index              int64\n",
              "Insurance                 float64\n",
              "salary                      int64\n",
              "FT/month                  float64\n",
              "Infect_Prob               float64\n",
              "dtype: object"
            ]
          },
          "metadata": {
            "tags": []
          },
          "execution_count": 325
        }
      ]
    },
    {
      "cell_type": "code",
      "metadata": {
        "id": "wFxYygbqL5xj",
        "colab_type": "code",
        "colab": {}
      },
      "source": [
        "gold['Occupation']=gold['Occupation'].fillna('No')"
      ],
      "execution_count": 0,
      "outputs": []
    },
    {
      "cell_type": "code",
      "metadata": {
        "id": "OC8MnjH3bOlv",
        "colab_type": "code",
        "colab": {}
      },
      "source": [
        "gold['comorbidity']=gold['comorbidity'].fillna('None')"
      ],
      "execution_count": 0,
      "outputs": []
    },
    {
      "cell_type": "code",
      "metadata": {
        "id": "WWZ3a9Gr_t2M",
        "colab_type": "code",
        "colab": {}
      },
      "source": [
        "gold1['Occupation']=gold1['Occupation'].fillna('No')\n",
        "gold1['comorbidity']=gold1['comorbidity'].fillna('None')\n"
      ],
      "execution_count": 0,
      "outputs": []
    },
    {
      "cell_type": "code",
      "metadata": {
        "id": "q7Q4AOiLROLg",
        "colab_type": "code",
        "outputId": "0b30c466-43a8-4ef8-caef-bc51b1694f10",
        "colab": {
          "base_uri": "https://localhost:8080/",
          "height": 334
        }
      },
      "source": [
        "#gold.Occupation.isnull().sum()\n",
        "gold.head()"
      ],
      "execution_count": 382,
      "outputs": [
        {
          "output_type": "execute_result",
          "data": {
            "text/html": [
              "<div>\n",
              "<style scoped>\n",
              "    .dataframe tbody tr th:only-of-type {\n",
              "        vertical-align: middle;\n",
              "    }\n",
              "\n",
              "    .dataframe tbody tr th {\n",
              "        vertical-align: top;\n",
              "    }\n",
              "\n",
              "    .dataframe thead th {\n",
              "        text-align: right;\n",
              "    }\n",
              "</style>\n",
              "<table border=\"1\" class=\"dataframe\">\n",
              "  <thead>\n",
              "    <tr style=\"text-align: right;\">\n",
              "      <th></th>\n",
              "      <th>Region</th>\n",
              "      <th>Name</th>\n",
              "      <th>Married</th>\n",
              "      <th>Children</th>\n",
              "      <th>Occupation</th>\n",
              "      <th>Mode_transport</th>\n",
              "      <th>cases/1M</th>\n",
              "      <th>Deaths/1M</th>\n",
              "      <th>comorbidity</th>\n",
              "      <th>Age</th>\n",
              "      <th>Coma score</th>\n",
              "      <th>Pulmonary score</th>\n",
              "      <th>cardiological pressure</th>\n",
              "      <th>Diuresis</th>\n",
              "      <th>Platelets</th>\n",
              "      <th>HBB</th>\n",
              "      <th>d-dimer</th>\n",
              "      <th>Heart rate</th>\n",
              "      <th>HDL cholesterol</th>\n",
              "      <th>Charlson Index</th>\n",
              "      <th>Insurance</th>\n",
              "      <th>salary</th>\n",
              "      <th>FT/month</th>\n",
              "      <th>Infect_Prob</th>\n",
              "      <th>BG</th>\n",
              "    </tr>\n",
              "  </thead>\n",
              "  <tbody>\n",
              "    <tr>\n",
              "      <th>0</th>\n",
              "      <td>Bhubaneshwar</td>\n",
              "      <td>anjali @ babli</td>\n",
              "      <td>YES</td>\n",
              "      <td>1.0</td>\n",
              "      <td>7</td>\n",
              "      <td>Car</td>\n",
              "      <td>0</td>\n",
              "      <td>0</td>\n",
              "      <td>Coronary Heart Disease</td>\n",
              "      <td>1</td>\n",
              "      <td>9</td>\n",
              "      <td>&lt;200</td>\n",
              "      <td>Stage-01</td>\n",
              "      <td>410.0</td>\n",
              "      <td>0</td>\n",
              "      <td>167.0</td>\n",
              "      <td>0</td>\n",
              "      <td>1</td>\n",
              "      <td>1</td>\n",
              "      <td>0</td>\n",
              "      <td>700000.0</td>\n",
              "      <td>2300000</td>\n",
              "      <td>1.0</td>\n",
              "      <td>48.779225</td>\n",
              "      <td>1</td>\n",
              "    </tr>\n",
              "    <tr>\n",
              "      <th>1</th>\n",
              "      <td>Bhubaneshwar</td>\n",
              "      <td>karina @ kavita</td>\n",
              "      <td>NO</td>\n",
              "      <td>0.0</td>\n",
              "      <td>9</td>\n",
              "      <td>Public</td>\n",
              "      <td>0</td>\n",
              "      <td>0</td>\n",
              "      <td>Diabetes</td>\n",
              "      <td>1</td>\n",
              "      <td>15</td>\n",
              "      <td>&lt;200</td>\n",
              "      <td>Stage-01</td>\n",
              "      <td>403.0</td>\n",
              "      <td>0</td>\n",
              "      <td>174.0</td>\n",
              "      <td>1</td>\n",
              "      <td>1</td>\n",
              "      <td>1</td>\n",
              "      <td>1</td>\n",
              "      <td>NaN</td>\n",
              "      <td>2300000</td>\n",
              "      <td>2.0</td>\n",
              "      <td>35.147520</td>\n",
              "      <td>0</td>\n",
              "    </tr>\n",
              "    <tr>\n",
              "      <th>2</th>\n",
              "      <td>Bhubaneshwar</td>\n",
              "      <td>rinukanwr</td>\n",
              "      <td>YES</td>\n",
              "      <td>1.0</td>\n",
              "      <td>6</td>\n",
              "      <td>Public</td>\n",
              "      <td>0</td>\n",
              "      <td>0</td>\n",
              "      <td>Coronary Heart Disease</td>\n",
              "      <td>1</td>\n",
              "      <td>9</td>\n",
              "      <td>&lt;400</td>\n",
              "      <td>Normal</td>\n",
              "      <td>181.0</td>\n",
              "      <td>0</td>\n",
              "      <td>177.0</td>\n",
              "      <td>0</td>\n",
              "      <td>0</td>\n",
              "      <td>0</td>\n",
              "      <td>1</td>\n",
              "      <td>3900000.0</td>\n",
              "      <td>2300000</td>\n",
              "      <td>0.0</td>\n",
              "      <td>48.868666</td>\n",
              "      <td>1</td>\n",
              "    </tr>\n",
              "    <tr>\n",
              "      <th>3</th>\n",
              "      <td>Bhubaneshwar</td>\n",
              "      <td>priya kumar</td>\n",
              "      <td>NO</td>\n",
              "      <td>2.0</td>\n",
              "      <td>2</td>\n",
              "      <td>Walk</td>\n",
              "      <td>0</td>\n",
              "      <td>0</td>\n",
              "      <td>Diabetes</td>\n",
              "      <td>1</td>\n",
              "      <td>15</td>\n",
              "      <td>&lt;300</td>\n",
              "      <td>Elevated</td>\n",
              "      <td>347.0</td>\n",
              "      <td>0</td>\n",
              "      <td>54.0</td>\n",
              "      <td>1</td>\n",
              "      <td>1</td>\n",
              "      <td>1</td>\n",
              "      <td>0</td>\n",
              "      <td>1700000.0</td>\n",
              "      <td>2300000</td>\n",
              "      <td>0.0</td>\n",
              "      <td>50.698176</td>\n",
              "      <td>1</td>\n",
              "    </tr>\n",
              "    <tr>\n",
              "      <th>4</th>\n",
              "      <td>Bhubaneshwar</td>\n",
              "      <td>jyoti</td>\n",
              "      <td>YES</td>\n",
              "      <td>2.0</td>\n",
              "      <td>5</td>\n",
              "      <td>Car</td>\n",
              "      <td>0</td>\n",
              "      <td>0</td>\n",
              "      <td>Diabetes</td>\n",
              "      <td>1</td>\n",
              "      <td>11</td>\n",
              "      <td>&lt;400</td>\n",
              "      <td>Normal</td>\n",
              "      <td>149.0</td>\n",
              "      <td>0</td>\n",
              "      <td>206.0</td>\n",
              "      <td>0</td>\n",
              "      <td>0</td>\n",
              "      <td>0</td>\n",
              "      <td>1</td>\n",
              "      <td>500000.0</td>\n",
              "      <td>2300000</td>\n",
              "      <td>2.0</td>\n",
              "      <td>50.437683</td>\n",
              "      <td>0</td>\n",
              "    </tr>\n",
              "  </tbody>\n",
              "</table>\n",
              "</div>"
            ],
            "text/plain": [
              "         Region             Name Married  ...  FT/month  Infect_Prob BG\n",
              "0  Bhubaneshwar   anjali @ babli     YES  ...       1.0    48.779225  1\n",
              "1  Bhubaneshwar  karina @ kavita      NO  ...       2.0    35.147520  0\n",
              "2  Bhubaneshwar        rinukanwr     YES  ...       0.0    48.868666  1\n",
              "3  Bhubaneshwar      priya kumar      NO  ...       0.0    50.698176  1\n",
              "4  Bhubaneshwar            jyoti     YES  ...       2.0    50.437683  0\n",
              "\n",
              "[5 rows x 25 columns]"
            ]
          },
          "metadata": {
            "tags": []
          },
          "execution_count": 382
        }
      ]
    },
    {
      "cell_type": "markdown",
      "metadata": {
        "id": "ggG2pcB6-cHv",
        "colab_type": "text"
      },
      "source": [
        ""
      ]
    },
    {
      "cell_type": "code",
      "metadata": {
        "id": "x4u5sxNIkUl-",
        "colab_type": "code",
        "outputId": "d04e090c-edba-400f-a9f4-3928bcee121f",
        "colab": {
          "base_uri": "https://localhost:8080/",
          "height": 358
        }
      },
      "source": [
        "plt.subplots(figsize=[15,5])\n",
        "plt.xticks(rotation=90)\n",
        "sns.boxplot(gold['Married'], gold.Infect_Prob)"
      ],
      "execution_count": 383,
      "outputs": [
        {
          "output_type": "execute_result",
          "data": {
            "text/plain": [
              "<matplotlib.axes._subplots.AxesSubplot at 0x7f713e1f3438>"
            ]
          },
          "metadata": {
            "tags": []
          },
          "execution_count": 383
        },
        {
          "output_type": "display_data",
          "data": {
            "image/png": "[encoded data removed]",
            "text/plain": [
              "<Figure size 1080x360 with 1 Axes>"
            ]
          },
          "metadata": {
            "tags": []
          }
        }
      ]
    },
    {
      "cell_type": "code",
      "metadata": {
        "id": "ZSBO9-Bkf5If",
        "colab_type": "code",
        "outputId": "6d094334-3cfd-4e10-9b67-81781ab41730",
        "colab": {
          "base_uri": "https://localhost:8080/",
          "height": 356
        }
      },
      "source": [
        "plt.subplots(figsize=[15,5])\n",
        "plt.xticks(rotation=90)\n",
        "sns.boxplot(gold['Children'], gold.Infect_Prob)"
      ],
      "execution_count": 331,
      "outputs": [
        {
          "output_type": "execute_result",
          "data": {
            "text/plain": [
              "<matplotlib.axes._subplots.AxesSubplot at 0x7f713fb592b0>"
            ]
          },
          "metadata": {
            "tags": []
          },
          "execution_count": 331
        },
        {
          "output_type": "display_data",
          "data": {
            "image/png": "[encoded data removed]",
            "text/plain": [
              "<Figure size 1080x360 with 1 Axes>"
            ]
          },
          "metadata": {
            "tags": []
          }
        }
      ]
    },
    {
      "cell_type": "code",
      "metadata": {
        "id": "82BI2CZ68RlK",
        "colab_type": "code",
        "outputId": "3691dbe6-5220-477e-c818-d4847d243652",
        "colab": {
          "base_uri": "https://localhost:8080/",
          "height": 362
        }
      },
      "source": [
        "plt.subplots(figsize=[15,5])\n",
        "plt.xticks(rotation=90)\n",
        "sns.boxplot(gold['HDL cholesterol'], gold.Infect_Prob)"
      ],
      "execution_count": 332,
      "outputs": [
        {
          "output_type": "execute_result",
          "data": {
            "text/plain": [
              "<matplotlib.axes._subplots.AxesSubplot at 0x7f713fa9a588>"
            ]
          },
          "metadata": {
            "tags": []
          },
          "execution_count": 332
        },
        {
          "output_type": "display_data",
          "data": {
            "image/png": "[encoded data removed]",
            "text/plain": [
              "<Figure size 1080x360 with 1 Axes>"
            ]
          },
          "metadata": {
            "tags": []
          }
        }
      ]
    },
    {
      "cell_type": "code",
      "metadata": {
        "id": "W6lrnkeQiKdT",
        "colab_type": "code",
        "outputId": "67407463-abb3-443f-ef8d-ccab7e91d38c",
        "colab": {
          "base_uri": "https://localhost:8080/",
          "height": 370
        }
      },
      "source": [
        "plt.subplots(figsize=[15,5])\n",
        "plt.xticks(rotation=90)\n",
        "sns.boxplot(gold['Platelets'], gold.Infect_Prob)"
      ],
      "execution_count": 333,
      "outputs": [
        {
          "output_type": "execute_result",
          "data": {
            "text/plain": [
              "<matplotlib.axes._subplots.AxesSubplot at 0x7f713f7612e8>"
            ]
          },
          "metadata": {
            "tags": []
          },
          "execution_count": 333
        },
        {
          "output_type": "display_data",
          "data": {
            "image/png": "[encoded data removed]",
            "text/plain": [
              "<Figure size 1080x360 with 1 Axes>"
            ]
          },
          "metadata": {
            "tags": []
          }
        }
      ]
    },
    {
      "cell_type": "code",
      "metadata": {
        "id": "84psuD_PiKmr",
        "colab_type": "code",
        "outputId": "58403c88-1a8b-4619-839b-bea01e5d8d53",
        "colab": {
          "base_uri": "https://localhost:8080/",
          "height": 460
        }
      },
      "source": [
        "plt.subplots(figsize=[15,5])\n",
        "plt.xticks(rotation=90)\n",
        "sns.boxplot(gold.comorbidity, gold.Infect_Prob)"
      ],
      "execution_count": 213,
      "outputs": [
        {
          "output_type": "execute_result",
          "data": {
            "text/plain": [
              "<matplotlib.axes._subplots.AxesSubplot at 0x7f714075e5f8>"
            ]
          },
          "metadata": {
            "tags": []
          },
          "execution_count": 213
        },
        {
          "output_type": "display_data",
          "data": {
            "image/png": "[encoded data removed]",
            "text/plain": [
              "<Figure size 1080x360 with 1 Axes>"
            ]
          },
          "metadata": {
            "tags": []
          }
        }
      ]
    },
    {
      "cell_type": "code",
      "metadata": {
        "id": "wQro8bFmb4wv",
        "colab_type": "code",
        "outputId": "1d3042db-b1a3-4f53-b204-50400c6b91ba",
        "colab": {
          "base_uri": "https://localhost:8080/",
          "height": 460
        }
      },
      "source": [
        "\n",
        "\n",
        "plt.subplots(figsize=[15,5])\n",
        "plt.xticks(rotation=90)\n",
        "sns.boxplot(gold.comorbidity, gold.Infect_Prob)"
      ],
      "execution_count": 214,
      "outputs": [
        {
          "output_type": "execute_result",
          "data": {
            "text/plain": [
              "<matplotlib.axes._subplots.AxesSubplot at 0x7f7140223b00>"
            ]
          },
          "metadata": {
            "tags": []
          },
          "execution_count": 214
        },
        {
          "output_type": "display_data",
          "data": {
            "image/png": "[encoded data removed]",
            "text/plain": [
              "<Figure size 1080x360 with 1 Axes>"
            ]
          },
          "metadata": {
            "tags": []
          }
        }
      ]
    },
    {
      "cell_type": "code",
      "metadata": {
        "id": "A4iteVVudCsn",
        "colab_type": "code",
        "outputId": "a33a125f-2d3d-498e-d267-cdc6a0fec386",
        "colab": {
          "base_uri": "https://localhost:8080/",
          "height": 383
        }
      },
      "source": [
        "gold.salary.value_counts()"
      ],
      "execution_count": 215,
      "outputs": [
        {
          "output_type": "execute_result",
          "data": {
            "text/plain": [
              "2300000    558\n",
              "900000     542\n",
              "2000000    534\n",
              "1200000    533\n",
              "2100000    533\n",
              "400000     533\n",
              "1500000    524\n",
              "1300000    518\n",
              "1600000    514\n",
              "800000     510\n",
              "1700000    508\n",
              "600000     506\n",
              "700000     502\n",
              "1400000    501\n",
              "300000     500\n",
              "1000000    495\n",
              "1900000    490\n",
              "1800000    487\n",
              "500000     486\n",
              "2200000    480\n",
              "1100000    460\n",
              "Name: salary, dtype: int64"
            ]
          },
          "metadata": {
            "tags": []
          },
          "execution_count": 215
        }
      ]
    },
    {
      "cell_type": "code",
      "metadata": {
        "id": "tYIM92MadJo_",
        "colab_type": "code",
        "outputId": "8959d401-d639-4dd4-ebe6-dcb4a60f8706",
        "colab": {
          "base_uri": "https://localhost:8080/",
          "height": 384
        }
      },
      "source": [
        "plt.subplots(figsize=[15,5])\n",
        "plt.xticks(rotation=90)\n",
        "sns.barplot(gold.salary, gold.Occupation)"
      ],
      "execution_count": 216,
      "outputs": [
        {
          "output_type": "execute_result",
          "data": {
            "text/plain": [
              "<matplotlib.axes._subplots.AxesSubplot at 0x7f71401767f0>"
            ]
          },
          "metadata": {
            "tags": []
          },
          "execution_count": 216
        },
        {
          "output_type": "display_data",
          "data": {
            "image/png": "[encoded data removed]",
            "text/plain": [
              "<Figure size 1080x360 with 1 Axes>"
            ]
          },
          "metadata": {
            "tags": []
          }
        }
      ]
    },
    {
      "cell_type": "code",
      "metadata": {
        "id": "F2Hm32SecvN1",
        "colab_type": "code",
        "outputId": "19b31d38-247b-4ab3-a691-1c27dce1d299",
        "colab": {
          "base_uri": "https://localhost:8080/",
          "height": 356
        }
      },
      "source": [
        "\n",
        "plt.subplots(figsize=[15,5])\n",
        "plt.xticks(rotation=90)\n",
        "sns.boxplot(gold['FT/month'], gold.Infect_Prob)"
      ],
      "execution_count": 217,
      "outputs": [
        {
          "output_type": "execute_result",
          "data": {
            "text/plain": [
              "<matplotlib.axes._subplots.AxesSubplot at 0x7f714008a550>"
            ]
          },
          "metadata": {
            "tags": []
          },
          "execution_count": 217
        },
        {
          "output_type": "display_data",
          "data": {
            "image/png": "[encoded data removed]",
            "text/plain": [
              "<Figure size 1080x360 with 1 Axes>"
            ]
          },
          "metadata": {
            "tags": []
          }
        }
      ]
    },
    {
      "cell_type": "code",
      "metadata": {
        "id": "aB314c0rnut-",
        "colab_type": "code",
        "outputId": "48c78456-c85b-481a-a5c8-e5cb9b030c3d",
        "colab": {
          "base_uri": "https://localhost:8080/",
          "height": 371
        }
      },
      "source": [
        "\n",
        "plt.subplots(figsize=[15,5])\n",
        "plt.xticks(rotation=90)\n",
        "sns.boxplot(gold['Mode_transport'], gold.Infect_Prob)"
      ],
      "execution_count": 218,
      "outputs": [
        {
          "output_type": "execute_result",
          "data": {
            "text/plain": [
              "<matplotlib.axes._subplots.AxesSubplot at 0x7f7140002b70>"
            ]
          },
          "metadata": {
            "tags": []
          },
          "execution_count": 218
        },
        {
          "output_type": "display_data",
          "data": {
            "image/png": "[encoded data removed]",
            "text/plain": [
              "<Figure size 1080x360 with 1 Axes>"
            ]
          },
          "metadata": {
            "tags": []
          }
        }
      ]
    },
    {
      "cell_type": "code",
      "metadata": {
        "id": "2HpDgzzWcE-x",
        "colab_type": "code",
        "colab": {}
      },
      "source": [
        "gold['FT/month']=gold['FT/month'].fillna(0.0)\n",
        "gold['Insurance']=gold['Insurance'].fillna(0.0)"
      ],
      "execution_count": 0,
      "outputs": []
    },
    {
      "cell_type": "code",
      "metadata": {
        "id": "Z4TCXc_x_7LZ",
        "colab_type": "code",
        "colab": {}
      },
      "source": [
        "gold1['FT/month']=gold1['FT/month'].fillna(0.0)\n",
        "gold1['Insurance']=gold1['Insurance'].fillna(0.0)"
      ],
      "execution_count": 0,
      "outputs": []
    },
    {
      "cell_type": "code",
      "metadata": {
        "id": "yMVNedJ3i7-h",
        "colab_type": "code",
        "outputId": "952a26cf-a8a9-4cc8-e934-f0eea7ec9f73",
        "colab": {
          "base_uri": "https://localhost:8080/",
          "height": 450
        }
      },
      "source": [
        "gold.isnull().sum()"
      ],
      "execution_count": 386,
      "outputs": [
        {
          "output_type": "execute_result",
          "data": {
            "text/plain": [
              "Region                      0\n",
              "Name                       20\n",
              "Married                     0\n",
              "Children                    0\n",
              "Occupation                  0\n",
              "Mode_transport              0\n",
              "cases/1M                    0\n",
              "Deaths/1M                   0\n",
              "comorbidity                 0\n",
              "Age                         0\n",
              "Coma score                  0\n",
              "Pulmonary score             0\n",
              "cardiological pressure     97\n",
              "Diuresis                  716\n",
              "Platelets                   0\n",
              "HBB                        16\n",
              "d-dimer                     0\n",
              "Heart rate                  0\n",
              "HDL cholesterol             0\n",
              "Charlson Index              0\n",
              "Insurance                   0\n",
              "salary                      0\n",
              "FT/month                    0\n",
              "Infect_Prob                 0\n",
              "BG                          0\n",
              "dtype: int64"
            ]
          },
          "metadata": {
            "tags": []
          },
          "execution_count": 386
        }
      ]
    },
    {
      "cell_type": "code",
      "metadata": {
        "id": "36UD5OD8oH4l",
        "colab_type": "code",
        "colab": {}
      },
      "source": [
        "gold=gold.drop('Diuresis',axis=1)"
      ],
      "execution_count": 0,
      "outputs": []
    },
    {
      "cell_type": "code",
      "metadata": {
        "id": "ANFuyPzlj2F4",
        "colab_type": "code",
        "colab": {}
      },
      "source": [
        "gold=gold.drop('HBB',axis=1)\n"
      ],
      "execution_count": 0,
      "outputs": []
    },
    {
      "cell_type": "code",
      "metadata": {
        "id": "CyfNt3VvkijU",
        "colab_type": "code",
        "colab": {}
      },
      "source": [
        "gold=gold.drop('cardiological pressure',axis=1)"
      ],
      "execution_count": 0,
      "outputs": []
    },
    {
      "cell_type": "code",
      "metadata": {
        "id": "U9TeiErPAAhi",
        "colab_type": "code",
        "colab": {}
      },
      "source": [
        "gold1=gold1.drop(['cardiological pressure','Diuresis','HBB'],axis=1)"
      ],
      "execution_count": 0,
      "outputs": []
    },
    {
      "cell_type": "code",
      "metadata": {
        "id": "2ZICRQok9YV_",
        "colab_type": "code",
        "outputId": "18a92a2d-4796-4746-f366-498d1bdd8794",
        "colab": {
          "base_uri": "https://localhost:8080/",
          "height": 66
        }
      },
      "source": [
        "gold['Heart rate'].value_counts()"
      ],
      "execution_count": 391,
      "outputs": [
        {
          "output_type": "execute_result",
          "data": {
            "text/plain": [
              "1    7657\n",
              "0    3057\n",
              "Name: Heart rate, dtype: int64"
            ]
          },
          "metadata": {
            "tags": []
          },
          "execution_count": 391
        }
      ]
    },
    {
      "cell_type": "code",
      "metadata": {
        "id": "Fiwb45Hsi74C",
        "colab_type": "code",
        "outputId": "3c1603f7-471b-42b9-971c-3300bb68e03d",
        "colab": {
          "base_uri": "https://localhost:8080/",
          "height": 324
        }
      },
      "source": [
        "gold.describe()"
      ],
      "execution_count": 392,
      "outputs": [
        {
          "output_type": "execute_result",
          "data": {
            "text/html": [
              "<div>\n",
              "<style scoped>\n",
              "    .dataframe tbody tr th:only-of-type {\n",
              "        vertical-align: middle;\n",
              "    }\n",
              "\n",
              "    .dataframe tbody tr th {\n",
              "        vertical-align: top;\n",
              "    }\n",
              "\n",
              "    .dataframe thead th {\n",
              "        text-align: right;\n",
              "    }\n",
              "</style>\n",
              "<table border=\"1\" class=\"dataframe\">\n",
              "  <thead>\n",
              "    <tr style=\"text-align: right;\">\n",
              "      <th></th>\n",
              "      <th>Children</th>\n",
              "      <th>Occupation</th>\n",
              "      <th>cases/1M</th>\n",
              "      <th>Deaths/1M</th>\n",
              "      <th>Age</th>\n",
              "      <th>Coma score</th>\n",
              "      <th>Platelets</th>\n",
              "      <th>d-dimer</th>\n",
              "      <th>Heart rate</th>\n",
              "      <th>HDL cholesterol</th>\n",
              "      <th>Charlson Index</th>\n",
              "      <th>Insurance</th>\n",
              "      <th>salary</th>\n",
              "      <th>FT/month</th>\n",
              "      <th>Infect_Prob</th>\n",
              "      <th>BG</th>\n",
              "    </tr>\n",
              "  </thead>\n",
              "  <tbody>\n",
              "    <tr>\n",
              "      <th>count</th>\n",
              "      <td>10714.000000</td>\n",
              "      <td>10714.000000</td>\n",
              "      <td>10714.000000</td>\n",
              "      <td>10714.000000</td>\n",
              "      <td>10714.0</td>\n",
              "      <td>10714.000000</td>\n",
              "      <td>10714.000000</td>\n",
              "      <td>10714.000000</td>\n",
              "      <td>10714.000000</td>\n",
              "      <td>10714.000000</td>\n",
              "      <td>10714.000000</td>\n",
              "      <td>1.071400e+04</td>\n",
              "      <td>1.071400e+04</td>\n",
              "      <td>10714.000000</td>\n",
              "      <td>10714.000000</td>\n",
              "      <td>10714.000000</td>\n",
              "    </tr>\n",
              "    <tr>\n",
              "      <th>mean</th>\n",
              "      <td>1.031921</td>\n",
              "      <td>4.312022</td>\n",
              "      <td>0.523241</td>\n",
              "      <td>0.523241</td>\n",
              "      <td>1.0</td>\n",
              "      <td>9.013067</td>\n",
              "      <td>0.066455</td>\n",
              "      <td>0.298395</td>\n",
              "      <td>0.714672</td>\n",
              "      <td>0.571589</td>\n",
              "      <td>0.318182</td>\n",
              "      <td>2.375835e+06</td>\n",
              "      <td>1.304713e+06</td>\n",
              "      <td>0.936812</td>\n",
              "      <td>52.280680</td>\n",
              "      <td>0.808008</td>\n",
              "    </tr>\n",
              "    <tr>\n",
              "      <th>std</th>\n",
              "      <td>0.825766</td>\n",
              "      <td>2.866648</td>\n",
              "      <td>0.854303</td>\n",
              "      <td>0.854303</td>\n",
              "      <td>0.0</td>\n",
              "      <td>3.714970</td>\n",
              "      <td>0.249088</td>\n",
              "      <td>0.457575</td>\n",
              "      <td>0.451591</td>\n",
              "      <td>0.494872</td>\n",
              "      <td>0.465792</td>\n",
              "      <td>1.535675e+06</td>\n",
              "      <td>6.075947e+05</td>\n",
              "      <td>0.826621</td>\n",
              "      <td>10.674667</td>\n",
              "      <td>0.393885</td>\n",
              "    </tr>\n",
              "    <tr>\n",
              "      <th>min</th>\n",
              "      <td>0.000000</td>\n",
              "      <td>0.000000</td>\n",
              "      <td>0.000000</td>\n",
              "      <td>0.000000</td>\n",
              "      <td>1.0</td>\n",
              "      <td>3.000000</td>\n",
              "      <td>0.000000</td>\n",
              "      <td>0.000000</td>\n",
              "      <td>0.000000</td>\n",
              "      <td>0.000000</td>\n",
              "      <td>0.000000</td>\n",
              "      <td>0.000000e+00</td>\n",
              "      <td>3.000000e+05</td>\n",
              "      <td>0.000000</td>\n",
              "      <td>29.289600</td>\n",
              "      <td>0.000000</td>\n",
              "    </tr>\n",
              "    <tr>\n",
              "      <th>25%</th>\n",
              "      <td>0.000000</td>\n",
              "      <td>2.000000</td>\n",
              "      <td>0.000000</td>\n",
              "      <td>0.000000</td>\n",
              "      <td>1.0</td>\n",
              "      <td>6.000000</td>\n",
              "      <td>0.000000</td>\n",
              "      <td>0.000000</td>\n",
              "      <td>0.000000</td>\n",
              "      <td>0.000000</td>\n",
              "      <td>0.000000</td>\n",
              "      <td>1.000000e+06</td>\n",
              "      <td>8.000000e+05</td>\n",
              "      <td>0.000000</td>\n",
              "      <td>47.277426</td>\n",
              "      <td>1.000000</td>\n",
              "    </tr>\n",
              "    <tr>\n",
              "      <th>50%</th>\n",
              "      <td>1.000000</td>\n",
              "      <td>4.000000</td>\n",
              "      <td>0.000000</td>\n",
              "      <td>0.000000</td>\n",
              "      <td>1.0</td>\n",
              "      <td>9.000000</td>\n",
              "      <td>0.000000</td>\n",
              "      <td>0.000000</td>\n",
              "      <td>1.000000</td>\n",
              "      <td>1.000000</td>\n",
              "      <td>0.000000</td>\n",
              "      <td>2.400000e+06</td>\n",
              "      <td>1.300000e+06</td>\n",
              "      <td>1.000000</td>\n",
              "      <td>49.008389</td>\n",
              "      <td>1.000000</td>\n",
              "    </tr>\n",
              "    <tr>\n",
              "      <th>75%</th>\n",
              "      <td>2.000000</td>\n",
              "      <td>7.000000</td>\n",
              "      <td>1.000000</td>\n",
              "      <td>1.000000</td>\n",
              "      <td>1.0</td>\n",
              "      <td>12.000000</td>\n",
              "      <td>0.000000</td>\n",
              "      <td>1.000000</td>\n",
              "      <td>1.000000</td>\n",
              "      <td>1.000000</td>\n",
              "      <td>1.000000</td>\n",
              "      <td>3.700000e+06</td>\n",
              "      <td>1.800000e+06</td>\n",
              "      <td>2.000000</td>\n",
              "      <td>52.762313</td>\n",
              "      <td>1.000000</td>\n",
              "    </tr>\n",
              "    <tr>\n",
              "      <th>max</th>\n",
              "      <td>2.000000</td>\n",
              "      <td>10.000000</td>\n",
              "      <td>2.000000</td>\n",
              "      <td>2.000000</td>\n",
              "      <td>1.0</td>\n",
              "      <td>15.000000</td>\n",
              "      <td>1.000000</td>\n",
              "      <td>1.000000</td>\n",
              "      <td>1.000000</td>\n",
              "      <td>1.000000</td>\n",
              "      <td>1.000000</td>\n",
              "      <td>5.000000e+06</td>\n",
              "      <td>2.300000e+06</td>\n",
              "      <td>2.000000</td>\n",
              "      <td>97.632000</td>\n",
              "      <td>1.000000</td>\n",
              "    </tr>\n",
              "  </tbody>\n",
              "</table>\n",
              "</div>"
            ],
            "text/plain": [
              "           Children    Occupation  ...   Infect_Prob            BG\n",
              "count  10714.000000  10714.000000  ...  10714.000000  10714.000000\n",
              "mean       1.031921      4.312022  ...     52.280680      0.808008\n",
              "std        0.825766      2.866648  ...     10.674667      0.393885\n",
              "min        0.000000      0.000000  ...     29.289600      0.000000\n",
              "25%        0.000000      2.000000  ...     47.277426      1.000000\n",
              "50%        1.000000      4.000000  ...     49.008389      1.000000\n",
              "75%        2.000000      7.000000  ...     52.762313      1.000000\n",
              "max        2.000000     10.000000  ...     97.632000      1.000000\n",
              "\n",
              "[8 rows x 16 columns]"
            ]
          },
          "metadata": {
            "tags": []
          },
          "execution_count": 392
        }
      ]
    },
    {
      "cell_type": "code",
      "metadata": {
        "id": "vZciR0dZwuEo",
        "colab_type": "code",
        "colab": {
          "base_uri": "https://localhost:8080/",
          "height": 334
        },
        "outputId": "6fa99230-f366-4d90-dcc8-0c2cc5ef6936"
      },
      "source": [
        "gold.head()"
      ],
      "execution_count": 393,
      "outputs": [
        {
          "output_type": "execute_result",
          "data": {
            "text/html": [
              "<div>\n",
              "<style scoped>\n",
              "    .dataframe tbody tr th:only-of-type {\n",
              "        vertical-align: middle;\n",
              "    }\n",
              "\n",
              "    .dataframe tbody tr th {\n",
              "        vertical-align: top;\n",
              "    }\n",
              "\n",
              "    .dataframe thead th {\n",
              "        text-align: right;\n",
              "    }\n",
              "</style>\n",
              "<table border=\"1\" class=\"dataframe\">\n",
              "  <thead>\n",
              "    <tr style=\"text-align: right;\">\n",
              "      <th></th>\n",
              "      <th>Region</th>\n",
              "      <th>Name</th>\n",
              "      <th>Married</th>\n",
              "      <th>Children</th>\n",
              "      <th>Occupation</th>\n",
              "      <th>Mode_transport</th>\n",
              "      <th>cases/1M</th>\n",
              "      <th>Deaths/1M</th>\n",
              "      <th>comorbidity</th>\n",
              "      <th>Age</th>\n",
              "      <th>Coma score</th>\n",
              "      <th>Pulmonary score</th>\n",
              "      <th>Platelets</th>\n",
              "      <th>d-dimer</th>\n",
              "      <th>Heart rate</th>\n",
              "      <th>HDL cholesterol</th>\n",
              "      <th>Charlson Index</th>\n",
              "      <th>Insurance</th>\n",
              "      <th>salary</th>\n",
              "      <th>FT/month</th>\n",
              "      <th>Infect_Prob</th>\n",
              "      <th>BG</th>\n",
              "    </tr>\n",
              "  </thead>\n",
              "  <tbody>\n",
              "    <tr>\n",
              "      <th>0</th>\n",
              "      <td>Bhubaneshwar</td>\n",
              "      <td>anjali @ babli</td>\n",
              "      <td>YES</td>\n",
              "      <td>1.0</td>\n",
              "      <td>7</td>\n",
              "      <td>Car</td>\n",
              "      <td>0</td>\n",
              "      <td>0</td>\n",
              "      <td>Coronary Heart Disease</td>\n",
              "      <td>1</td>\n",
              "      <td>9</td>\n",
              "      <td>&lt;200</td>\n",
              "      <td>0</td>\n",
              "      <td>0</td>\n",
              "      <td>1</td>\n",
              "      <td>1</td>\n",
              "      <td>0</td>\n",
              "      <td>700000.0</td>\n",
              "      <td>2300000</td>\n",
              "      <td>1.0</td>\n",
              "      <td>48.779225</td>\n",
              "      <td>1</td>\n",
              "    </tr>\n",
              "    <tr>\n",
              "      <th>1</th>\n",
              "      <td>Bhubaneshwar</td>\n",
              "      <td>karina @ kavita</td>\n",
              "      <td>NO</td>\n",
              "      <td>0.0</td>\n",
              "      <td>9</td>\n",
              "      <td>Public</td>\n",
              "      <td>0</td>\n",
              "      <td>0</td>\n",
              "      <td>Diabetes</td>\n",
              "      <td>1</td>\n",
              "      <td>15</td>\n",
              "      <td>&lt;200</td>\n",
              "      <td>0</td>\n",
              "      <td>1</td>\n",
              "      <td>1</td>\n",
              "      <td>1</td>\n",
              "      <td>1</td>\n",
              "      <td>0.0</td>\n",
              "      <td>2300000</td>\n",
              "      <td>2.0</td>\n",
              "      <td>35.147520</td>\n",
              "      <td>0</td>\n",
              "    </tr>\n",
              "    <tr>\n",
              "      <th>2</th>\n",
              "      <td>Bhubaneshwar</td>\n",
              "      <td>rinukanwr</td>\n",
              "      <td>YES</td>\n",
              "      <td>1.0</td>\n",
              "      <td>6</td>\n",
              "      <td>Public</td>\n",
              "      <td>0</td>\n",
              "      <td>0</td>\n",
              "      <td>Coronary Heart Disease</td>\n",
              "      <td>1</td>\n",
              "      <td>9</td>\n",
              "      <td>&lt;400</td>\n",
              "      <td>0</td>\n",
              "      <td>0</td>\n",
              "      <td>0</td>\n",
              "      <td>0</td>\n",
              "      <td>1</td>\n",
              "      <td>3900000.0</td>\n",
              "      <td>2300000</td>\n",
              "      <td>0.0</td>\n",
              "      <td>48.868666</td>\n",
              "      <td>1</td>\n",
              "    </tr>\n",
              "    <tr>\n",
              "      <th>3</th>\n",
              "      <td>Bhubaneshwar</td>\n",
              "      <td>priya kumar</td>\n",
              "      <td>NO</td>\n",
              "      <td>2.0</td>\n",
              "      <td>2</td>\n",
              "      <td>Walk</td>\n",
              "      <td>0</td>\n",
              "      <td>0</td>\n",
              "      <td>Diabetes</td>\n",
              "      <td>1</td>\n",
              "      <td>15</td>\n",
              "      <td>&lt;300</td>\n",
              "      <td>0</td>\n",
              "      <td>1</td>\n",
              "      <td>1</td>\n",
              "      <td>1</td>\n",
              "      <td>0</td>\n",
              "      <td>1700000.0</td>\n",
              "      <td>2300000</td>\n",
              "      <td>0.0</td>\n",
              "      <td>50.698176</td>\n",
              "      <td>1</td>\n",
              "    </tr>\n",
              "    <tr>\n",
              "      <th>4</th>\n",
              "      <td>Bhubaneshwar</td>\n",
              "      <td>jyoti</td>\n",
              "      <td>YES</td>\n",
              "      <td>2.0</td>\n",
              "      <td>5</td>\n",
              "      <td>Car</td>\n",
              "      <td>0</td>\n",
              "      <td>0</td>\n",
              "      <td>Diabetes</td>\n",
              "      <td>1</td>\n",
              "      <td>11</td>\n",
              "      <td>&lt;400</td>\n",
              "      <td>0</td>\n",
              "      <td>0</td>\n",
              "      <td>0</td>\n",
              "      <td>0</td>\n",
              "      <td>1</td>\n",
              "      <td>500000.0</td>\n",
              "      <td>2300000</td>\n",
              "      <td>2.0</td>\n",
              "      <td>50.437683</td>\n",
              "      <td>0</td>\n",
              "    </tr>\n",
              "  </tbody>\n",
              "</table>\n",
              "</div>"
            ],
            "text/plain": [
              "         Region             Name Married  ...  FT/month  Infect_Prob BG\n",
              "0  Bhubaneshwar   anjali @ babli     YES  ...       1.0    48.779225  1\n",
              "1  Bhubaneshwar  karina @ kavita      NO  ...       2.0    35.147520  0\n",
              "2  Bhubaneshwar        rinukanwr     YES  ...       0.0    48.868666  1\n",
              "3  Bhubaneshwar      priya kumar      NO  ...       0.0    50.698176  1\n",
              "4  Bhubaneshwar            jyoti     YES  ...       2.0    50.437683  0\n",
              "\n",
              "[5 rows x 22 columns]"
            ]
          },
          "metadata": {
            "tags": []
          },
          "execution_count": 393
        }
      ]
    },
    {
      "cell_type": "code",
      "metadata": {
        "id": "T7BatjOvxZv3",
        "colab_type": "code",
        "colab": {}
      },
      "source": [
        "gold=gold.drop(['Insurance','salary'],axis=1)"
      ],
      "execution_count": 0,
      "outputs": []
    },
    {
      "cell_type": "code",
      "metadata": {
        "id": "3zJAwcb-OUrx",
        "colab_type": "code",
        "colab": {
          "base_uri": "https://localhost:8080/",
          "height": 100
        },
        "outputId": "f76bd475-a128-45e5-af69-ce3ffdb32e95"
      },
      "source": [
        "gold.columns"
      ],
      "execution_count": 398,
      "outputs": [
        {
          "output_type": "execute_result",
          "data": {
            "text/plain": [
              "Index(['Region', 'Married', 'Children', 'Occupation', 'Mode_transport',\n",
              "       'cases/1M', 'Deaths/1M', 'comorbidity', 'Age', 'Coma score',\n",
              "       'Platelets', 'd-dimer', 'Heart rate', 'HDL cholesterol',\n",
              "       'Charlson Index', 'FT/month', 'Infect_Prob', 'BG'],\n",
              "      dtype='object')"
            ]
          },
          "metadata": {
            "tags": []
          },
          "execution_count": 398
        }
      ]
    },
    {
      "cell_type": "code",
      "metadata": {
        "id": "Tc7rYPUPyBka",
        "colab_type": "code",
        "colab": {}
      },
      "source": [
        "gold=gold.drop(['Region',\t'Deaths/1M'],axis=1)"
      ],
      "execution_count": 0,
      "outputs": []
    },
    {
      "cell_type": "code",
      "metadata": {
        "id": "Pf48oAxLOb7Y",
        "colab_type": "code",
        "colab": {
          "base_uri": "https://localhost:8080/",
          "height": 247
        },
        "outputId": "ca7dfebd-d1c9-49e9-a204-be93a8f194f9"
      },
      "source": [
        "gold.head()"
      ],
      "execution_count": 402,
      "outputs": [
        {
          "output_type": "execute_result",
          "data": {
            "text/html": [
              "<div>\n",
              "<style scoped>\n",
              "    .dataframe tbody tr th:only-of-type {\n",
              "        vertical-align: middle;\n",
              "    }\n",
              "\n",
              "    .dataframe tbody tr th {\n",
              "        vertical-align: top;\n",
              "    }\n",
              "\n",
              "    .dataframe thead th {\n",
              "        text-align: right;\n",
              "    }\n",
              "</style>\n",
              "<table border=\"1\" class=\"dataframe\">\n",
              "  <thead>\n",
              "    <tr style=\"text-align: right;\">\n",
              "      <th></th>\n",
              "      <th>Married</th>\n",
              "      <th>Children</th>\n",
              "      <th>Occupation</th>\n",
              "      <th>Mode_transport</th>\n",
              "      <th>cases/1M</th>\n",
              "      <th>comorbidity</th>\n",
              "      <th>Age</th>\n",
              "      <th>Coma score</th>\n",
              "      <th>Platelets</th>\n",
              "      <th>d-dimer</th>\n",
              "      <th>Heart rate</th>\n",
              "      <th>HDL cholesterol</th>\n",
              "      <th>Charlson Index</th>\n",
              "      <th>FT/month</th>\n",
              "      <th>Infect_Prob</th>\n",
              "      <th>BG</th>\n",
              "    </tr>\n",
              "  </thead>\n",
              "  <tbody>\n",
              "    <tr>\n",
              "      <th>0</th>\n",
              "      <td>YES</td>\n",
              "      <td>1.0</td>\n",
              "      <td>7</td>\n",
              "      <td>Car</td>\n",
              "      <td>0</td>\n",
              "      <td>Coronary Heart Disease</td>\n",
              "      <td>1</td>\n",
              "      <td>9</td>\n",
              "      <td>0</td>\n",
              "      <td>0</td>\n",
              "      <td>1</td>\n",
              "      <td>1</td>\n",
              "      <td>0</td>\n",
              "      <td>1.0</td>\n",
              "      <td>48.779225</td>\n",
              "      <td>1</td>\n",
              "    </tr>\n",
              "    <tr>\n",
              "      <th>1</th>\n",
              "      <td>NO</td>\n",
              "      <td>0.0</td>\n",
              "      <td>9</td>\n",
              "      <td>Public</td>\n",
              "      <td>0</td>\n",
              "      <td>Diabetes</td>\n",
              "      <td>1</td>\n",
              "      <td>15</td>\n",
              "      <td>0</td>\n",
              "      <td>1</td>\n",
              "      <td>1</td>\n",
              "      <td>1</td>\n",
              "      <td>1</td>\n",
              "      <td>2.0</td>\n",
              "      <td>35.147520</td>\n",
              "      <td>0</td>\n",
              "    </tr>\n",
              "    <tr>\n",
              "      <th>2</th>\n",
              "      <td>YES</td>\n",
              "      <td>1.0</td>\n",
              "      <td>6</td>\n",
              "      <td>Public</td>\n",
              "      <td>0</td>\n",
              "      <td>Coronary Heart Disease</td>\n",
              "      <td>1</td>\n",
              "      <td>9</td>\n",
              "      <td>0</td>\n",
              "      <td>0</td>\n",
              "      <td>0</td>\n",
              "      <td>0</td>\n",
              "      <td>1</td>\n",
              "      <td>0.0</td>\n",
              "      <td>48.868666</td>\n",
              "      <td>1</td>\n",
              "    </tr>\n",
              "    <tr>\n",
              "      <th>3</th>\n",
              "      <td>NO</td>\n",
              "      <td>2.0</td>\n",
              "      <td>2</td>\n",
              "      <td>Walk</td>\n",
              "      <td>0</td>\n",
              "      <td>Diabetes</td>\n",
              "      <td>1</td>\n",
              "      <td>15</td>\n",
              "      <td>0</td>\n",
              "      <td>1</td>\n",
              "      <td>1</td>\n",
              "      <td>1</td>\n",
              "      <td>0</td>\n",
              "      <td>0.0</td>\n",
              "      <td>50.698176</td>\n",
              "      <td>1</td>\n",
              "    </tr>\n",
              "    <tr>\n",
              "      <th>4</th>\n",
              "      <td>YES</td>\n",
              "      <td>2.0</td>\n",
              "      <td>5</td>\n",
              "      <td>Car</td>\n",
              "      <td>0</td>\n",
              "      <td>Diabetes</td>\n",
              "      <td>1</td>\n",
              "      <td>11</td>\n",
              "      <td>0</td>\n",
              "      <td>0</td>\n",
              "      <td>0</td>\n",
              "      <td>0</td>\n",
              "      <td>1</td>\n",
              "      <td>2.0</td>\n",
              "      <td>50.437683</td>\n",
              "      <td>0</td>\n",
              "    </tr>\n",
              "  </tbody>\n",
              "</table>\n",
              "</div>"
            ],
            "text/plain": [
              "  Married  Children  Occupation  ... FT/month  Infect_Prob BG\n",
              "0     YES       1.0           7  ...      1.0    48.779225  1\n",
              "1      NO       0.0           9  ...      2.0    35.147520  0\n",
              "2     YES       1.0           6  ...      0.0    48.868666  1\n",
              "3      NO       2.0           2  ...      0.0    50.698176  1\n",
              "4     YES       2.0           5  ...      2.0    50.437683  0\n",
              "\n",
              "[5 rows x 16 columns]"
            ]
          },
          "metadata": {
            "tags": []
          },
          "execution_count": 402
        }
      ]
    },
    {
      "cell_type": "code",
      "metadata": {
        "id": "jlH7zbqCzXDu",
        "colab_type": "code",
        "colab": {
          "base_uri": "https://localhost:8080/",
          "height": 302
        },
        "outputId": "f87b9549-5c3b-4a31-f8aa-dac2d7f3f8a6"
      },
      "source": [
        "gold=gold.drop(['Name'],axis=1)"
      ],
      "execution_count": 403,
      "outputs": [
        {
          "output_type": "error",
          "ename": "KeyError",
          "evalue": "ignored",
          "traceback": [
            "\u001b[0;31m---------------------------------------------------------------------------\u001b[0m",
            "\u001b[0;31mKeyError\u001b[0m                                  Traceback (most recent call last)",
            "\u001b[0;32m<ipython-input-403-ea74ae86cfea>\u001b[0m in \u001b[0;36m<module>\u001b[0;34m()\u001b[0m\n\u001b[0;32m----> 1\u001b[0;31m \u001b[0mgold\u001b[0m\u001b[0;34m=\u001b[0m\u001b[0mgold\u001b[0m\u001b[0;34m.\u001b[0m\u001b[0mdrop\u001b[0m\u001b[0;34m(\u001b[0m\u001b[0;34m[\u001b[0m\u001b[0;34m'Name'\u001b[0m\u001b[0;34m]\u001b[0m\u001b[0;34m,\u001b[0m\u001b[0maxis\u001b[0m\u001b[0;34m=\u001b[0m\u001b[0;36m1\u001b[0m\u001b[0;34m)\u001b[0m\u001b[0;34m\u001b[0m\u001b[0;34m\u001b[0m\u001b[0m\n\u001b[0m",
            "\u001b[0;32m/usr/local/lib/python3.6/dist-packages/pandas/core/frame.py\u001b[0m in \u001b[0;36mdrop\u001b[0;34m(self, labels, axis, index, columns, level, inplace, errors)\u001b[0m\n\u001b[1;32m   4115\u001b[0m             \u001b[0mlevel\u001b[0m\u001b[0;34m=\u001b[0m\u001b[0mlevel\u001b[0m\u001b[0;34m,\u001b[0m\u001b[0;34m\u001b[0m\u001b[0;34m\u001b[0m\u001b[0m\n\u001b[1;32m   4116\u001b[0m             \u001b[0minplace\u001b[0m\u001b[0;34m=\u001b[0m\u001b[0minplace\u001b[0m\u001b[0;34m,\u001b[0m\u001b[0;34m\u001b[0m\u001b[0;34m\u001b[0m\u001b[0m\n\u001b[0;32m-> 4117\u001b[0;31m             \u001b[0merrors\u001b[0m\u001b[0;34m=\u001b[0m\u001b[0merrors\u001b[0m\u001b[0;34m,\u001b[0m\u001b[0;34m\u001b[0m\u001b[0;34m\u001b[0m\u001b[0m\n\u001b[0m\u001b[1;32m   4118\u001b[0m         )\n\u001b[1;32m   4119\u001b[0m \u001b[0;34m\u001b[0m\u001b[0m\n",
            "\u001b[0;32m/usr/local/lib/python3.6/dist-packages/pandas/core/generic.py\u001b[0m in \u001b[0;36mdrop\u001b[0;34m(self, labels, axis, index, columns, level, inplace, errors)\u001b[0m\n\u001b[1;32m   3912\u001b[0m         \u001b[0;32mfor\u001b[0m \u001b[0maxis\u001b[0m\u001b[0;34m,\u001b[0m \u001b[0mlabels\u001b[0m \u001b[0;32min\u001b[0m \u001b[0maxes\u001b[0m\u001b[0;34m.\u001b[0m\u001b[0mitems\u001b[0m\u001b[0;34m(\u001b[0m\u001b[0;34m)\u001b[0m\u001b[0;34m:\u001b[0m\u001b[0;34m\u001b[0m\u001b[0;34m\u001b[0m\u001b[0m\n\u001b[1;32m   3913\u001b[0m             \u001b[0;32mif\u001b[0m \u001b[0mlabels\u001b[0m \u001b[0;32mis\u001b[0m \u001b[0;32mnot\u001b[0m \u001b[0;32mNone\u001b[0m\u001b[0;34m:\u001b[0m\u001b[0;34m\u001b[0m\u001b[0;34m\u001b[0m\u001b[0m\n\u001b[0;32m-> 3914\u001b[0;31m                 \u001b[0mobj\u001b[0m \u001b[0;34m=\u001b[0m \u001b[0mobj\u001b[0m\u001b[0;34m.\u001b[0m\u001b[0m_drop_axis\u001b[0m\u001b[0;34m(\u001b[0m\u001b[0mlabels\u001b[0m\u001b[0;34m,\u001b[0m \u001b[0maxis\u001b[0m\u001b[0;34m,\u001b[0m \u001b[0mlevel\u001b[0m\u001b[0;34m=\u001b[0m\u001b[0mlevel\u001b[0m\u001b[0;34m,\u001b[0m \u001b[0merrors\u001b[0m\u001b[0;34m=\u001b[0m\u001b[0merrors\u001b[0m\u001b[0;34m)\u001b[0m\u001b[0;34m\u001b[0m\u001b[0;34m\u001b[0m\u001b[0m\n\u001b[0m\u001b[1;32m   3915\u001b[0m \u001b[0;34m\u001b[0m\u001b[0m\n\u001b[1;32m   3916\u001b[0m         \u001b[0;32mif\u001b[0m \u001b[0minplace\u001b[0m\u001b[0;34m:\u001b[0m\u001b[0;34m\u001b[0m\u001b[0;34m\u001b[0m\u001b[0m\n",
            "\u001b[0;32m/usr/local/lib/python3.6/dist-packages/pandas/core/generic.py\u001b[0m in \u001b[0;36m_drop_axis\u001b[0;34m(self, labels, axis, level, errors)\u001b[0m\n\u001b[1;32m   3944\u001b[0m                 \u001b[0mnew_axis\u001b[0m \u001b[0;34m=\u001b[0m \u001b[0maxis\u001b[0m\u001b[0;34m.\u001b[0m\u001b[0mdrop\u001b[0m\u001b[0;34m(\u001b[0m\u001b[0mlabels\u001b[0m\u001b[0;34m,\u001b[0m \u001b[0mlevel\u001b[0m\u001b[0;34m=\u001b[0m\u001b[0mlevel\u001b[0m\u001b[0;34m,\u001b[0m \u001b[0merrors\u001b[0m\u001b[0;34m=\u001b[0m\u001b[0merrors\u001b[0m\u001b[0;34m)\u001b[0m\u001b[0;34m\u001b[0m\u001b[0;34m\u001b[0m\u001b[0m\n\u001b[1;32m   3945\u001b[0m             \u001b[0;32melse\u001b[0m\u001b[0;34m:\u001b[0m\u001b[0;34m\u001b[0m\u001b[0;34m\u001b[0m\u001b[0m\n\u001b[0;32m-> 3946\u001b[0;31m                 \u001b[0mnew_axis\u001b[0m \u001b[0;34m=\u001b[0m \u001b[0maxis\u001b[0m\u001b[0;34m.\u001b[0m\u001b[0mdrop\u001b[0m\u001b[0;34m(\u001b[0m\u001b[0mlabels\u001b[0m\u001b[0;34m,\u001b[0m \u001b[0merrors\u001b[0m\u001b[0;34m=\u001b[0m\u001b[0merrors\u001b[0m\u001b[0;34m)\u001b[0m\u001b[0;34m\u001b[0m\u001b[0;34m\u001b[0m\u001b[0m\n\u001b[0m\u001b[1;32m   3947\u001b[0m             \u001b[0mresult\u001b[0m \u001b[0;34m=\u001b[0m \u001b[0mself\u001b[0m\u001b[0;34m.\u001b[0m\u001b[0mreindex\u001b[0m\u001b[0;34m(\u001b[0m\u001b[0;34m**\u001b[0m\u001b[0;34m{\u001b[0m\u001b[0maxis_name\u001b[0m\u001b[0;34m:\u001b[0m \u001b[0mnew_axis\u001b[0m\u001b[0;34m}\u001b[0m\u001b[0;34m)\u001b[0m\u001b[0;34m\u001b[0m\u001b[0;34m\u001b[0m\u001b[0m\n\u001b[1;32m   3948\u001b[0m \u001b[0;34m\u001b[0m\u001b[0m\n",
            "\u001b[0;32m/usr/local/lib/python3.6/dist-packages/pandas/core/indexes/base.py\u001b[0m in \u001b[0;36mdrop\u001b[0;34m(self, labels, errors)\u001b[0m\n\u001b[1;32m   5338\u001b[0m         \u001b[0;32mif\u001b[0m \u001b[0mmask\u001b[0m\u001b[0;34m.\u001b[0m\u001b[0many\u001b[0m\u001b[0;34m(\u001b[0m\u001b[0;34m)\u001b[0m\u001b[0;34m:\u001b[0m\u001b[0;34m\u001b[0m\u001b[0;34m\u001b[0m\u001b[0m\n\u001b[1;32m   5339\u001b[0m             \u001b[0;32mif\u001b[0m \u001b[0merrors\u001b[0m \u001b[0;34m!=\u001b[0m \u001b[0;34m\"ignore\"\u001b[0m\u001b[0;34m:\u001b[0m\u001b[0;34m\u001b[0m\u001b[0;34m\u001b[0m\u001b[0m\n\u001b[0;32m-> 5340\u001b[0;31m                 \u001b[0;32mraise\u001b[0m \u001b[0mKeyError\u001b[0m\u001b[0;34m(\u001b[0m\u001b[0;34m\"{} not found in axis\"\u001b[0m\u001b[0;34m.\u001b[0m\u001b[0mformat\u001b[0m\u001b[0;34m(\u001b[0m\u001b[0mlabels\u001b[0m\u001b[0;34m[\u001b[0m\u001b[0mmask\u001b[0m\u001b[0;34m]\u001b[0m\u001b[0;34m)\u001b[0m\u001b[0;34m)\u001b[0m\u001b[0;34m\u001b[0m\u001b[0;34m\u001b[0m\u001b[0m\n\u001b[0m\u001b[1;32m   5341\u001b[0m             \u001b[0mindexer\u001b[0m \u001b[0;34m=\u001b[0m \u001b[0mindexer\u001b[0m\u001b[0;34m[\u001b[0m\u001b[0;34m~\u001b[0m\u001b[0mmask\u001b[0m\u001b[0;34m]\u001b[0m\u001b[0;34m\u001b[0m\u001b[0;34m\u001b[0m\u001b[0m\n\u001b[1;32m   5342\u001b[0m         \u001b[0;32mreturn\u001b[0m \u001b[0mself\u001b[0m\u001b[0;34m.\u001b[0m\u001b[0mdelete\u001b[0m\u001b[0;34m(\u001b[0m\u001b[0mindexer\u001b[0m\u001b[0;34m)\u001b[0m\u001b[0;34m\u001b[0m\u001b[0;34m\u001b[0m\u001b[0m\n",
            "\u001b[0;31mKeyError\u001b[0m: \"['Name'] not found in axis\""
          ]
        }
      ]
    },
    {
      "cell_type": "code",
      "metadata": {
        "id": "ttkEC69L0UqQ",
        "colab_type": "code",
        "colab": {
          "base_uri": "https://localhost:8080/",
          "height": 302
        },
        "outputId": "4a9f483b-19e0-4f8d-b86c-f449faddd2a7"
      },
      "source": [
        "gold=gold.drop(['Pulmonary score'],axis=1)"
      ],
      "execution_count": 404,
      "outputs": [
        {
          "output_type": "error",
          "ename": "KeyError",
          "evalue": "ignored",
          "traceback": [
            "\u001b[0;31m---------------------------------------------------------------------------\u001b[0m",
            "\u001b[0;31mKeyError\u001b[0m                                  Traceback (most recent call last)",
            "\u001b[0;32m<ipython-input-404-47cb2ff0f5d0>\u001b[0m in \u001b[0;36m<module>\u001b[0;34m()\u001b[0m\n\u001b[0;32m----> 1\u001b[0;31m \u001b[0mgold\u001b[0m\u001b[0;34m=\u001b[0m\u001b[0mgold\u001b[0m\u001b[0;34m.\u001b[0m\u001b[0mdrop\u001b[0m\u001b[0;34m(\u001b[0m\u001b[0;34m[\u001b[0m\u001b[0;34m'Pulmonary score'\u001b[0m\u001b[0;34m]\u001b[0m\u001b[0;34m,\u001b[0m\u001b[0maxis\u001b[0m\u001b[0;34m=\u001b[0m\u001b[0;36m1\u001b[0m\u001b[0;34m)\u001b[0m\u001b[0;34m\u001b[0m\u001b[0;34m\u001b[0m\u001b[0m\n\u001b[0m",
            "\u001b[0;32m/usr/local/lib/python3.6/dist-packages/pandas/core/frame.py\u001b[0m in \u001b[0;36mdrop\u001b[0;34m(self, labels, axis, index, columns, level, inplace, errors)\u001b[0m\n\u001b[1;32m   4115\u001b[0m             \u001b[0mlevel\u001b[0m\u001b[0;34m=\u001b[0m\u001b[0mlevel\u001b[0m\u001b[0;34m,\u001b[0m\u001b[0;34m\u001b[0m\u001b[0;34m\u001b[0m\u001b[0m\n\u001b[1;32m   4116\u001b[0m             \u001b[0minplace\u001b[0m\u001b[0;34m=\u001b[0m\u001b[0minplace\u001b[0m\u001b[0;34m,\u001b[0m\u001b[0;34m\u001b[0m\u001b[0;34m\u001b[0m\u001b[0m\n\u001b[0;32m-> 4117\u001b[0;31m             \u001b[0merrors\u001b[0m\u001b[0;34m=\u001b[0m\u001b[0merrors\u001b[0m\u001b[0;34m,\u001b[0m\u001b[0;34m\u001b[0m\u001b[0;34m\u001b[0m\u001b[0m\n\u001b[0m\u001b[1;32m   4118\u001b[0m         )\n\u001b[1;32m   4119\u001b[0m \u001b[0;34m\u001b[0m\u001b[0m\n",
            "\u001b[0;32m/usr/local/lib/python3.6/dist-packages/pandas/core/generic.py\u001b[0m in \u001b[0;36mdrop\u001b[0;34m(self, labels, axis, index, columns, level, inplace, errors)\u001b[0m\n\u001b[1;32m   3912\u001b[0m         \u001b[0;32mfor\u001b[0m \u001b[0maxis\u001b[0m\u001b[0;34m,\u001b[0m \u001b[0mlabels\u001b[0m \u001b[0;32min\u001b[0m \u001b[0maxes\u001b[0m\u001b[0;34m.\u001b[0m\u001b[0mitems\u001b[0m\u001b[0;34m(\u001b[0m\u001b[0;34m)\u001b[0m\u001b[0;34m:\u001b[0m\u001b[0;34m\u001b[0m\u001b[0;34m\u001b[0m\u001b[0m\n\u001b[1;32m   3913\u001b[0m             \u001b[0;32mif\u001b[0m \u001b[0mlabels\u001b[0m \u001b[0;32mis\u001b[0m \u001b[0;32mnot\u001b[0m \u001b[0;32mNone\u001b[0m\u001b[0;34m:\u001b[0m\u001b[0;34m\u001b[0m\u001b[0;34m\u001b[0m\u001b[0m\n\u001b[0;32m-> 3914\u001b[0;31m                 \u001b[0mobj\u001b[0m \u001b[0;34m=\u001b[0m \u001b[0mobj\u001b[0m\u001b[0;34m.\u001b[0m\u001b[0m_drop_axis\u001b[0m\u001b[0;34m(\u001b[0m\u001b[0mlabels\u001b[0m\u001b[0;34m,\u001b[0m \u001b[0maxis\u001b[0m\u001b[0;34m,\u001b[0m \u001b[0mlevel\u001b[0m\u001b[0;34m=\u001b[0m\u001b[0mlevel\u001b[0m\u001b[0;34m,\u001b[0m \u001b[0merrors\u001b[0m\u001b[0;34m=\u001b[0m\u001b[0merrors\u001b[0m\u001b[0;34m)\u001b[0m\u001b[0;34m\u001b[0m\u001b[0;34m\u001b[0m\u001b[0m\n\u001b[0m\u001b[1;32m   3915\u001b[0m \u001b[0;34m\u001b[0m\u001b[0m\n\u001b[1;32m   3916\u001b[0m         \u001b[0;32mif\u001b[0m \u001b[0minplace\u001b[0m\u001b[0;34m:\u001b[0m\u001b[0;34m\u001b[0m\u001b[0;34m\u001b[0m\u001b[0m\n",
            "\u001b[0;32m/usr/local/lib/python3.6/dist-packages/pandas/core/generic.py\u001b[0m in \u001b[0;36m_drop_axis\u001b[0;34m(self, labels, axis, level, errors)\u001b[0m\n\u001b[1;32m   3944\u001b[0m                 \u001b[0mnew_axis\u001b[0m \u001b[0;34m=\u001b[0m \u001b[0maxis\u001b[0m\u001b[0;34m.\u001b[0m\u001b[0mdrop\u001b[0m\u001b[0;34m(\u001b[0m\u001b[0mlabels\u001b[0m\u001b[0;34m,\u001b[0m \u001b[0mlevel\u001b[0m\u001b[0;34m=\u001b[0m\u001b[0mlevel\u001b[0m\u001b[0;34m,\u001b[0m \u001b[0merrors\u001b[0m\u001b[0;34m=\u001b[0m\u001b[0merrors\u001b[0m\u001b[0;34m)\u001b[0m\u001b[0;34m\u001b[0m\u001b[0;34m\u001b[0m\u001b[0m\n\u001b[1;32m   3945\u001b[0m             \u001b[0;32melse\u001b[0m\u001b[0;34m:\u001b[0m\u001b[0;34m\u001b[0m\u001b[0;34m\u001b[0m\u001b[0m\n\u001b[0;32m-> 3946\u001b[0;31m                 \u001b[0mnew_axis\u001b[0m \u001b[0;34m=\u001b[0m \u001b[0maxis\u001b[0m\u001b[0;34m.\u001b[0m\u001b[0mdrop\u001b[0m\u001b[0;34m(\u001b[0m\u001b[0mlabels\u001b[0m\u001b[0;34m,\u001b[0m \u001b[0merrors\u001b[0m\u001b[0;34m=\u001b[0m\u001b[0merrors\u001b[0m\u001b[0;34m)\u001b[0m\u001b[0;34m\u001b[0m\u001b[0;34m\u001b[0m\u001b[0m\n\u001b[0m\u001b[1;32m   3947\u001b[0m             \u001b[0mresult\u001b[0m \u001b[0;34m=\u001b[0m \u001b[0mself\u001b[0m\u001b[0;34m.\u001b[0m\u001b[0mreindex\u001b[0m\u001b[0;34m(\u001b[0m\u001b[0;34m**\u001b[0m\u001b[0;34m{\u001b[0m\u001b[0maxis_name\u001b[0m\u001b[0;34m:\u001b[0m \u001b[0mnew_axis\u001b[0m\u001b[0;34m}\u001b[0m\u001b[0;34m)\u001b[0m\u001b[0;34m\u001b[0m\u001b[0;34m\u001b[0m\u001b[0m\n\u001b[1;32m   3948\u001b[0m \u001b[0;34m\u001b[0m\u001b[0m\n",
            "\u001b[0;32m/usr/local/lib/python3.6/dist-packages/pandas/core/indexes/base.py\u001b[0m in \u001b[0;36mdrop\u001b[0;34m(self, labels, errors)\u001b[0m\n\u001b[1;32m   5338\u001b[0m         \u001b[0;32mif\u001b[0m \u001b[0mmask\u001b[0m\u001b[0;34m.\u001b[0m\u001b[0many\u001b[0m\u001b[0;34m(\u001b[0m\u001b[0;34m)\u001b[0m\u001b[0;34m:\u001b[0m\u001b[0;34m\u001b[0m\u001b[0;34m\u001b[0m\u001b[0m\n\u001b[1;32m   5339\u001b[0m             \u001b[0;32mif\u001b[0m \u001b[0merrors\u001b[0m \u001b[0;34m!=\u001b[0m \u001b[0;34m\"ignore\"\u001b[0m\u001b[0;34m:\u001b[0m\u001b[0;34m\u001b[0m\u001b[0;34m\u001b[0m\u001b[0m\n\u001b[0;32m-> 5340\u001b[0;31m                 \u001b[0;32mraise\u001b[0m \u001b[0mKeyError\u001b[0m\u001b[0;34m(\u001b[0m\u001b[0;34m\"{} not found in axis\"\u001b[0m\u001b[0;34m.\u001b[0m\u001b[0mformat\u001b[0m\u001b[0;34m(\u001b[0m\u001b[0mlabels\u001b[0m\u001b[0;34m[\u001b[0m\u001b[0mmask\u001b[0m\u001b[0;34m]\u001b[0m\u001b[0;34m)\u001b[0m\u001b[0;34m)\u001b[0m\u001b[0;34m\u001b[0m\u001b[0;34m\u001b[0m\u001b[0m\n\u001b[0m\u001b[1;32m   5341\u001b[0m             \u001b[0mindexer\u001b[0m \u001b[0;34m=\u001b[0m \u001b[0mindexer\u001b[0m\u001b[0;34m[\u001b[0m\u001b[0;34m~\u001b[0m\u001b[0mmask\u001b[0m\u001b[0;34m]\u001b[0m\u001b[0;34m\u001b[0m\u001b[0;34m\u001b[0m\u001b[0m\n\u001b[1;32m   5342\u001b[0m         \u001b[0;32mreturn\u001b[0m \u001b[0mself\u001b[0m\u001b[0;34m.\u001b[0m\u001b[0mdelete\u001b[0m\u001b[0;34m(\u001b[0m\u001b[0mindexer\u001b[0m\u001b[0;34m)\u001b[0m\u001b[0;34m\u001b[0m\u001b[0;34m\u001b[0m\u001b[0m\n",
            "\u001b[0;31mKeyError\u001b[0m: \"['Pulmonary score'] not found in axis\""
          ]
        }
      ]
    },
    {
      "cell_type": "code",
      "metadata": {
        "id": "S5Wv96rZ0vJN",
        "colab_type": "code",
        "colab": {}
      },
      "source": [
        "gold=gold.drop(['Coma score'],axis=1)"
      ],
      "execution_count": 0,
      "outputs": []
    },
    {
      "cell_type": "code",
      "metadata": {
        "id": "2c4qzDfXAUGc",
        "colab_type": "code",
        "colab": {}
      },
      "source": [
        "gold1=gold1.drop(['Coma score','Pulmonary score','Name','Region',\t'Deaths/1M','Insurance','salary'],axis=1)"
      ],
      "execution_count": 0,
      "outputs": []
    },
    {
      "cell_type": "code",
      "metadata": {
        "id": "p3duVdmexZ7O",
        "colab_type": "code",
        "colab": {
          "base_uri": "https://localhost:8080/",
          "height": 197
        },
        "outputId": "12c2ae67-e44d-4e4c-df68-b94c99c80685"
      },
      "source": [
        "gold.head()"
      ],
      "execution_count": 407,
      "outputs": [
        {
          "output_type": "execute_result",
          "data": {
            "text/html": [
              "<div>\n",
              "<style scoped>\n",
              "    .dataframe tbody tr th:only-of-type {\n",
              "        vertical-align: middle;\n",
              "    }\n",
              "\n",
              "    .dataframe tbody tr th {\n",
              "        vertical-align: top;\n",
              "    }\n",
              "\n",
              "    .dataframe thead th {\n",
              "        text-align: right;\n",
              "    }\n",
              "</style>\n",
              "<table border=\"1\" class=\"dataframe\">\n",
              "  <thead>\n",
              "    <tr style=\"text-align: right;\">\n",
              "      <th></th>\n",
              "      <th>Married</th>\n",
              "      <th>Children</th>\n",
              "      <th>Occupation</th>\n",
              "      <th>Mode_transport</th>\n",
              "      <th>cases/1M</th>\n",
              "      <th>comorbidity</th>\n",
              "      <th>Age</th>\n",
              "      <th>Platelets</th>\n",
              "      <th>d-dimer</th>\n",
              "      <th>Heart rate</th>\n",
              "      <th>HDL cholesterol</th>\n",
              "      <th>Charlson Index</th>\n",
              "      <th>FT/month</th>\n",
              "      <th>Infect_Prob</th>\n",
              "      <th>BG</th>\n",
              "    </tr>\n",
              "  </thead>\n",
              "  <tbody>\n",
              "    <tr>\n",
              "      <th>0</th>\n",
              "      <td>YES</td>\n",
              "      <td>1.0</td>\n",
              "      <td>7</td>\n",
              "      <td>Car</td>\n",
              "      <td>0</td>\n",
              "      <td>Coronary Heart Disease</td>\n",
              "      <td>1</td>\n",
              "      <td>0</td>\n",
              "      <td>0</td>\n",
              "      <td>1</td>\n",
              "      <td>1</td>\n",
              "      <td>0</td>\n",
              "      <td>1.0</td>\n",
              "      <td>48.779225</td>\n",
              "      <td>1</td>\n",
              "    </tr>\n",
              "    <tr>\n",
              "      <th>1</th>\n",
              "      <td>NO</td>\n",
              "      <td>0.0</td>\n",
              "      <td>9</td>\n",
              "      <td>Public</td>\n",
              "      <td>0</td>\n",
              "      <td>Diabetes</td>\n",
              "      <td>1</td>\n",
              "      <td>0</td>\n",
              "      <td>1</td>\n",
              "      <td>1</td>\n",
              "      <td>1</td>\n",
              "      <td>1</td>\n",
              "      <td>2.0</td>\n",
              "      <td>35.147520</td>\n",
              "      <td>0</td>\n",
              "    </tr>\n",
              "    <tr>\n",
              "      <th>2</th>\n",
              "      <td>YES</td>\n",
              "      <td>1.0</td>\n",
              "      <td>6</td>\n",
              "      <td>Public</td>\n",
              "      <td>0</td>\n",
              "      <td>Coronary Heart Disease</td>\n",
              "      <td>1</td>\n",
              "      <td>0</td>\n",
              "      <td>0</td>\n",
              "      <td>0</td>\n",
              "      <td>0</td>\n",
              "      <td>1</td>\n",
              "      <td>0.0</td>\n",
              "      <td>48.868666</td>\n",
              "      <td>1</td>\n",
              "    </tr>\n",
              "    <tr>\n",
              "      <th>3</th>\n",
              "      <td>NO</td>\n",
              "      <td>2.0</td>\n",
              "      <td>2</td>\n",
              "      <td>Walk</td>\n",
              "      <td>0</td>\n",
              "      <td>Diabetes</td>\n",
              "      <td>1</td>\n",
              "      <td>0</td>\n",
              "      <td>1</td>\n",
              "      <td>1</td>\n",
              "      <td>1</td>\n",
              "      <td>0</td>\n",
              "      <td>0.0</td>\n",
              "      <td>50.698176</td>\n",
              "      <td>1</td>\n",
              "    </tr>\n",
              "    <tr>\n",
              "      <th>4</th>\n",
              "      <td>YES</td>\n",
              "      <td>2.0</td>\n",
              "      <td>5</td>\n",
              "      <td>Car</td>\n",
              "      <td>0</td>\n",
              "      <td>Diabetes</td>\n",
              "      <td>1</td>\n",
              "      <td>0</td>\n",
              "      <td>0</td>\n",
              "      <td>0</td>\n",
              "      <td>0</td>\n",
              "      <td>1</td>\n",
              "      <td>2.0</td>\n",
              "      <td>50.437683</td>\n",
              "      <td>0</td>\n",
              "    </tr>\n",
              "  </tbody>\n",
              "</table>\n",
              "</div>"
            ],
            "text/plain": [
              "  Married  Children  Occupation  ... FT/month  Infect_Prob BG\n",
              "0     YES       1.0           7  ...      1.0    48.779225  1\n",
              "1      NO       0.0           9  ...      2.0    35.147520  0\n",
              "2     YES       1.0           6  ...      0.0    48.868666  1\n",
              "3      NO       2.0           2  ...      0.0    50.698176  1\n",
              "4     YES       2.0           5  ...      2.0    50.437683  0\n",
              "\n",
              "[5 rows x 15 columns]"
            ]
          },
          "metadata": {
            "tags": []
          },
          "execution_count": 407
        }
      ]
    },
    {
      "cell_type": "code",
      "metadata": {
        "id": "XgPDa4b-CjTx",
        "colab_type": "code",
        "colab": {}
      },
      "source": [
        "l5 = ['Car','Walk','Public']\n",
        "l6 = list(range(len(l5)))\n",
        "d2 = dict(zip(l5,l6))\n",
        "\n",
        "l7 = ['None','Hypertension','Diabetes','Coronary Heart Disease']\n",
        "l8 = list(range(len(l7)))\n",
        "d3 = dict(zip(l7,l8))\n"
      ],
      "execution_count": 0,
      "outputs": []
    },
    {
      "cell_type": "code",
      "metadata": {
        "id": "iPmV5y2ZAmxU",
        "colab_type": "code",
        "colab": {}
      },
      "source": [
        "l5g = ['Car','Walk','Public']\n",
        "l6g = list(range(len(l5g)))\n",
        "d2g = dict(zip(l5g,l6g))\n",
        "\n",
        "l7g = ['None','Hypertension','Diabetes','Coronary Heart Disease']\n",
        "l8g = list(range(len(l7g)))\n",
        "d3g = dict(zip(l7g,l8g))\n"
      ],
      "execution_count": 0,
      "outputs": []
    },
    {
      "cell_type": "code",
      "metadata": {
        "id": "lXmAZwer2Cei",
        "colab_type": "code",
        "colab": {
          "base_uri": "https://localhost:8080/",
          "height": 83
        },
        "outputId": "6601f439-e3bb-40f3-ace6-9eb4476f745e"
      },
      "source": [
        "gold.Mode_transport.value_counts()"
      ],
      "execution_count": 410,
      "outputs": [
        {
          "output_type": "execute_result",
          "data": {
            "text/plain": [
              "Public    3589\n",
              "Walk      3569\n",
              "Car       3556\n",
              "Name: Mode_transport, dtype: int64"
            ]
          },
          "metadata": {
            "tags": []
          },
          "execution_count": 410
        }
      ]
    },
    {
      "cell_type": "code",
      "metadata": {
        "id": "VKajMqht08DA",
        "colab_type": "code",
        "colab": {}
      },
      "source": [
        "\n",
        "gold['Mode_transport'] = gold['Mode_transport'].map(d2)\n",
        "gold['comorbidity'] = gold['comorbidity'].map(d3)"
      ],
      "execution_count": 0,
      "outputs": []
    },
    {
      "cell_type": "code",
      "metadata": {
        "id": "-uslOEHfAu5K",
        "colab_type": "code",
        "colab": {}
      },
      "source": [
        "\n",
        "gold1['Mode_transport'] = gold1['Mode_transport'].map(d2g)\n",
        "gold1['comorbidity'] = gold1['comorbidity'].map(d3g)"
      ],
      "execution_count": 0,
      "outputs": []
    },
    {
      "cell_type": "code",
      "metadata": {
        "id": "4R_mWx2g07_f",
        "colab_type": "code",
        "colab": {
          "base_uri": "https://localhost:8080/",
          "height": 197
        },
        "outputId": "b4b84860-9ab5-42d8-ad99-c0810abd3e2e"
      },
      "source": [
        "gold.head()"
      ],
      "execution_count": 413,
      "outputs": [
        {
          "output_type": "execute_result",
          "data": {
            "text/html": [
              "<div>\n",
              "<style scoped>\n",
              "    .dataframe tbody tr th:only-of-type {\n",
              "        vertical-align: middle;\n",
              "    }\n",
              "\n",
              "    .dataframe tbody tr th {\n",
              "        vertical-align: top;\n",
              "    }\n",
              "\n",
              "    .dataframe thead th {\n",
              "        text-align: right;\n",
              "    }\n",
              "</style>\n",
              "<table border=\"1\" class=\"dataframe\">\n",
              "  <thead>\n",
              "    <tr style=\"text-align: right;\">\n",
              "      <th></th>\n",
              "      <th>Married</th>\n",
              "      <th>Children</th>\n",
              "      <th>Occupation</th>\n",
              "      <th>Mode_transport</th>\n",
              "      <th>cases/1M</th>\n",
              "      <th>comorbidity</th>\n",
              "      <th>Age</th>\n",
              "      <th>Platelets</th>\n",
              "      <th>d-dimer</th>\n",
              "      <th>Heart rate</th>\n",
              "      <th>HDL cholesterol</th>\n",
              "      <th>Charlson Index</th>\n",
              "      <th>FT/month</th>\n",
              "      <th>Infect_Prob</th>\n",
              "      <th>BG</th>\n",
              "    </tr>\n",
              "  </thead>\n",
              "  <tbody>\n",
              "    <tr>\n",
              "      <th>0</th>\n",
              "      <td>YES</td>\n",
              "      <td>1.0</td>\n",
              "      <td>7</td>\n",
              "      <td>0</td>\n",
              "      <td>0</td>\n",
              "      <td>3</td>\n",
              "      <td>1</td>\n",
              "      <td>0</td>\n",
              "      <td>0</td>\n",
              "      <td>1</td>\n",
              "      <td>1</td>\n",
              "      <td>0</td>\n",
              "      <td>1.0</td>\n",
              "      <td>48.779225</td>\n",
              "      <td>1</td>\n",
              "    </tr>\n",
              "    <tr>\n",
              "      <th>1</th>\n",
              "      <td>NO</td>\n",
              "      <td>0.0</td>\n",
              "      <td>9</td>\n",
              "      <td>2</td>\n",
              "      <td>0</td>\n",
              "      <td>2</td>\n",
              "      <td>1</td>\n",
              "      <td>0</td>\n",
              "      <td>1</td>\n",
              "      <td>1</td>\n",
              "      <td>1</td>\n",
              "      <td>1</td>\n",
              "      <td>2.0</td>\n",
              "      <td>35.147520</td>\n",
              "      <td>0</td>\n",
              "    </tr>\n",
              "    <tr>\n",
              "      <th>2</th>\n",
              "      <td>YES</td>\n",
              "      <td>1.0</td>\n",
              "      <td>6</td>\n",
              "      <td>2</td>\n",
              "      <td>0</td>\n",
              "      <td>3</td>\n",
              "      <td>1</td>\n",
              "      <td>0</td>\n",
              "      <td>0</td>\n",
              "      <td>0</td>\n",
              "      <td>0</td>\n",
              "      <td>1</td>\n",
              "      <td>0.0</td>\n",
              "      <td>48.868666</td>\n",
              "      <td>1</td>\n",
              "    </tr>\n",
              "    <tr>\n",
              "      <th>3</th>\n",
              "      <td>NO</td>\n",
              "      <td>2.0</td>\n",
              "      <td>2</td>\n",
              "      <td>1</td>\n",
              "      <td>0</td>\n",
              "      <td>2</td>\n",
              "      <td>1</td>\n",
              "      <td>0</td>\n",
              "      <td>1</td>\n",
              "      <td>1</td>\n",
              "      <td>1</td>\n",
              "      <td>0</td>\n",
              "      <td>0.0</td>\n",
              "      <td>50.698176</td>\n",
              "      <td>1</td>\n",
              "    </tr>\n",
              "    <tr>\n",
              "      <th>4</th>\n",
              "      <td>YES</td>\n",
              "      <td>2.0</td>\n",
              "      <td>5</td>\n",
              "      <td>0</td>\n",
              "      <td>0</td>\n",
              "      <td>2</td>\n",
              "      <td>1</td>\n",
              "      <td>0</td>\n",
              "      <td>0</td>\n",
              "      <td>0</td>\n",
              "      <td>0</td>\n",
              "      <td>1</td>\n",
              "      <td>2.0</td>\n",
              "      <td>50.437683</td>\n",
              "      <td>0</td>\n",
              "    </tr>\n",
              "  </tbody>\n",
              "</table>\n",
              "</div>"
            ],
            "text/plain": [
              "  Married  Children  Occupation  ...  FT/month  Infect_Prob  BG\n",
              "0     YES       1.0           7  ...       1.0    48.779225   1\n",
              "1      NO       0.0           9  ...       2.0    35.147520   0\n",
              "2     YES       1.0           6  ...       0.0    48.868666   1\n",
              "3      NO       2.0           2  ...       0.0    50.698176   1\n",
              "4     YES       2.0           5  ...       2.0    50.437683   0\n",
              "\n",
              "[5 rows x 15 columns]"
            ]
          },
          "metadata": {
            "tags": []
          },
          "execution_count": 413
        }
      ]
    },
    {
      "cell_type": "code",
      "metadata": {
        "id": "rVHjlQD2078g",
        "colab_type": "code",
        "colab": {}
      },
      "source": [
        "gold= pd.get_dummies(gold, columns=['Married'], drop_first=True)\n"
      ],
      "execution_count": 0,
      "outputs": []
    },
    {
      "cell_type": "code",
      "metadata": {
        "id": "WA8Kli6g3vn8",
        "colab_type": "code",
        "colab": {}
      },
      "source": [
        "gold= pd.get_dummies(gold, columns=['Children'], drop_first=True)\n"
      ],
      "execution_count": 0,
      "outputs": []
    },
    {
      "cell_type": "code",
      "metadata": {
        "id": "hVKompI232t9",
        "colab_type": "code",
        "colab": {}
      },
      "source": [
        "gold= pd.get_dummies(gold, columns=['FT/month'], drop_first=True)\n"
      ],
      "execution_count": 0,
      "outputs": []
    },
    {
      "cell_type": "code",
      "metadata": {
        "id": "tPA8stSnCqGO",
        "colab_type": "code",
        "colab": {}
      },
      "source": [
        "gold1= pd.get_dummies(gold1, columns=['Married'], drop_first=True)\n",
        "gold1= pd.get_dummies(gold1, columns=['Children'], drop_first=True)\n",
        "gold1= pd.get_dummies(gold1, columns=['FT/month'], drop_first=True)\n"
      ],
      "execution_count": 0,
      "outputs": []
    },
    {
      "cell_type": "code",
      "metadata": {
        "id": "1WttRCMr064L",
        "colab_type": "code",
        "colab": {
          "base_uri": "https://localhost:8080/",
          "height": 234
        },
        "outputId": "771afc7f-ab66-4a2d-f921-c502f54a60f6"
      },
      "source": [
        "gold.head()"
      ],
      "execution_count": 418,
      "outputs": [
        {
          "output_type": "execute_result",
          "data": {
            "text/html": [
              "<div>\n",
              "<style scoped>\n",
              "    .dataframe tbody tr th:only-of-type {\n",
              "        vertical-align: middle;\n",
              "    }\n",
              "\n",
              "    .dataframe tbody tr th {\n",
              "        vertical-align: top;\n",
              "    }\n",
              "\n",
              "    .dataframe thead th {\n",
              "        text-align: right;\n",
              "    }\n",
              "</style>\n",
              "<table border=\"1\" class=\"dataframe\">\n",
              "  <thead>\n",
              "    <tr style=\"text-align: right;\">\n",
              "      <th></th>\n",
              "      <th>Occupation</th>\n",
              "      <th>Mode_transport</th>\n",
              "      <th>cases/1M</th>\n",
              "      <th>comorbidity</th>\n",
              "      <th>Age</th>\n",
              "      <th>Platelets</th>\n",
              "      <th>d-dimer</th>\n",
              "      <th>Heart rate</th>\n",
              "      <th>HDL cholesterol</th>\n",
              "      <th>Charlson Index</th>\n",
              "      <th>Infect_Prob</th>\n",
              "      <th>BG</th>\n",
              "      <th>Married_YES</th>\n",
              "      <th>Children_1.0</th>\n",
              "      <th>Children_2.0</th>\n",
              "      <th>FT/month_1.0</th>\n",
              "      <th>FT/month_2.0</th>\n",
              "    </tr>\n",
              "  </thead>\n",
              "  <tbody>\n",
              "    <tr>\n",
              "      <th>0</th>\n",
              "      <td>7</td>\n",
              "      <td>0</td>\n",
              "      <td>0</td>\n",
              "      <td>3</td>\n",
              "      <td>1</td>\n",
              "      <td>0</td>\n",
              "      <td>0</td>\n",
              "      <td>1</td>\n",
              "      <td>1</td>\n",
              "      <td>0</td>\n",
              "      <td>48.779225</td>\n",
              "      <td>1</td>\n",
              "      <td>1</td>\n",
              "      <td>1</td>\n",
              "      <td>0</td>\n",
              "      <td>1</td>\n",
              "      <td>0</td>\n",
              "    </tr>\n",
              "    <tr>\n",
              "      <th>1</th>\n",
              "      <td>9</td>\n",
              "      <td>2</td>\n",
              "      <td>0</td>\n",
              "      <td>2</td>\n",
              "      <td>1</td>\n",
              "      <td>0</td>\n",
              "      <td>1</td>\n",
              "      <td>1</td>\n",
              "      <td>1</td>\n",
              "      <td>1</td>\n",
              "      <td>35.147520</td>\n",
              "      <td>0</td>\n",
              "      <td>0</td>\n",
              "      <td>0</td>\n",
              "      <td>0</td>\n",
              "      <td>0</td>\n",
              "      <td>1</td>\n",
              "    </tr>\n",
              "    <tr>\n",
              "      <th>2</th>\n",
              "      <td>6</td>\n",
              "      <td>2</td>\n",
              "      <td>0</td>\n",
              "      <td>3</td>\n",
              "      <td>1</td>\n",
              "      <td>0</td>\n",
              "      <td>0</td>\n",
              "      <td>0</td>\n",
              "      <td>0</td>\n",
              "      <td>1</td>\n",
              "      <td>48.868666</td>\n",
              "      <td>1</td>\n",
              "      <td>1</td>\n",
              "      <td>1</td>\n",
              "      <td>0</td>\n",
              "      <td>0</td>\n",
              "      <td>0</td>\n",
              "    </tr>\n",
              "    <tr>\n",
              "      <th>3</th>\n",
              "      <td>2</td>\n",
              "      <td>1</td>\n",
              "      <td>0</td>\n",
              "      <td>2</td>\n",
              "      <td>1</td>\n",
              "      <td>0</td>\n",
              "      <td>1</td>\n",
              "      <td>1</td>\n",
              "      <td>1</td>\n",
              "      <td>0</td>\n",
              "      <td>50.698176</td>\n",
              "      <td>1</td>\n",
              "      <td>0</td>\n",
              "      <td>0</td>\n",
              "      <td>1</td>\n",
              "      <td>0</td>\n",
              "      <td>0</td>\n",
              "    </tr>\n",
              "    <tr>\n",
              "      <th>4</th>\n",
              "      <td>5</td>\n",
              "      <td>0</td>\n",
              "      <td>0</td>\n",
              "      <td>2</td>\n",
              "      <td>1</td>\n",
              "      <td>0</td>\n",
              "      <td>0</td>\n",
              "      <td>0</td>\n",
              "      <td>0</td>\n",
              "      <td>1</td>\n",
              "      <td>50.437683</td>\n",
              "      <td>0</td>\n",
              "      <td>1</td>\n",
              "      <td>0</td>\n",
              "      <td>1</td>\n",
              "      <td>0</td>\n",
              "      <td>1</td>\n",
              "    </tr>\n",
              "  </tbody>\n",
              "</table>\n",
              "</div>"
            ],
            "text/plain": [
              "   Occupation  Mode_transport  ...  FT/month_1.0  FT/month_2.0\n",
              "0           7               0  ...             1             0\n",
              "1           9               2  ...             0             1\n",
              "2           6               2  ...             0             0\n",
              "3           2               1  ...             0             0\n",
              "4           5               0  ...             0             1\n",
              "\n",
              "[5 rows x 17 columns]"
            ]
          },
          "metadata": {
            "tags": []
          },
          "execution_count": 418
        }
      ]
    },
    {
      "cell_type": "code",
      "metadata": {
        "id": "lyWfkXUUB1O1",
        "colab_type": "code",
        "colab": {
          "base_uri": "https://localhost:8080/",
          "height": 33
        },
        "outputId": "a27a5d9b-e6be-478e-de67-36b3cf3e6437"
      },
      "source": [
        "gold.shape"
      ],
      "execution_count": 419,
      "outputs": [
        {
          "output_type": "execute_result",
          "data": {
            "text/plain": [
              "(10714, 17)"
            ]
          },
          "metadata": {
            "tags": []
          },
          "execution_count": 419
        }
      ]
    },
    {
      "cell_type": "code",
      "metadata": {
        "id": "_yAVQ9D26a3J",
        "colab_type": "code",
        "colab": {
          "base_uri": "https://localhost:8080/",
          "height": 316
        },
        "outputId": "76b4153e-f448-49f8-c347-5c2a9cf25123"
      },
      "source": [
        "gold.dtypes"
      ],
      "execution_count": 420,
      "outputs": [
        {
          "output_type": "execute_result",
          "data": {
            "text/plain": [
              "Occupation           int64\n",
              "Mode_transport       int64\n",
              "cases/1M             int64\n",
              "comorbidity          int64\n",
              "Age                  int64\n",
              "Platelets            int64\n",
              "d-dimer              int64\n",
              "Heart rate           int64\n",
              "HDL cholesterol      int64\n",
              "Charlson Index       int64\n",
              "Infect_Prob        float64\n",
              "BG                   int64\n",
              "Married_YES          uint8\n",
              "Children_1.0         uint8\n",
              "Children_2.0         uint8\n",
              "FT/month_1.0         uint8\n",
              "FT/month_2.0         uint8\n",
              "dtype: object"
            ]
          },
          "metadata": {
            "tags": []
          },
          "execution_count": 420
        }
      ]
    },
    {
      "cell_type": "code",
      "metadata": {
        "id": "XVGaXYS5BqAn",
        "colab_type": "code",
        "colab": {
          "base_uri": "https://localhost:8080/",
          "height": 216
        },
        "outputId": "7903ce60-e733-4693-eebc-53bb7ad4c14d"
      },
      "source": [
        "gold['Infect_Prob']"
      ],
      "execution_count": 421,
      "outputs": [
        {
          "output_type": "execute_result",
          "data": {
            "text/plain": [
              "0        48.779225\n",
              "1        35.147520\n",
              "2        48.868666\n",
              "3        50.698176\n",
              "4        50.437683\n",
              "           ...    \n",
              "10709    74.200320\n",
              "10710    91.774080\n",
              "10711    59.869682\n",
              "10712    46.943607\n",
              "10713    41.981760\n",
              "Name: Infect_Prob, Length: 10714, dtype: float64"
            ]
          },
          "metadata": {
            "tags": []
          },
          "execution_count": 421
        }
      ]
    },
    {
      "cell_type": "code",
      "metadata": {
        "id": "_0nZvtG4BZsJ",
        "colab_type": "code",
        "colab": {}
      },
      "source": [
        "gold['Infect_Prob'] = np.log1p(gold['Infect_Prob'])"
      ],
      "execution_count": 0,
      "outputs": []
    },
    {
      "cell_type": "code",
      "metadata": {
        "id": "2mUr1z4wCGaR",
        "colab_type": "code",
        "colab": {
          "base_uri": "https://localhost:8080/",
          "height": 234
        },
        "outputId": "dd4be3f1-bfdb-45fd-9160-30ef965994fd"
      },
      "source": [
        "gold.head()"
      ],
      "execution_count": 423,
      "outputs": [
        {
          "output_type": "execute_result",
          "data": {
            "text/html": [
              "<div>\n",
              "<style scoped>\n",
              "    .dataframe tbody tr th:only-of-type {\n",
              "        vertical-align: middle;\n",
              "    }\n",
              "\n",
              "    .dataframe tbody tr th {\n",
              "        vertical-align: top;\n",
              "    }\n",
              "\n",
              "    .dataframe thead th {\n",
              "        text-align: right;\n",
              "    }\n",
              "</style>\n",
              "<table border=\"1\" class=\"dataframe\">\n",
              "  <thead>\n",
              "    <tr style=\"text-align: right;\">\n",
              "      <th></th>\n",
              "      <th>Occupation</th>\n",
              "      <th>Mode_transport</th>\n",
              "      <th>cases/1M</th>\n",
              "      <th>comorbidity</th>\n",
              "      <th>Age</th>\n",
              "      <th>Platelets</th>\n",
              "      <th>d-dimer</th>\n",
              "      <th>Heart rate</th>\n",
              "      <th>HDL cholesterol</th>\n",
              "      <th>Charlson Index</th>\n",
              "      <th>Infect_Prob</th>\n",
              "      <th>BG</th>\n",
              "      <th>Married_YES</th>\n",
              "      <th>Children_1.0</th>\n",
              "      <th>Children_2.0</th>\n",
              "      <th>FT/month_1.0</th>\n",
              "      <th>FT/month_2.0</th>\n",
              "    </tr>\n",
              "  </thead>\n",
              "  <tbody>\n",
              "    <tr>\n",
              "      <th>0</th>\n",
              "      <td>7</td>\n",
              "      <td>0</td>\n",
              "      <td>0</td>\n",
              "      <td>3</td>\n",
              "      <td>1</td>\n",
              "      <td>0</td>\n",
              "      <td>0</td>\n",
              "      <td>1</td>\n",
              "      <td>1</td>\n",
              "      <td>0</td>\n",
              "      <td>3.907598</td>\n",
              "      <td>1</td>\n",
              "      <td>1</td>\n",
              "      <td>1</td>\n",
              "      <td>0</td>\n",
              "      <td>1</td>\n",
              "      <td>0</td>\n",
              "    </tr>\n",
              "    <tr>\n",
              "      <th>1</th>\n",
              "      <td>9</td>\n",
              "      <td>2</td>\n",
              "      <td>0</td>\n",
              "      <td>2</td>\n",
              "      <td>1</td>\n",
              "      <td>0</td>\n",
              "      <td>1</td>\n",
              "      <td>1</td>\n",
              "      <td>1</td>\n",
              "      <td>1</td>\n",
              "      <td>3.587608</td>\n",
              "      <td>0</td>\n",
              "      <td>0</td>\n",
              "      <td>0</td>\n",
              "      <td>0</td>\n",
              "      <td>0</td>\n",
              "      <td>1</td>\n",
              "    </tr>\n",
              "    <tr>\n",
              "      <th>2</th>\n",
              "      <td>6</td>\n",
              "      <td>2</td>\n",
              "      <td>0</td>\n",
              "      <td>3</td>\n",
              "      <td>1</td>\n",
              "      <td>0</td>\n",
              "      <td>0</td>\n",
              "      <td>0</td>\n",
              "      <td>0</td>\n",
              "      <td>1</td>\n",
              "      <td>3.909393</td>\n",
              "      <td>1</td>\n",
              "      <td>1</td>\n",
              "      <td>1</td>\n",
              "      <td>0</td>\n",
              "      <td>0</td>\n",
              "      <td>0</td>\n",
              "    </tr>\n",
              "    <tr>\n",
              "      <th>3</th>\n",
              "      <td>2</td>\n",
              "      <td>1</td>\n",
              "      <td>0</td>\n",
              "      <td>2</td>\n",
              "      <td>1</td>\n",
              "      <td>0</td>\n",
              "      <td>1</td>\n",
              "      <td>1</td>\n",
              "      <td>1</td>\n",
              "      <td>0</td>\n",
              "      <td>3.945422</td>\n",
              "      <td>1</td>\n",
              "      <td>0</td>\n",
              "      <td>0</td>\n",
              "      <td>1</td>\n",
              "      <td>0</td>\n",
              "      <td>0</td>\n",
              "    </tr>\n",
              "    <tr>\n",
              "      <th>4</th>\n",
              "      <td>5</td>\n",
              "      <td>0</td>\n",
              "      <td>0</td>\n",
              "      <td>2</td>\n",
              "      <td>1</td>\n",
              "      <td>0</td>\n",
              "      <td>0</td>\n",
              "      <td>0</td>\n",
              "      <td>0</td>\n",
              "      <td>1</td>\n",
              "      <td>3.940371</td>\n",
              "      <td>0</td>\n",
              "      <td>1</td>\n",
              "      <td>0</td>\n",
              "      <td>1</td>\n",
              "      <td>0</td>\n",
              "      <td>1</td>\n",
              "    </tr>\n",
              "  </tbody>\n",
              "</table>\n",
              "</div>"
            ],
            "text/plain": [
              "   Occupation  Mode_transport  ...  FT/month_1.0  FT/month_2.0\n",
              "0           7               0  ...             1             0\n",
              "1           9               2  ...             0             1\n",
              "2           6               2  ...             0             0\n",
              "3           2               1  ...             0             0\n",
              "4           5               0  ...             0             1\n",
              "\n",
              "[5 rows x 17 columns]"
            ]
          },
          "metadata": {
            "tags": []
          },
          "execution_count": 423
        }
      ]
    },
    {
      "cell_type": "code",
      "metadata": {
        "id": "LWpLjX_8061F",
        "colab_type": "code",
        "colab": {}
      },
      "source": [
        "X = gold.drop(labels=['Infect_Prob'], axis=1)\n",
        "y = gold['Infect_Prob'].values\n",
        "\n",
        "from sklearn.model_selection import train_test_split\n",
        "X_train, X_cv, y_train, y_cv = train_test_split(X, y, test_size=0.25, random_state=1)"
      ],
      "execution_count": 0,
      "outputs": []
    },
    {
      "cell_type": "code",
      "metadata": {
        "id": "abKoUNp84Aob",
        "colab_type": "code",
        "colab": {
          "base_uri": "https://localhost:8080/",
          "height": 33
        },
        "outputId": "54bd799e-a499-4607-e9d1-8e6be42aeccb"
      },
      "source": [
        "X_train.shape, y_train.shape, X_cv.shape, y_cv.shape"
      ],
      "execution_count": 143,
      "outputs": [
        {
          "output_type": "execute_result",
          "data": {
            "text/plain": [
              "((8035, 16), (8035,), (2679, 16), (2679,))"
            ]
          },
          "metadata": {
            "tags": []
          },
          "execution_count": 143
        }
      ]
    },
    {
      "cell_type": "code",
      "metadata": {
        "id": "DcNvVdzt4AmQ",
        "colab_type": "code",
        "colab": {}
      },
      "source": [
        "from math import sqrt \n",
        "from sklearn.metrics import mean_squared_log_error"
      ],
      "execution_count": 0,
      "outputs": []
    },
    {
      "cell_type": "code",
      "metadata": {
        "id": "G8tSQwS94WC8",
        "colab_type": "code",
        "colab": {
          "base_uri": "https://localhost:8080/",
          "height": 116
        },
        "outputId": "1ffd85c2-a31f-4ebc-a929-02178ec53ce7"
      },
      "source": [
        "\n",
        "import lightgbm as lgb\n",
        "train_data = lgb.Dataset(X_train, label=y_train)\n",
        "test_data = lgb.Dataset(X_cv, label=y_cv)\n",
        "\n",
        "param = {'objective': 'regression',\n",
        "         'boosting': 'gbdt',\n",
        "         'num_iterations': 3000,   \n",
        "         'learning_rate': 0.06,  \n",
        "         'num_leaves': 40,  \n",
        "         'max_depth': 24,   \n",
        "         'min_data_in_leaf':11,  \n",
        "         'max_bin': 4, \n",
        "         'metric': 'l2_root'\n",
        "         }\n",
        "\n",
        "lgbm = lgb.train(params=param,\n",
        "                 verbose_eval=1000,\n",
        "                 train_set=train_data,\n",
        "                 valid_sets=[test_data])\n",
        "\n",
        "y_pred2 = lgbm.predict(X_cv)\n",
        "print('RMSLE:', sqrt(mean_squared_log_error(np.exp(y_cv), np.exp(y_pred2))))"
      ],
      "execution_count": 151,
      "outputs": [
        {
          "output_type": "stream",
          "text": [
            "/usr/local/lib/python3.6/dist-packages/lightgbm/engine.py:118: UserWarning: Found `num_iterations` in params. Will use it instead of argument\n",
            "  warnings.warn(\"Found `{}` in params. Will use it instead of argument\".format(alias))\n"
          ],
          "name": "stderr"
        },
        {
          "output_type": "stream",
          "text": [
            "[1000]\tvalid_0's rmse: 0.184344\n",
            "[2000]\tvalid_0's rmse: 0.191639\n",
            "[3000]\tvalid_0's rmse: 0.196326\n",
            "RMSLE: 0.1928763605974425\n"
          ],
          "name": "stdout"
        }
      ]
    },
    {
      "cell_type": "code",
      "metadata": {
        "id": "-rNMEqvc5iaM",
        "colab_type": "code",
        "colab": {
          "base_uri": "https://localhost:8080/",
          "height": 50
        },
        "outputId": "91787e83-1216-4002-a33c-cdc5af7b6a3e"
      },
      "source": [
        "from xgboost import XGBRegressor\n",
        "xgb = XGBRegressor(max_depth=9, \n",
        "                   learning_rate=0.5, \n",
        "                   n_estimators=112, \n",
        "                   silent=False, \n",
        "                   objective='reg:linear', \n",
        "                   booster='gbtree', \n",
        "                   n_jobs=1, \n",
        "                   nthread=None, \n",
        "                   gamma=0, \n",
        "                   min_child_weight=1, \n",
        "                   max_delta_step=0, \n",
        "                   subsample=1, \n",
        "                   colsample_bytree=1, \n",
        "                   colsample_bylevel=1, \n",
        "                   reg_alpha=1, \n",
        "                   reg_lambda=1, \n",
        "                   scale_pos_weight=1, \n",
        "                   base_score=0.5, \n",
        "                   random_state=0, \n",
        "                   seed=None)\n",
        "xgb.fit(X_train, y_train)\n",
        "y_pred1 = xgb.predict(X_cv)\n",
        "print('RMSLE:', sqrt(mean_squared_log_error(np.exp(y_cv), np.exp(y_pred1))))\n",
        "#RMSLE:0.11124007381703037"
      ],
      "execution_count": 146,
      "outputs": [
        {
          "output_type": "stream",
          "text": [
            "[06:16:15] WARNING: /workspace/src/objective/regression_obj.cu:152: reg:linear is now deprecated in favor of reg:squarederror.\n",
            "RMSLE: 0.16445363476823147\n"
          ],
          "name": "stdout"
        }
      ]
    },
    {
      "cell_type": "code",
      "metadata": {
        "id": "JymprlLM4WhF",
        "colab_type": "code",
        "colab": {
          "base_uri": "https://localhost:8080/",
          "height": 33
        },
        "outputId": "c31c702e-7637-4836-81d3-6ee0ee5df2c8"
      },
      "source": [
        "from sklearn.ensemble import BaggingRegressor\n",
        "br = BaggingRegressor(base_estimator=None, \n",
        "                      n_estimators=50, \n",
        "                      max_samples=1.0, \n",
        "                      max_features=1.0, \n",
        "                      bootstrap=True, \n",
        "                      bootstrap_features=False, \n",
        "                      oob_score=False, \n",
        "                      warm_start=False, \n",
        "                      n_jobs=1, \n",
        "                      random_state=1, \n",
        "                      verbose=0)\n",
        "br.fit(X_train, y_train)\n",
        "y_pred3 = br.predict(X_cv)\n",
        "print('RMSLE:', sqrt(mean_squared_log_error(np.exp(y_cv), np.exp(y_pred3))))\n",
        "#RMSLE:0.11265336177662688"
      ],
      "execution_count": 147,
      "outputs": [
        {
          "output_type": "stream",
          "text": [
            "RMSLE: 0.16768124010979626\n"
          ],
          "name": "stdout"
        }
      ]
    },
    {
      "cell_type": "code",
      "metadata": {
        "id": "0xzVmMqR4Weq",
        "colab_type": "code",
        "colab": {
          "base_uri": "https://localhost:8080/",
          "height": 1000
        },
        "outputId": "72fc5c61-7430-47df-f155-3015e8d4f9b4"
      },
      "source": [
        "from sklearn.ensemble import GradientBoostingRegressor\n",
        "gb = GradientBoostingRegressor(loss='ls', \n",
        "                               learning_rate=0.3, \n",
        "                               n_estimators=380, \n",
        "                               subsample=1.0, \n",
        "                               criterion='friedman_mse', \n",
        "                               min_samples_split=30, \n",
        "                               min_samples_leaf=1, \n",
        "                               min_weight_fraction_leaf=0.0, \n",
        "                               max_depth=7, \n",
        "                               min_impurity_decrease=0.0, \n",
        "                               min_impurity_split=None, \n",
        "                               init=None, \n",
        "                               random_state=0, \n",
        "                               max_features=None, \n",
        "                               alpha=0.9, \n",
        "                               verbose=100, \n",
        "                               max_leaf_nodes=None, \n",
        "                               warm_start=False, \n",
        "                               presort='auto')\n",
        "gb.fit(X_train, y_train)\n",
        "y_pred4 = gb.predict(X_cv)\n",
        "print('RMSLE:', sqrt(mean_squared_log_error(np.exp(y_cv), np.exp(y_pred4))))\n",
        "#RMSLE:0.11014737617371691"
      ],
      "execution_count": 148,
      "outputs": [
        {
          "output_type": "stream",
          "text": [
            "/usr/local/lib/python3.6/dist-packages/sklearn/ensemble/_gb.py:1342: FutureWarning: The parameter 'presort' is deprecated and has no effect. It will be removed in v0.24. You can suppress this warning by not passing any value to the 'presort' parameter. We also recommend using HistGradientBoosting models instead.\n",
            "  FutureWarning)\n"
          ],
          "name": "stderr"
        },
        {
          "output_type": "stream",
          "text": [
            "      Iter       Train Loss   Remaining Time \n",
            "         1           0.0243            3.61s\n",
            "         2           0.0217            3.51s\n",
            "         3           0.0203            3.49s\n",
            "         4           0.0192            3.48s\n",
            "         5           0.0186            3.43s\n",
            "         6           0.0181            3.40s\n",
            "         7           0.0177            3.37s\n",
            "         8           0.0173            3.36s\n",
            "         9           0.0170            3.34s\n",
            "        10           0.0168            3.32s\n",
            "        11           0.0164            3.30s\n",
            "        12           0.0161            3.28s\n",
            "        13           0.0158            3.27s\n",
            "        14           0.0156            3.27s\n",
            "        15           0.0154            3.26s\n",
            "        16           0.0153            3.25s\n",
            "        17           0.0151            3.24s\n",
            "        18           0.0149            3.24s\n",
            "        19           0.0148            3.24s\n",
            "        20           0.0147            3.23s\n",
            "        21           0.0146            3.22s\n",
            "        22           0.0143            3.21s\n",
            "        23           0.0141            3.26s\n",
            "        24           0.0139            3.25s\n",
            "        25           0.0137            3.24s\n",
            "        26           0.0135            3.23s\n",
            "        27           0.0133            3.21s\n",
            "        28           0.0132            3.20s\n",
            "        29           0.0131            3.20s\n",
            "        30           0.0130            3.19s\n",
            "        31           0.0128            3.18s\n",
            "        32           0.0127            3.17s\n",
            "        33           0.0127            3.16s\n",
            "        34           0.0126            3.15s\n",
            "        35           0.0125            3.14s\n",
            "        36           0.0124            3.13s\n",
            "        37           0.0123            3.12s\n",
            "        38           0.0122            3.11s\n",
            "        39           0.0121            3.10s\n",
            "        40           0.0120            3.09s\n",
            "        41           0.0119            3.09s\n",
            "        42           0.0119            3.09s\n",
            "        43           0.0118            3.08s\n",
            "        44           0.0117            3.07s\n",
            "        45           0.0117            3.07s\n",
            "        46           0.0116            3.07s\n",
            "        47           0.0116            3.06s\n",
            "        48           0.0115            3.05s\n",
            "        49           0.0114            3.04s\n",
            "        50           0.0113            3.03s\n",
            "        51           0.0112            3.02s\n",
            "        52           0.0111            3.01s\n",
            "        53           0.0110            3.00s\n",
            "        54           0.0109            2.99s\n",
            "        55           0.0108            2.98s\n",
            "        56           0.0107            2.97s\n",
            "        57           0.0107            2.96s\n",
            "        58           0.0106            2.95s\n",
            "        59           0.0105            2.94s\n",
            "        60           0.0105            2.93s\n",
            "        61           0.0104            2.92s\n",
            "        62           0.0104            2.91s\n",
            "        63           0.0103            2.91s\n",
            "        64           0.0102            2.90s\n",
            "        65           0.0102            2.89s\n",
            "        66           0.0102            2.88s\n",
            "        67           0.0101            2.87s\n",
            "        68           0.0101            2.87s\n",
            "        69           0.0100            2.86s\n",
            "        70           0.0100            2.85s\n",
            "        71           0.0099            2.84s\n",
            "        72           0.0099            2.83s\n",
            "        73           0.0098            2.82s\n",
            "        74           0.0098            2.81s\n",
            "        75           0.0097            2.80s\n",
            "        76           0.0097            2.79s\n",
            "        77           0.0096            2.78s\n",
            "        78           0.0096            2.77s\n",
            "        79           0.0095            2.76s\n",
            "        80           0.0095            2.75s\n",
            "        81           0.0094            2.75s\n",
            "        82           0.0094            2.74s\n",
            "        83           0.0093            2.73s\n",
            "        84           0.0093            2.72s\n",
            "        85           0.0093            2.71s\n",
            "        86           0.0092            2.71s\n",
            "        87           0.0092            2.70s\n",
            "        88           0.0091            2.69s\n",
            "        89           0.0091            2.69s\n",
            "        90           0.0091            2.68s\n",
            "        91           0.0091            2.67s\n",
            "        92           0.0090            2.66s\n",
            "        93           0.0090            2.65s\n",
            "        94           0.0090            2.64s\n",
            "        95           0.0089            2.63s\n",
            "        96           0.0089            2.62s\n",
            "        97           0.0089            2.61s\n",
            "        98           0.0089            2.60s\n",
            "        99           0.0088            2.59s\n",
            "       100           0.0088            2.58s\n",
            "       101           0.0087            2.57s\n",
            "       102           0.0087            2.56s\n",
            "       103           0.0086            2.55s\n",
            "       104           0.0086            2.54s\n",
            "       105           0.0086            2.53s\n",
            "       106           0.0086            2.52s\n",
            "       107           0.0086            2.51s\n",
            "       108           0.0085            2.50s\n",
            "       109           0.0085            2.49s\n",
            "       110           0.0085            2.48s\n",
            "       111           0.0085            2.47s\n",
            "       112           0.0084            2.47s\n",
            "       113           0.0084            2.46s\n",
            "       114           0.0084            2.45s\n",
            "       115           0.0084            2.44s\n",
            "       116           0.0084            2.43s\n",
            "       117           0.0083            2.42s\n",
            "       118           0.0083            2.41s\n",
            "       119           0.0083            2.40s\n",
            "       120           0.0083            2.39s\n",
            "       121           0.0083            2.38s\n",
            "       122           0.0082            2.37s\n",
            "       123           0.0082            2.37s\n",
            "       124           0.0082            2.36s\n",
            "       125           0.0082            2.35s\n",
            "       126           0.0081            2.34s\n",
            "       127           0.0081            2.33s\n",
            "       128           0.0081            2.32s\n",
            "       129           0.0080            2.31s\n",
            "       130           0.0080            2.30s\n",
            "       131           0.0080            2.29s\n",
            "       132           0.0080            2.29s\n",
            "       133           0.0079            2.28s\n",
            "       134           0.0079            2.27s\n",
            "       135           0.0079            2.26s\n",
            "       136           0.0079            2.26s\n",
            "       137           0.0079            2.25s\n",
            "       138           0.0078            2.24s\n",
            "       139           0.0078            2.23s\n",
            "       140           0.0078            2.23s\n",
            "       141           0.0078            2.22s\n",
            "       142           0.0078            2.21s\n",
            "       143           0.0077            2.20s\n",
            "       144           0.0077            2.19s\n",
            "       145           0.0077            2.18s\n",
            "       146           0.0077            2.17s\n",
            "       147           0.0076            2.16s\n",
            "       148           0.0076            2.16s\n",
            "       149           0.0076            2.15s\n",
            "       150           0.0076            2.14s\n",
            "       151           0.0076            2.13s\n",
            "       152           0.0075            2.12s\n",
            "       153           0.0075            2.11s\n",
            "       154           0.0075            2.10s\n",
            "       155           0.0075            2.09s\n",
            "       156           0.0075            2.08s\n",
            "       157           0.0075            2.07s\n",
            "       158           0.0074            2.07s\n",
            "       159           0.0074            2.06s\n",
            "       160           0.0074            2.05s\n",
            "       161           0.0074            2.04s\n",
            "       162           0.0074            2.03s\n",
            "       163           0.0073            2.02s\n",
            "       164           0.0073            2.01s\n",
            "       165           0.0073            2.00s\n",
            "       166           0.0073            1.99s\n",
            "       167           0.0073            1.98s\n",
            "       168           0.0073            1.98s\n",
            "       169           0.0072            1.97s\n",
            "       170           0.0072            1.96s\n",
            "       171           0.0072            1.95s\n",
            "       172           0.0072            1.94s\n",
            "       173           0.0072            1.93s\n",
            "       174           0.0072            1.92s\n",
            "       175           0.0071            1.91s\n",
            "       176           0.0071            1.90s\n",
            "       177           0.0071            1.89s\n",
            "       178           0.0071            1.88s\n",
            "       179           0.0071            1.87s\n",
            "       180           0.0070            1.86s\n",
            "       181           0.0070            1.85s\n",
            "       182           0.0070            1.85s\n",
            "       183           0.0070            1.84s\n",
            "       184           0.0070            1.83s\n",
            "       185           0.0070            1.82s\n",
            "       186           0.0070            1.81s\n",
            "       187           0.0069            1.80s\n",
            "       188           0.0069            1.79s\n",
            "       189           0.0069            1.78s\n",
            "       190           0.0069            1.77s\n",
            "       191           0.0069            1.76s\n",
            "       192           0.0069            1.75s\n",
            "       193           0.0069            1.74s\n",
            "       194           0.0068            1.73s\n",
            "       195           0.0068            1.72s\n",
            "       196           0.0068            1.71s\n",
            "       197           0.0068            1.70s\n",
            "       198           0.0068            1.69s\n",
            "       199           0.0068            1.68s\n",
            "       200           0.0068            1.67s\n",
            "       201           0.0068            1.67s\n",
            "       202           0.0067            1.66s\n",
            "       203           0.0067            1.65s\n",
            "       204           0.0067            1.64s\n",
            "       205           0.0067            1.63s\n",
            "       206           0.0067            1.62s\n",
            "       207           0.0067            1.61s\n",
            "       208           0.0067            1.60s\n",
            "       209           0.0066            1.59s\n",
            "       210           0.0066            1.58s\n",
            "       211           0.0066            1.57s\n",
            "       212           0.0066            1.56s\n",
            "       213           0.0066            1.55s\n",
            "       214           0.0066            1.55s\n",
            "       215           0.0066            1.54s\n",
            "       216           0.0066            1.53s\n",
            "       217           0.0066            1.52s\n",
            "       218           0.0065            1.51s\n",
            "       219           0.0065            1.50s\n",
            "       220           0.0065            1.49s\n",
            "       221           0.0065            1.48s\n",
            "       222           0.0065            1.47s\n",
            "       223           0.0065            1.46s\n",
            "       224           0.0065            1.45s\n",
            "       225           0.0065            1.44s\n",
            "       226           0.0064            1.43s\n",
            "       227           0.0064            1.42s\n",
            "       228           0.0064            1.41s\n",
            "       229           0.0064            1.41s\n",
            "       230           0.0064            1.40s\n",
            "       231           0.0064            1.39s\n",
            "       232           0.0064            1.38s\n",
            "       233           0.0064            1.37s\n",
            "       234           0.0064            1.36s\n",
            "       235           0.0063            1.35s\n",
            "       236           0.0063            1.34s\n",
            "       237           0.0063            1.33s\n",
            "       238           0.0063            1.32s\n",
            "       239           0.0063            1.31s\n",
            "       240           0.0063            1.30s\n",
            "       241           0.0063            1.29s\n",
            "       242           0.0063            1.28s\n",
            "       243           0.0063            1.27s\n",
            "       244           0.0063            1.26s\n",
            "       245           0.0063            1.26s\n",
            "       246           0.0062            1.25s\n",
            "       247           0.0062            1.24s\n",
            "       248           0.0062            1.23s\n",
            "       249           0.0062            1.22s\n",
            "       250           0.0062            1.21s\n",
            "       251           0.0062            1.20s\n",
            "       252           0.0062            1.19s\n",
            "       253           0.0062            1.18s\n",
            "       254           0.0062            1.17s\n",
            "       255           0.0062            1.16s\n",
            "       256           0.0062            1.15s\n",
            "       257           0.0061            1.14s\n",
            "       258           0.0061            1.13s\n",
            "       259           0.0061            1.13s\n",
            "       260           0.0061            1.12s\n",
            "       261           0.0061            1.11s\n",
            "       262           0.0061            1.10s\n",
            "       263           0.0061            1.09s\n",
            "       264           0.0061            1.08s\n",
            "       265           0.0061            1.07s\n",
            "       266           0.0061            1.06s\n",
            "       267           0.0061            1.05s\n",
            "       268           0.0060            1.04s\n",
            "       269           0.0060            1.03s\n",
            "       270           0.0060            1.02s\n",
            "       271           0.0060            1.01s\n",
            "       272           0.0060            1.01s\n",
            "       273           0.0060            1.00s\n",
            "       274           0.0060            0.99s\n",
            "       275           0.0060            0.98s\n",
            "       276           0.0060            0.97s\n",
            "       277           0.0060            0.96s\n",
            "       278           0.0059            0.95s\n",
            "       279           0.0059            0.94s\n",
            "       280           0.0059            0.93s\n",
            "       281           0.0059            0.92s\n",
            "       282           0.0059            0.91s\n",
            "       283           0.0059            0.90s\n",
            "       284           0.0059            0.90s\n",
            "       285           0.0059            0.89s\n",
            "       286           0.0059            0.88s\n",
            "       287           0.0059            0.87s\n",
            "       288           0.0059            0.86s\n",
            "       289           0.0058            0.85s\n",
            "       290           0.0058            0.84s\n",
            "       291           0.0058            0.83s\n",
            "       292           0.0058            0.82s\n",
            "       293           0.0058            0.81s\n",
            "       294           0.0058            0.80s\n",
            "       295           0.0058            0.79s\n",
            "       296           0.0058            0.78s\n",
            "       297           0.0058            0.77s\n",
            "       298           0.0058            0.77s\n",
            "       299           0.0058            0.76s\n",
            "       300           0.0058            0.75s\n",
            "       301           0.0058            0.74s\n",
            "       302           0.0058            0.73s\n",
            "       303           0.0058            0.72s\n",
            "       304           0.0057            0.71s\n",
            "       305           0.0057            0.70s\n",
            "       306           0.0057            0.69s\n",
            "       307           0.0057            0.68s\n",
            "       308           0.0057            0.67s\n",
            "       309           0.0057            0.66s\n",
            "       310           0.0057            0.65s\n",
            "       311           0.0057            0.64s\n",
            "       312           0.0057            0.64s\n",
            "       313           0.0057            0.63s\n",
            "       314           0.0057            0.62s\n",
            "       315           0.0057            0.61s\n",
            "       316           0.0057            0.60s\n",
            "       317           0.0057            0.59s\n",
            "       318           0.0057            0.58s\n",
            "       319           0.0056            0.57s\n",
            "       320           0.0056            0.56s\n",
            "       321           0.0056            0.55s\n",
            "       322           0.0056            0.54s\n",
            "       323           0.0056            0.54s\n",
            "       324           0.0056            0.53s\n",
            "       325           0.0056            0.52s\n",
            "       326           0.0056            0.51s\n",
            "       327           0.0056            0.50s\n",
            "       328           0.0056            0.49s\n",
            "       329           0.0056            0.48s\n",
            "       330           0.0056            0.47s\n",
            "       331           0.0056            0.46s\n",
            "       332           0.0056            0.45s\n",
            "       333           0.0056            0.44s\n",
            "       334           0.0056            0.43s\n",
            "       335           0.0056            0.42s\n",
            "       336           0.0056            0.41s\n",
            "       337           0.0055            0.40s\n",
            "       338           0.0055            0.39s\n",
            "       339           0.0055            0.39s\n",
            "       340           0.0055            0.38s\n",
            "       341           0.0055            0.37s\n",
            "       342           0.0055            0.36s\n",
            "       343           0.0055            0.35s\n",
            "       344           0.0055            0.34s\n",
            "       345           0.0055            0.33s\n",
            "       346           0.0055            0.32s\n",
            "       347           0.0055            0.31s\n",
            "       348           0.0055            0.30s\n",
            "       349           0.0055            0.29s\n",
            "       350           0.0055            0.28s\n",
            "       351           0.0055            0.27s\n",
            "       352           0.0055            0.26s\n",
            "       353           0.0055            0.25s\n",
            "       354           0.0055            0.24s\n",
            "       355           0.0055            0.23s\n",
            "       356           0.0055            0.23s\n",
            "       357           0.0054            0.22s\n",
            "       358           0.0054            0.21s\n",
            "       359           0.0054            0.20s\n",
            "       360           0.0054            0.19s\n",
            "       361           0.0054            0.18s\n",
            "       362           0.0054            0.17s\n",
            "       363           0.0054            0.16s\n",
            "       364           0.0054            0.15s\n",
            "       365           0.0054            0.14s\n",
            "       366           0.0054            0.13s\n",
            "       367           0.0054            0.12s\n",
            "       368           0.0054            0.11s\n",
            "       369           0.0054            0.10s\n",
            "       370           0.0054            0.09s\n",
            "       371           0.0054            0.08s\n",
            "       372           0.0054            0.08s\n",
            "       373           0.0054            0.07s\n",
            "       374           0.0054            0.06s\n",
            "       375           0.0054            0.05s\n",
            "       376           0.0054            0.04s\n",
            "       377           0.0054            0.03s\n",
            "       378           0.0054            0.02s\n",
            "       379           0.0054            0.01s\n",
            "       380           0.0053            0.00s\n",
            "RMSLE: 0.2034532475465655\n"
          ],
          "name": "stdout"
        }
      ]
    },
    {
      "cell_type": "code",
      "metadata": {
        "id": "eaTomqmp4V9b",
        "colab_type": "code",
        "colab": {
          "base_uri": "https://localhost:8080/",
          "height": 33
        },
        "outputId": "3e763fd8-a74e-4783-ff4e-9440f0b36b0f"
      },
      "source": [
        "y_pred = y_pred1*0.40 + y_pred2*0.10 + y_pred3*0.40 + y_pred4*0.10\n",
        "print('RMSLE:', sqrt(mean_squared_log_error(np.exp(y_cv), np.exp(y_pred))))"
      ],
      "execution_count": 152,
      "outputs": [
        {
          "output_type": "stream",
          "text": [
            "RMSLE: 0.16768366971623438\n"
          ],
          "name": "stdout"
        }
      ]
    },
    {
      "cell_type": "code",
      "metadata": {
        "id": "-dyvcKDc4AiS",
        "colab_type": "code",
        "colab": {}
      },
      "source": [
        "y_pred = np.exp(y_pred)\n"
      ],
      "execution_count": 0,
      "outputs": []
    },
    {
      "cell_type": "code",
      "metadata": {
        "id": "HqD8HhiP7Tkl",
        "colab_type": "code",
        "colab": {
          "base_uri": "https://localhost:8080/",
          "height": 50
        },
        "outputId": "09017aa2-027d-44c9-a75e-6bcec38e5f0a"
      },
      "source": [
        "y_pred"
      ],
      "execution_count": 154,
      "outputs": [
        {
          "output_type": "execute_result",
          "data": {
            "text/plain": [
              "array([59.82842859, 61.79320839, 54.4614477 , ..., 48.96960738,\n",
              "       60.51427611, 49.49825742])"
            ]
          },
          "metadata": {
            "tags": []
          },
          "execution_count": 154
        }
      ]
    },
    {
      "cell_type": "code",
      "metadata": {
        "id": "XtisDmqu7Twn",
        "colab_type": "code",
        "colab": {}
      },
      "source": [
        "gold =gold.reindex(sorted(gold.columns), axis=1)\n",
        "gold1 = gold1.reindex(sorted(gold1.columns), axis=1)"
      ],
      "execution_count": 0,
      "outputs": []
    },
    {
      "cell_type": "code",
      "metadata": {
        "id": "mbN0YVVd4Ae1",
        "colab_type": "code",
        "colab": {
          "base_uri": "https://localhost:8080/",
          "height": 33
        },
        "outputId": "ae2ed03a-c2aa-43e6-c724-45aad7aae090"
      },
      "source": [
        "print(gold.shape)"
      ],
      "execution_count": 252,
      "outputs": [
        {
          "output_type": "stream",
          "text": [
            "(10714, 17)\n"
          ],
          "name": "stdout"
        }
      ]
    },
    {
      "cell_type": "code",
      "metadata": {
        "id": "lY8DK5T-06yI",
        "colab_type": "code",
        "colab": {
          "base_uri": "https://localhost:8080/",
          "height": 33
        },
        "outputId": "9604d1ef-9342-4a46-e5a8-238390ff4c43"
      },
      "source": [
        "print(gold1.shape)"
      ],
      "execution_count": 253,
      "outputs": [
        {
          "output_type": "stream",
          "text": [
            "(14498, 16)\n"
          ],
          "name": "stdout"
        }
      ]
    },
    {
      "cell_type": "code",
      "metadata": {
        "id": "aAm92aVGFZdC",
        "colab_type": "code",
        "colab": {
          "base_uri": "https://localhost:8080/",
          "height": 100
        },
        "outputId": "0264b763-ce6f-40ec-bf09-fea7504750b4"
      },
      "source": [
        "gold.columns"
      ],
      "execution_count": 254,
      "outputs": [
        {
          "output_type": "execute_result",
          "data": {
            "text/plain": [
              "Index(['Age', 'BG', 'Charlson Index', 'Children_1.0', 'Children_2.0',\n",
              "       'FT/month_1.0', 'FT/month_2.0', 'HDL cholesterol', 'Heart rate',\n",
              "       'Infect_Prob', 'Married_YES', 'Mode_transport', 'Occupation',\n",
              "       'Platelets', 'Region', 'comorbidity', 'd-dimer'],\n",
              "      dtype='object')"
            ]
          },
          "metadata": {
            "tags": []
          },
          "execution_count": 254
        }
      ]
    },
    {
      "cell_type": "code",
      "metadata": {
        "id": "mADFoXQJGr7J",
        "colab_type": "code",
        "colab": {
          "base_uri": "https://localhost:8080/",
          "height": 100
        },
        "outputId": "b64cc347-4064-4d21-9e19-58f197cbc38b"
      },
      "source": [
        "gold1.columns"
      ],
      "execution_count": 255,
      "outputs": [
        {
          "output_type": "execute_result",
          "data": {
            "text/plain": [
              "Index(['Age', 'BG', 'Charlson Index', 'Children_1', 'Children_2', 'FT/month_1',\n",
              "       'FT/month_2', 'HDL cholesterol', 'Heart rate', 'Married_YES',\n",
              "       'Mode_transport', 'Occupation', 'Platelets', 'Region', 'comorbidity',\n",
              "       'd-dimer'],\n",
              "      dtype='object')"
            ]
          },
          "metadata": {
            "tags": []
          },
          "execution_count": 255
        }
      ]
    },
    {
      "cell_type": "code",
      "metadata": {
        "id": "n1Arn-4JGtBA",
        "colab_type": "code",
        "colab": {
          "base_uri": "https://localhost:8080/",
          "height": 316
        },
        "outputId": "09c93a67-fbf6-4897-b493-ce8d5d963105"
      },
      "source": [
        "gold.dtypes"
      ],
      "execution_count": 431,
      "outputs": [
        {
          "output_type": "execute_result",
          "data": {
            "text/plain": [
              "Occupation           int64\n",
              "Mode_transport       int64\n",
              "cases/1M             int64\n",
              "comorbidity          int64\n",
              "Age                  int64\n",
              "Platelets            int64\n",
              "d-dimer              int64\n",
              "Heart rate           int64\n",
              "HDL cholesterol      int64\n",
              "Charlson Index       int64\n",
              "Infect_Prob        float64\n",
              "BG                   int64\n",
              "Married_YES          uint8\n",
              "Children_1.0         uint8\n",
              "Children_2.0         uint8\n",
              "FT/month_1.0         uint8\n",
              "FT/month_2.0         uint8\n",
              "dtype: object"
            ]
          },
          "metadata": {
            "tags": []
          },
          "execution_count": 431
        }
      ]
    },
    {
      "cell_type": "code",
      "metadata": {
        "id": "erdrJQvXPApJ",
        "colab_type": "code",
        "colab": {
          "base_uri": "https://localhost:8080/",
          "height": 234
        },
        "outputId": "4270be8b-d9a0-4351-c64f-47392bdd6e8c"
      },
      "source": [
        "gold.head()"
      ],
      "execution_count": 432,
      "outputs": [
        {
          "output_type": "execute_result",
          "data": {
            "text/html": [
              "<div>\n",
              "<style scoped>\n",
              "    .dataframe tbody tr th:only-of-type {\n",
              "        vertical-align: middle;\n",
              "    }\n",
              "\n",
              "    .dataframe tbody tr th {\n",
              "        vertical-align: top;\n",
              "    }\n",
              "\n",
              "    .dataframe thead th {\n",
              "        text-align: right;\n",
              "    }\n",
              "</style>\n",
              "<table border=\"1\" class=\"dataframe\">\n",
              "  <thead>\n",
              "    <tr style=\"text-align: right;\">\n",
              "      <th></th>\n",
              "      <th>Occupation</th>\n",
              "      <th>Mode_transport</th>\n",
              "      <th>cases/1M</th>\n",
              "      <th>comorbidity</th>\n",
              "      <th>Age</th>\n",
              "      <th>Platelets</th>\n",
              "      <th>d-dimer</th>\n",
              "      <th>Heart rate</th>\n",
              "      <th>HDL cholesterol</th>\n",
              "      <th>Charlson Index</th>\n",
              "      <th>Infect_Prob</th>\n",
              "      <th>BG</th>\n",
              "      <th>Married_YES</th>\n",
              "      <th>Children_1.0</th>\n",
              "      <th>Children_2.0</th>\n",
              "      <th>FT/month_1.0</th>\n",
              "      <th>FT/month_2.0</th>\n",
              "    </tr>\n",
              "  </thead>\n",
              "  <tbody>\n",
              "    <tr>\n",
              "      <th>0</th>\n",
              "      <td>7</td>\n",
              "      <td>0</td>\n",
              "      <td>0</td>\n",
              "      <td>3</td>\n",
              "      <td>1</td>\n",
              "      <td>0</td>\n",
              "      <td>0</td>\n",
              "      <td>1</td>\n",
              "      <td>1</td>\n",
              "      <td>0</td>\n",
              "      <td>3.907598</td>\n",
              "      <td>1</td>\n",
              "      <td>1</td>\n",
              "      <td>1</td>\n",
              "      <td>0</td>\n",
              "      <td>1</td>\n",
              "      <td>0</td>\n",
              "    </tr>\n",
              "    <tr>\n",
              "      <th>1</th>\n",
              "      <td>9</td>\n",
              "      <td>2</td>\n",
              "      <td>0</td>\n",
              "      <td>2</td>\n",
              "      <td>1</td>\n",
              "      <td>0</td>\n",
              "      <td>1</td>\n",
              "      <td>1</td>\n",
              "      <td>1</td>\n",
              "      <td>1</td>\n",
              "      <td>3.587608</td>\n",
              "      <td>0</td>\n",
              "      <td>0</td>\n",
              "      <td>0</td>\n",
              "      <td>0</td>\n",
              "      <td>0</td>\n",
              "      <td>1</td>\n",
              "    </tr>\n",
              "    <tr>\n",
              "      <th>2</th>\n",
              "      <td>6</td>\n",
              "      <td>2</td>\n",
              "      <td>0</td>\n",
              "      <td>3</td>\n",
              "      <td>1</td>\n",
              "      <td>0</td>\n",
              "      <td>0</td>\n",
              "      <td>0</td>\n",
              "      <td>0</td>\n",
              "      <td>1</td>\n",
              "      <td>3.909393</td>\n",
              "      <td>1</td>\n",
              "      <td>1</td>\n",
              "      <td>1</td>\n",
              "      <td>0</td>\n",
              "      <td>0</td>\n",
              "      <td>0</td>\n",
              "    </tr>\n",
              "    <tr>\n",
              "      <th>3</th>\n",
              "      <td>2</td>\n",
              "      <td>1</td>\n",
              "      <td>0</td>\n",
              "      <td>2</td>\n",
              "      <td>1</td>\n",
              "      <td>0</td>\n",
              "      <td>1</td>\n",
              "      <td>1</td>\n",
              "      <td>1</td>\n",
              "      <td>0</td>\n",
              "      <td>3.945422</td>\n",
              "      <td>1</td>\n",
              "      <td>0</td>\n",
              "      <td>0</td>\n",
              "      <td>1</td>\n",
              "      <td>0</td>\n",
              "      <td>0</td>\n",
              "    </tr>\n",
              "    <tr>\n",
              "      <th>4</th>\n",
              "      <td>5</td>\n",
              "      <td>0</td>\n",
              "      <td>0</td>\n",
              "      <td>2</td>\n",
              "      <td>1</td>\n",
              "      <td>0</td>\n",
              "      <td>0</td>\n",
              "      <td>0</td>\n",
              "      <td>0</td>\n",
              "      <td>1</td>\n",
              "      <td>3.940371</td>\n",
              "      <td>0</td>\n",
              "      <td>1</td>\n",
              "      <td>0</td>\n",
              "      <td>1</td>\n",
              "      <td>0</td>\n",
              "      <td>1</td>\n",
              "    </tr>\n",
              "  </tbody>\n",
              "</table>\n",
              "</div>"
            ],
            "text/plain": [
              "   Occupation  Mode_transport  ...  FT/month_1.0  FT/month_2.0\n",
              "0           7               0  ...             1             0\n",
              "1           9               2  ...             0             1\n",
              "2           6               2  ...             0             0\n",
              "3           2               1  ...             0             0\n",
              "4           5               0  ...             0             1\n",
              "\n",
              "[5 rows x 17 columns]"
            ]
          },
          "metadata": {
            "tags": []
          },
          "execution_count": 432
        }
      ]
    },
    {
      "cell_type": "code",
      "metadata": {
        "id": "r9ZB5JoAHwOQ",
        "colab_type": "code",
        "colab": {
          "base_uri": "https://localhost:8080/",
          "height": 300
        },
        "outputId": "679bb275-341e-4c9a-e010-be7420f132ce"
      },
      "source": [
        "gold1.dtypes"
      ],
      "execution_count": 257,
      "outputs": [
        {
          "output_type": "execute_result",
          "data": {
            "text/plain": [
              "Age                  int64\n",
              "BG                   int64\n",
              "Charlson Index       int64\n",
              "Children_1           uint8\n",
              "Children_2           uint8\n",
              "FT/month_1           uint8\n",
              "FT/month_2           uint8\n",
              "HDL cholesterol      int64\n",
              "Heart rate           int64\n",
              "Married_YES          uint8\n",
              "Mode_transport       int64\n",
              "Occupation           int64\n",
              "Platelets            int64\n",
              "Region             float64\n",
              "comorbidity          int64\n",
              "d-dimer              int64\n",
              "dtype: object"
            ]
          },
          "metadata": {
            "tags": []
          },
          "execution_count": 257
        }
      ]
    },
    {
      "cell_type": "code",
      "metadata": {
        "id": "UKYkMXtwHxa1",
        "colab_type": "code",
        "colab": {}
      },
      "source": [
        "gold1['Children_1.0']=gold1['Children_1']        \n",
        "gold1['Children_2.0']=gold1['Children_2']         \n",
        "gold1['FT/month_1.0']=gold1['FT/month_1']        \n",
        "gold1['FT/month_2.0']=gold1['FT/month_2'] "
      ],
      "execution_count": 0,
      "outputs": []
    },
    {
      "cell_type": "code",
      "metadata": {
        "id": "oyF3ZIb_Isnf",
        "colab_type": "code",
        "colab": {}
      },
      "source": [
        "gold1=gold1.drop(['Children_1','Children_2','FT/month_1','FT/month_2'],axis=1)"
      ],
      "execution_count": 0,
      "outputs": []
    },
    {
      "cell_type": "code",
      "metadata": {
        "id": "HgCt13H_IuEe",
        "colab_type": "code",
        "colab": {}
      },
      "source": [
        "gold =gold.reindex(sorted(gold.columns), axis=1)\n",
        "gold1 = gold1.reindex(sorted(gold1.columns), axis=1)"
      ],
      "execution_count": 0,
      "outputs": []
    },
    {
      "cell_type": "code",
      "metadata": {
        "id": "mCPut9iaJAyB",
        "colab_type": "code",
        "colab": {
          "base_uri": "https://localhost:8080/",
          "height": 33
        },
        "outputId": "a5ae8a4f-c727-4268-9b3f-cab44f7f90cb"
      },
      "source": [
        "gold.shape"
      ],
      "execution_count": 436,
      "outputs": [
        {
          "output_type": "execute_result",
          "data": {
            "text/plain": [
              "(10714, 17)"
            ]
          },
          "metadata": {
            "tags": []
          },
          "execution_count": 436
        }
      ]
    },
    {
      "cell_type": "code",
      "metadata": {
        "id": "GJf2SXaUJAuX",
        "colab_type": "code",
        "colab": {
          "base_uri": "https://localhost:8080/",
          "height": 33
        },
        "outputId": "7133f038-1ed5-4fd6-c916-d9bd1af2a1d3"
      },
      "source": [
        "gold1.shape"
      ],
      "execution_count": 437,
      "outputs": [
        {
          "output_type": "execute_result",
          "data": {
            "text/plain": [
              "(14498, 16)"
            ]
          },
          "metadata": {
            "tags": []
          },
          "execution_count": 437
        }
      ]
    },
    {
      "cell_type": "code",
      "metadata": {
        "id": "pohf9IuNKRBR",
        "colab_type": "code",
        "colab": {
          "base_uri": "https://localhost:8080/",
          "height": 300
        },
        "outputId": "6930e611-3d81-4e12-9e6c-251cfbf66ca8"
      },
      "source": [
        "gold1.isnull().sum()"
      ],
      "execution_count": 438,
      "outputs": [
        {
          "output_type": "execute_result",
          "data": {
            "text/plain": [
              "Age                0\n",
              "BG                 0\n",
              "Charlson Index     0\n",
              "Children_1.0       0\n",
              "Children_2.0       0\n",
              "FT/month_1.0       0\n",
              "FT/month_2.0       0\n",
              "HDL cholesterol    0\n",
              "Heart rate         0\n",
              "Married_YES        0\n",
              "Mode_transport     0\n",
              "Occupation         0\n",
              "Platelets          0\n",
              "cases/1M           0\n",
              "comorbidity        0\n",
              "d-dimer            0\n",
              "dtype: int64"
            ]
          },
          "metadata": {
            "tags": []
          },
          "execution_count": 438
        }
      ]
    },
    {
      "cell_type": "code",
      "metadata": {
        "id": "T2rYc3SqKwLa",
        "colab_type": "code",
        "colab": {}
      },
      "source": [
        ""
      ],
      "execution_count": 0,
      "outputs": []
    },
    {
      "cell_type": "code",
      "metadata": {
        "id": "QdpM363HJFi9",
        "colab_type": "code",
        "colab": {
          "base_uri": "https://localhost:8080/",
          "height": 100
        },
        "outputId": "3c5b743b-c529-4e01-bc98-38a543a99e47"
      },
      "source": [
        "gold.columns\n"
      ],
      "execution_count": 439,
      "outputs": [
        {
          "output_type": "execute_result",
          "data": {
            "text/plain": [
              "Index(['Age', 'BG', 'Charlson Index', 'Children_1.0', 'Children_2.0',\n",
              "       'FT/month_1.0', 'FT/month_2.0', 'HDL cholesterol', 'Heart rate',\n",
              "       'Infect_Prob', 'Married_YES', 'Mode_transport', 'Occupation',\n",
              "       'Platelets', 'cases/1M', 'comorbidity', 'd-dimer'],\n",
              "      dtype='object')"
            ]
          },
          "metadata": {
            "tags": []
          },
          "execution_count": 439
        }
      ]
    },
    {
      "cell_type": "code",
      "metadata": {
        "id": "zm_nhxlLKT9z",
        "colab_type": "code",
        "colab": {}
      },
      "source": [
        ""
      ],
      "execution_count": 0,
      "outputs": []
    },
    {
      "cell_type": "code",
      "metadata": {
        "id": "GI8O_OxdJHW7",
        "colab_type": "code",
        "colab": {
          "base_uri": "https://localhost:8080/",
          "height": 100
        },
        "outputId": "40501f89-3b95-4d49-9196-8e87bcf59854"
      },
      "source": [
        "gold1.columns"
      ],
      "execution_count": 440,
      "outputs": [
        {
          "output_type": "execute_result",
          "data": {
            "text/plain": [
              "Index(['Age', 'BG', 'Charlson Index', 'Children_1.0', 'Children_2.0',\n",
              "       'FT/month_1.0', 'FT/month_2.0', 'HDL cholesterol', 'Heart rate',\n",
              "       'Married_YES', 'Mode_transport', 'Occupation', 'Platelets', 'cases/1M',\n",
              "       'comorbidity', 'd-dimer'],\n",
              "      dtype='object')"
            ]
          },
          "metadata": {
            "tags": []
          },
          "execution_count": 440
        }
      ]
    },
    {
      "cell_type": "code",
      "metadata": {
        "id": "cBOsW5JLJJX7",
        "colab_type": "code",
        "colab": {}
      },
      "source": [
        "X_train =gold.drop(labels='Infect_Prob', axis=1)\n",
        "y_train = gold['Infect_Prob'].values\n",
        "\n",
        "X_test = gold1"
      ],
      "execution_count": 0,
      "outputs": []
    },
    {
      "cell_type": "code",
      "metadata": {
        "id": "PqVoxlfuJW_n",
        "colab_type": "code",
        "colab": {
          "base_uri": "https://localhost:8080/",
          "height": 33
        },
        "outputId": "4d5c10fc-c9a6-401d-f99c-d9f74d8800b3"
      },
      "source": [
        "\n",
        "X_train.shape, X_test.shape"
      ],
      "execution_count": 442,
      "outputs": [
        {
          "output_type": "execute_result",
          "data": {
            "text/plain": [
              "((10714, 16), (14498, 16))"
            ]
          },
          "metadata": {
            "tags": []
          },
          "execution_count": 442
        }
      ]
    },
    {
      "cell_type": "code",
      "metadata": {
        "id": "wiTNjJ2cJW7U",
        "colab_type": "code",
        "colab": {
          "base_uri": "https://localhost:8080/",
          "height": 33
        },
        "outputId": "c113644a-1d94-4e85-e839-75d3f7e5a792"
      },
      "source": [
        "from xgboost import XGBRegressor\n",
        "xgb = XGBRegressor(max_depth=9, \n",
        "                   learning_rate=0.5, \n",
        "                   n_estimators=112, \n",
        "                   silent=False, \n",
        "                   objective='reg:linear', \n",
        "                   booster='gbtree', \n",
        "                   n_jobs=1, \n",
        "                   nthread=None, \n",
        "                   gamma=0, \n",
        "                   min_child_weight=1, \n",
        "                   max_delta_step=0, \n",
        "                   subsample=1, \n",
        "                   colsample_bytree=1, \n",
        "                   colsample_bylevel=1, \n",
        "                   reg_alpha=0.89, \n",
        "                   reg_lambda=1, \n",
        "                   scale_pos_weight=1, \n",
        "                   base_score=0.5, \n",
        "                   random_state=0, \n",
        "                   seed=None)\n",
        "xgb.fit(X_train, y_train)\n",
        "y_pred1 = xgb.predict(X_test)"
      ],
      "execution_count": 443,
      "outputs": [
        {
          "output_type": "stream",
          "text": [
            "[07:12:33] WARNING: /workspace/src/objective/regression_obj.cu:152: reg:linear is now deprecated in favor of reg:squarederror.\n"
          ],
          "name": "stdout"
        }
      ]
    },
    {
      "cell_type": "code",
      "metadata": {
        "id": "GThxpWcaJW4N",
        "colab_type": "code",
        "colab": {
          "base_uri": "https://localhost:8080/",
          "height": 50
        },
        "outputId": "1ee73874-eb87-430a-d064-c2d1ef2d62d1"
      },
      "source": [
        "import lightgbm as lgb\n",
        "train_data = lgb.Dataset(X_train, label=y_train)\n",
        "\n",
        "param = {'objective': 'regression',\n",
        "         'boosting': 'gbdt',\n",
        "         'num_iterations': 3000,   \n",
        "         'learning_rate': 0.06,  \n",
        "         'num_leaves': 40,  \n",
        "         'max_depth': 24,   \n",
        "         'min_data_in_leaf':11,  \n",
        "         'max_bin': 4, \n",
        "         'metric': 'l2_root'\n",
        "         }\n",
        "\n",
        "lgbm = lgb.train(params=param,\n",
        "                 train_set=train_data)\n",
        "\n",
        "y_pred2 = lgbm.predict(X_test)"
      ],
      "execution_count": 444,
      "outputs": [
        {
          "output_type": "stream",
          "text": [
            "/usr/local/lib/python3.6/dist-packages/lightgbm/engine.py:118: UserWarning: Found `num_iterations` in params. Will use it instead of argument\n",
            "  warnings.warn(\"Found `{}` in params. Will use it instead of argument\".format(alias))\n"
          ],
          "name": "stderr"
        }
      ]
    },
    {
      "cell_type": "code",
      "metadata": {
        "id": "YmaqLE_qJW1C",
        "colab_type": "code",
        "colab": {}
      },
      "source": [
        "from sklearn.ensemble import BaggingRegressor\n",
        "br = BaggingRegressor(base_estimator=None, \n",
        "                      n_estimators=50, \n",
        "                      max_samples=1.0, \n",
        "                      max_features=1.0, \n",
        "                      bootstrap=True, \n",
        "                      bootstrap_features=False, \n",
        "                      oob_score=False, \n",
        "                      warm_start=False, \n",
        "                      n_jobs=1, \n",
        "                      random_state=1, \n",
        "                      verbose=0)\n",
        "br.fit(X_train, y_train)\n",
        "y_pred3 = br.predict(X_test)"
      ],
      "execution_count": 0,
      "outputs": []
    },
    {
      "cell_type": "code",
      "metadata": {
        "id": "uJvjU5gGJWyD",
        "colab_type": "code",
        "colab": {
          "base_uri": "https://localhost:8080/",
          "height": 1000
        },
        "outputId": "38e975cc-fa52-4715-94a9-6c56a7b7ec9e"
      },
      "source": [
        "from sklearn.ensemble import GradientBoostingRegressor\n",
        "gb = GradientBoostingRegressor(loss='ls', \n",
        "                               learning_rate=0.3, \n",
        "                               n_estimators=380, \n",
        "                               subsample=1.0, \n",
        "                               criterion='friedman_mse', \n",
        "                               min_samples_split=30, \n",
        "                               min_samples_leaf=1, \n",
        "                               min_weight_fraction_leaf=0.0, \n",
        "                               max_depth=7, \n",
        "                               min_impurity_decrease=0.0, \n",
        "                               min_impurity_split=None, \n",
        "                               init=None, \n",
        "                               random_state=0, \n",
        "                               max_features=None, \n",
        "                               alpha=0.9, \n",
        "                               verbose=100, \n",
        "                               max_leaf_nodes=None, \n",
        "                               warm_start=False, \n",
        "                               presort='auto')\n",
        "gb.fit(X_train, y_train)\n",
        "y_pred4 = gb.predict(X_test)"
      ],
      "execution_count": 446,
      "outputs": [
        {
          "output_type": "stream",
          "text": [
            "/usr/local/lib/python3.6/dist-packages/sklearn/ensemble/_gb.py:1342: FutureWarning: The parameter 'presort' is deprecated and has no effect. It will be removed in v0.24. You can suppress this warning by not passing any value to the 'presort' parameter. We also recommend using HistGradientBoosting models instead.\n",
            "  FutureWarning)\n"
          ],
          "name": "stderr"
        },
        {
          "output_type": "stream",
          "text": [
            "      Iter       Train Loss   Remaining Time \n",
            "         1           0.0251            7.53s\n",
            "         2           0.0223            6.69s\n",
            "         3           0.0207            6.36s\n",
            "         4           0.0196            6.18s\n",
            "         5           0.0189            5.98s\n",
            "         6           0.0184            5.85s\n",
            "         7           0.0178            5.75s\n",
            "         8           0.0173            5.66s\n",
            "         9           0.0170            5.60s\n",
            "        10           0.0167            5.54s\n",
            "        11           0.0163            5.49s\n",
            "        12           0.0159            5.45s\n",
            "        13           0.0156            5.41s\n",
            "        14           0.0153            5.49s\n",
            "        15           0.0150            5.46s\n",
            "        16           0.0147            5.42s\n",
            "        17           0.0145            5.39s\n",
            "        18           0.0143            5.36s\n",
            "        19           0.0141            5.33s\n",
            "        20           0.0139            5.31s\n",
            "        21           0.0137            5.28s\n",
            "        22           0.0135            5.25s\n",
            "        23           0.0133            5.23s\n",
            "        24           0.0131            5.20s\n",
            "        25           0.0129            5.18s\n",
            "        26           0.0128            5.16s\n",
            "        27           0.0127            5.14s\n",
            "        28           0.0125            5.13s\n",
            "        29           0.0124            5.14s\n",
            "        30           0.0122            5.13s\n",
            "        31           0.0121            5.14s\n",
            "        32           0.0120            5.12s\n",
            "        33           0.0119            5.10s\n",
            "        34           0.0117            5.08s\n",
            "        35           0.0116            5.07s\n",
            "        36           0.0115            5.05s\n",
            "        37           0.0114            5.03s\n",
            "        38           0.0113            5.01s\n",
            "        39           0.0111            4.99s\n",
            "        40           0.0111            4.97s\n",
            "        41           0.0110            4.96s\n",
            "        42           0.0109            4.94s\n",
            "        43           0.0108            4.94s\n",
            "        44           0.0106            4.93s\n",
            "        45           0.0106            4.91s\n",
            "        46           0.0105            4.89s\n",
            "        47           0.0104            4.89s\n",
            "        48           0.0103            4.87s\n",
            "        49           0.0102            4.87s\n",
            "        50           0.0101            4.85s\n",
            "        51           0.0100            4.83s\n",
            "        52           0.0099            4.82s\n",
            "        53           0.0098            4.80s\n",
            "        54           0.0097            4.78s\n",
            "        55           0.0096            4.76s\n",
            "        56           0.0096            4.75s\n",
            "        57           0.0095            4.74s\n",
            "        58           0.0094            4.73s\n",
            "        59           0.0093            4.71s\n",
            "        60           0.0092            4.69s\n",
            "        61           0.0092            4.67s\n",
            "        62           0.0091            4.66s\n",
            "        63           0.0090            4.64s\n",
            "        64           0.0089            4.63s\n",
            "        65           0.0089            4.61s\n",
            "        66           0.0088            4.60s\n",
            "        67           0.0087            4.58s\n",
            "        68           0.0086            4.56s\n",
            "        69           0.0086            4.55s\n",
            "        70           0.0085            4.53s\n",
            "        71           0.0084            4.51s\n",
            "        72           0.0084            4.51s\n",
            "        73           0.0083            4.49s\n",
            "        74           0.0083            4.47s\n",
            "        75           0.0082            4.46s\n",
            "        76           0.0081            4.44s\n",
            "        77           0.0081            4.43s\n",
            "        78           0.0080            4.41s\n",
            "        79           0.0080            4.40s\n",
            "        80           0.0079            4.38s\n",
            "        81           0.0079            4.37s\n",
            "        82           0.0078            4.35s\n",
            "        83           0.0078            4.34s\n",
            "        84           0.0077            4.32s\n",
            "        85           0.0077            4.31s\n",
            "        86           0.0076            4.29s\n",
            "        87           0.0076            4.28s\n",
            "        88           0.0076            4.27s\n",
            "        89           0.0075            4.25s\n",
            "        90           0.0074            4.23s\n",
            "        91           0.0074            4.22s\n",
            "        92           0.0074            4.20s\n",
            "        93           0.0073            4.19s\n",
            "        94           0.0073            4.17s\n",
            "        95           0.0072            4.15s\n",
            "        96           0.0072            4.14s\n",
            "        97           0.0072            4.12s\n",
            "        98           0.0071            4.11s\n",
            "        99           0.0071            4.10s\n",
            "       100           0.0070            4.08s\n",
            "       101           0.0070            4.08s\n",
            "       102           0.0069            4.06s\n",
            "       103           0.0069            4.05s\n",
            "       104           0.0069            4.04s\n",
            "       105           0.0069            4.02s\n",
            "       106           0.0068            4.01s\n",
            "       107           0.0068            3.99s\n",
            "       108           0.0068            3.98s\n",
            "       109           0.0067            3.96s\n",
            "       110           0.0067            3.95s\n",
            "       111           0.0067            3.93s\n",
            "       112           0.0066            3.92s\n",
            "       113           0.0066            3.90s\n",
            "       114           0.0065            3.89s\n",
            "       115           0.0065            3.88s\n",
            "       116           0.0065            3.86s\n",
            "       117           0.0064            3.85s\n",
            "       118           0.0064            3.83s\n",
            "       119           0.0064            3.82s\n",
            "       120           0.0063            3.80s\n",
            "       121           0.0063            3.79s\n",
            "       122           0.0063            3.77s\n",
            "       123           0.0063            3.76s\n",
            "       124           0.0062            3.74s\n",
            "       125           0.0062            3.73s\n",
            "       126           0.0062            3.71s\n",
            "       127           0.0061            3.70s\n",
            "       128           0.0061            3.68s\n",
            "       129           0.0061            3.67s\n",
            "       130           0.0060            3.66s\n",
            "       131           0.0060            3.64s\n",
            "       132           0.0060            3.63s\n",
            "       133           0.0060            3.61s\n",
            "       134           0.0059            3.59s\n",
            "       135           0.0059            3.58s\n",
            "       136           0.0059            3.56s\n",
            "       137           0.0059            3.55s\n",
            "       138           0.0059            3.54s\n",
            "       139           0.0058            3.52s\n",
            "       140           0.0058            3.51s\n",
            "       141           0.0058            3.49s\n",
            "       142           0.0058            3.48s\n",
            "       143           0.0057            3.46s\n",
            "       144           0.0057            3.45s\n",
            "       145           0.0057            3.44s\n",
            "       146           0.0057            3.42s\n",
            "       147           0.0057            3.41s\n",
            "       148           0.0056            3.39s\n",
            "       149           0.0056            3.38s\n",
            "       150           0.0056            3.36s\n",
            "       151           0.0056            3.35s\n",
            "       152           0.0055            3.33s\n",
            "       153           0.0055            3.32s\n",
            "       154           0.0055            3.30s\n",
            "       155           0.0055            3.29s\n",
            "       156           0.0055            3.27s\n",
            "       157           0.0054            3.26s\n",
            "       158           0.0054            3.24s\n",
            "       159           0.0054            3.23s\n",
            "       160           0.0054            3.21s\n",
            "       161           0.0053            3.20s\n",
            "       162           0.0053            3.18s\n",
            "       163           0.0053            3.17s\n",
            "       164           0.0053            3.15s\n",
            "       165           0.0053            3.14s\n",
            "       166           0.0053            3.12s\n",
            "       167           0.0052            3.11s\n",
            "       168           0.0052            3.09s\n",
            "       169           0.0052            3.08s\n",
            "       170           0.0052            3.06s\n",
            "       171           0.0052            3.05s\n",
            "       172           0.0051            3.03s\n",
            "       173           0.0051            3.02s\n",
            "       174           0.0051            3.01s\n",
            "       175           0.0051            2.99s\n",
            "       176           0.0051            2.98s\n",
            "       177           0.0051            2.97s\n",
            "       178           0.0050            2.95s\n",
            "       179           0.0050            2.94s\n",
            "       180           0.0050            2.92s\n",
            "       181           0.0050            2.91s\n",
            "       182           0.0050            2.89s\n",
            "       183           0.0050            2.88s\n",
            "       184           0.0050            2.86s\n",
            "       185           0.0049            2.85s\n",
            "       186           0.0049            2.83s\n",
            "       187           0.0049            2.82s\n",
            "       188           0.0049            2.81s\n",
            "       189           0.0049            2.79s\n",
            "       190           0.0049            2.78s\n",
            "       191           0.0049            2.76s\n",
            "       192           0.0048            2.75s\n",
            "       193           0.0048            2.73s\n",
            "       194           0.0048            2.72s\n",
            "       195           0.0048            2.70s\n",
            "       196           0.0048            2.69s\n",
            "       197           0.0048            2.67s\n",
            "       198           0.0047            2.66s\n",
            "       199           0.0047            2.65s\n",
            "       200           0.0047            2.63s\n",
            "       201           0.0047            2.62s\n",
            "       202           0.0047            2.60s\n",
            "       203           0.0047            2.59s\n",
            "       204           0.0046            2.57s\n",
            "       205           0.0046            2.56s\n",
            "       206           0.0046            2.54s\n",
            "       207           0.0046            2.53s\n",
            "       208           0.0046            2.51s\n",
            "       209           0.0046            2.50s\n",
            "       210           0.0045            2.48s\n",
            "       211           0.0045            2.47s\n",
            "       212           0.0045            2.45s\n",
            "       213           0.0045            2.44s\n",
            "       214           0.0045            2.42s\n",
            "       215           0.0045            2.41s\n",
            "       216           0.0045            2.40s\n",
            "       217           0.0045            2.38s\n",
            "       218           0.0044            2.37s\n",
            "       219           0.0044            2.35s\n",
            "       220           0.0044            2.34s\n",
            "       221           0.0044            2.32s\n",
            "       222           0.0044            2.31s\n",
            "       223           0.0044            2.30s\n",
            "       224           0.0044            2.28s\n",
            "       225           0.0043            2.27s\n",
            "       226           0.0043            2.25s\n",
            "       227           0.0043            2.24s\n",
            "       228           0.0043            2.22s\n",
            "       229           0.0043            2.21s\n",
            "       230           0.0043            2.19s\n",
            "       231           0.0043            2.18s\n",
            "       232           0.0042            2.16s\n",
            "       233           0.0042            2.15s\n",
            "       234           0.0042            2.13s\n",
            "       235           0.0042            2.12s\n",
            "       236           0.0042            2.10s\n",
            "       237           0.0042            2.09s\n",
            "       238           0.0042            2.07s\n",
            "       239           0.0042            2.06s\n",
            "       240           0.0042            2.04s\n",
            "       241           0.0042            2.03s\n",
            "       242           0.0041            2.01s\n",
            "       243           0.0041            2.00s\n",
            "       244           0.0041            1.99s\n",
            "       245           0.0041            1.97s\n",
            "       246           0.0041            1.96s\n",
            "       247           0.0041            1.94s\n",
            "       248           0.0041            1.93s\n",
            "       249           0.0041            1.91s\n",
            "       250           0.0041            1.90s\n",
            "       251           0.0041            1.88s\n",
            "       252           0.0040            1.87s\n",
            "       253           0.0040            1.85s\n",
            "       254           0.0040            1.84s\n",
            "       255           0.0040            1.82s\n",
            "       256           0.0040            1.81s\n",
            "       257           0.0040            1.80s\n",
            "       258           0.0040            1.78s\n",
            "       259           0.0040            1.77s\n",
            "       260           0.0040            1.75s\n",
            "       261           0.0040            1.74s\n",
            "       262           0.0039            1.72s\n",
            "       263           0.0039            1.71s\n",
            "       264           0.0039            1.69s\n",
            "       265           0.0039            1.68s\n",
            "       266           0.0039            1.67s\n",
            "       267           0.0039            1.65s\n",
            "       268           0.0039            1.64s\n",
            "       269           0.0039            1.62s\n",
            "       270           0.0039            1.61s\n",
            "       271           0.0039            1.59s\n",
            "       272           0.0039            1.58s\n",
            "       273           0.0038            1.56s\n",
            "       274           0.0038            1.55s\n",
            "       275           0.0038            1.53s\n",
            "       276           0.0038            1.52s\n",
            "       277           0.0038            1.51s\n",
            "       278           0.0038            1.49s\n",
            "       279           0.0038            1.48s\n",
            "       280           0.0038            1.46s\n",
            "       281           0.0038            1.45s\n",
            "       282           0.0038            1.43s\n",
            "       283           0.0038            1.42s\n",
            "       284           0.0037            1.40s\n",
            "       285           0.0037            1.39s\n",
            "       286           0.0037            1.38s\n",
            "       287           0.0037            1.36s\n",
            "       288           0.0037            1.35s\n",
            "       289           0.0037            1.33s\n",
            "       290           0.0037            1.32s\n",
            "       291           0.0037            1.30s\n",
            "       292           0.0037            1.29s\n",
            "       293           0.0037            1.27s\n",
            "       294           0.0036            1.26s\n",
            "       295           0.0036            1.25s\n",
            "       296           0.0036            1.23s\n",
            "       297           0.0036            1.22s\n",
            "       298           0.0036            1.20s\n",
            "       299           0.0036            1.19s\n",
            "       300           0.0036            1.17s\n",
            "       301           0.0036            1.16s\n",
            "       302           0.0036            1.15s\n",
            "       303           0.0036            1.13s\n",
            "       304           0.0036            1.12s\n",
            "       305           0.0036            1.10s\n",
            "       306           0.0036            1.09s\n",
            "       307           0.0036            1.07s\n",
            "       308           0.0035            1.06s\n",
            "       309           0.0035            1.04s\n",
            "       310           0.0035            1.03s\n",
            "       311           0.0035            1.01s\n",
            "       312           0.0035            1.00s\n",
            "       313           0.0035            0.98s\n",
            "       314           0.0035            0.97s\n",
            "       315           0.0035            0.96s\n",
            "       316           0.0035            0.94s\n",
            "       317           0.0035            0.93s\n",
            "       318           0.0035            0.91s\n",
            "       319           0.0035            0.90s\n",
            "       320           0.0035            0.88s\n",
            "       321           0.0035            0.87s\n",
            "       322           0.0034            0.85s\n",
            "       323           0.0034            0.84s\n",
            "       324           0.0034            0.82s\n",
            "       325           0.0034            0.81s\n",
            "       326           0.0034            0.79s\n",
            "       327           0.0034            0.78s\n",
            "       328           0.0034            0.76s\n",
            "       329           0.0034            0.75s\n",
            "       330           0.0034            0.74s\n",
            "       331           0.0034            0.72s\n",
            "       332           0.0034            0.71s\n",
            "       333           0.0034            0.69s\n",
            "       334           0.0034            0.68s\n",
            "       335           0.0034            0.66s\n",
            "       336           0.0034            0.65s\n",
            "       337           0.0034            0.63s\n",
            "       338           0.0033            0.62s\n",
            "       339           0.0033            0.60s\n",
            "       340           0.0033            0.59s\n",
            "       341           0.0033            0.57s\n",
            "       342           0.0033            0.56s\n",
            "       343           0.0033            0.54s\n",
            "       344           0.0033            0.53s\n",
            "       345           0.0033            0.51s\n",
            "       346           0.0033            0.50s\n",
            "       347           0.0033            0.49s\n",
            "       348           0.0033            0.47s\n",
            "       349           0.0033            0.46s\n",
            "       350           0.0033            0.44s\n",
            "       351           0.0033            0.43s\n",
            "       352           0.0033            0.41s\n",
            "       353           0.0032            0.40s\n",
            "       354           0.0032            0.38s\n",
            "       355           0.0032            0.37s\n",
            "       356           0.0032            0.35s\n",
            "       357           0.0032            0.34s\n",
            "       358           0.0032            0.32s\n",
            "       359           0.0032            0.31s\n",
            "       360           0.0032            0.29s\n",
            "       361           0.0032            0.28s\n",
            "       362           0.0032            0.26s\n",
            "       363           0.0032            0.25s\n",
            "       364           0.0032            0.24s\n",
            "       365           0.0032            0.22s\n",
            "       366           0.0032            0.21s\n",
            "       367           0.0032            0.19s\n",
            "       368           0.0032            0.18s\n",
            "       369           0.0032            0.16s\n",
            "       370           0.0032            0.15s\n",
            "       371           0.0032            0.13s\n",
            "       372           0.0032            0.12s\n",
            "       373           0.0031            0.10s\n",
            "       374           0.0031            0.09s\n",
            "       375           0.0031            0.07s\n",
            "       376           0.0031            0.06s\n",
            "       377           0.0031            0.04s\n",
            "       378           0.0031            0.03s\n",
            "       379           0.0031            0.01s\n",
            "       380           0.0031            0.00s\n"
          ],
          "name": "stdout"
        }
      ]
    },
    {
      "cell_type": "code",
      "metadata": {
        "id": "oB1EjnDWJWt4",
        "colab_type": "code",
        "colab": {}
      },
      "source": [
        "y_pred = y_pred1*0.45 + y_pred2*0.15 + y_pred3*0.35+ y_pred4*0.05"
      ],
      "execution_count": 0,
      "outputs": []
    },
    {
      "cell_type": "code",
      "metadata": {
        "id": "SBejBIc0PWGG",
        "colab_type": "code",
        "colab": {}
      },
      "source": [
        "y_pred = np.exp(y_pred)"
      ],
      "execution_count": 0,
      "outputs": []
    },
    {
      "cell_type": "code",
      "metadata": {
        "id": "FtNQ8uqjPN5I",
        "colab_type": "code",
        "colab": {
          "base_uri": "https://localhost:8080/",
          "height": 33
        },
        "outputId": "89899fef-e014-4387-a229-5d2ddb272215"
      },
      "source": [
        "y_pred[:5]"
      ],
      "execution_count": 449,
      "outputs": [
        {
          "output_type": "execute_result",
          "data": {
            "text/plain": [
              "array([54.31767612, 54.00553665, 53.92548852, 54.05139096, 53.82793615])"
            ]
          },
          "metadata": {
            "tags": []
          },
          "execution_count": 449
        }
      ]
    },
    {
      "cell_type": "code",
      "metadata": {
        "id": "ADl9DG7hSbtO",
        "colab_type": "code",
        "colab": {
          "base_uri": "https://localhost:8080/",
          "height": 161
        },
        "outputId": "971bb64a-f825-49b4-b3e7-0a853a3cb97b"
      },
      "source": [
        "df_suby['people_ID']=gold1['people_ID']"
      ],
      "execution_count": 455,
      "outputs": [
        {
          "output_type": "error",
          "ename": "NameError",
          "evalue": "ignored",
          "traceback": [
            "\u001b[0;31m---------------------------------------------------------------------------\u001b[0m",
            "\u001b[0;31mNameError\u001b[0m                                 Traceback (most recent call last)",
            "\u001b[0;32m<ipython-input-455-826551369b3e>\u001b[0m in \u001b[0;36m<module>\u001b[0;34m()\u001b[0m\n\u001b[0;32m----> 1\u001b[0;31m \u001b[0mdf_suby\u001b[0m\u001b[0;34m[\u001b[0m\u001b[0;34m'people_ID'\u001b[0m\u001b[0;34m]\u001b[0m\u001b[0;34m=\u001b[0m\u001b[0mgold1\u001b[0m\u001b[0;34m[\u001b[0m\u001b[0;34m'people_ID'\u001b[0m\u001b[0;34m]\u001b[0m\u001b[0;34m\u001b[0m\u001b[0;34m\u001b[0m\u001b[0m\n\u001b[0m",
            "\u001b[0;31mNameError\u001b[0m: name 'df_suby' is not defined"
          ]
        }
      ]
    },
    {
      "cell_type": "code",
      "metadata": {
        "id": "ICK2yZArSqgB",
        "colab_type": "code",
        "colab": {
          "base_uri": "https://localhost:8080/",
          "height": 197
        },
        "outputId": "43bf49eb-42bd-48d2-bad6-a7c3e4a6243c"
      },
      "source": [
        "df_sub.head()"
      ],
      "execution_count": 454,
      "outputs": [
        {
          "output_type": "execute_result",
          "data": {
            "text/html": [
              "<div>\n",
              "<style scoped>\n",
              "    .dataframe tbody tr th:only-of-type {\n",
              "        vertical-align: middle;\n",
              "    }\n",
              "\n",
              "    .dataframe tbody tr th {\n",
              "        vertical-align: top;\n",
              "    }\n",
              "\n",
              "    .dataframe thead th {\n",
              "        text-align: right;\n",
              "    }\n",
              "</style>\n",
              "<table border=\"1\" class=\"dataframe\">\n",
              "  <thead>\n",
              "    <tr style=\"text-align: right;\">\n",
              "      <th></th>\n",
              "      <th>infect_prob</th>\n",
              "      <th>people_ID</th>\n",
              "    </tr>\n",
              "  </thead>\n",
              "  <tbody>\n",
              "    <tr>\n",
              "      <th>0</th>\n",
              "      <td>54.317676</td>\n",
              "      <td>5942</td>\n",
              "    </tr>\n",
              "    <tr>\n",
              "      <th>1</th>\n",
              "      <td>54.005537</td>\n",
              "      <td>18664</td>\n",
              "    </tr>\n",
              "    <tr>\n",
              "      <th>2</th>\n",
              "      <td>53.925489</td>\n",
              "      <td>5603</td>\n",
              "    </tr>\n",
              "    <tr>\n",
              "      <th>3</th>\n",
              "      <td>54.051391</td>\n",
              "      <td>5649</td>\n",
              "    </tr>\n",
              "    <tr>\n",
              "      <th>4</th>\n",
              "      <td>53.827936</td>\n",
              "      <td>5099</td>\n",
              "    </tr>\n",
              "  </tbody>\n",
              "</table>\n",
              "</div>"
            ],
            "text/plain": [
              "   infect_prob  people_ID\n",
              "0    54.317676       5942\n",
              "1    54.005537      18664\n",
              "2    53.925489       5603\n",
              "3    54.051391       5649\n",
              "4    53.827936       5099"
            ]
          },
          "metadata": {
            "tags": []
          },
          "execution_count": 454
        }
      ]
    },
    {
      "cell_type": "code",
      "metadata": {
        "id": "56f5dZQwPOGq",
        "colab_type": "code",
        "colab": {}
      },
      "source": [
        "\n",
        "df_sub = pd.DataFrame(data=y_pred, columns=['infect_prob'])\n",
        "writer = pd.ExcelWriter('Output1.xlsx')\n",
        "df_sub.to_excel(writer,sheet_name='Sheet1', index=False)\n",
        "writer.save()"
      ],
      "execution_count": 0,
      "outputs": []
    },
    {
      "cell_type": "code",
      "metadata": {
        "id": "Qcbq0XepJWqL",
        "colab_type": "code",
        "colab": {}
      },
      "source": [
        ""
      ],
      "execution_count": 0,
      "outputs": []
    },
    {
      "cell_type": "code",
      "metadata": {
        "id": "Ucv_Vh4LR8zW",
        "colab_type": "code",
        "colab": {}
      },
      "source": [
        "from google.colab import files\n",
        "files.download('Output1.xlsx') \n"
      ],
      "execution_count": 0,
      "outputs": []
    },
    {
      "cell_type": "code",
      "metadata": {
        "id": "nPYEG6pQR8uR",
        "colab_type": "code",
        "colab": {}
      },
      "source": [
        ""
      ],
      "execution_count": 0,
      "outputs": []
    }
  ]
}